{
  "cells": [
    {
      "cell_type": "markdown",
      "metadata": {
        "id": "view-in-github",
        "colab_type": "text"
      },
      "source": [
        "<a href=\"https://colab.research.google.com/github/Angel-Castro-RC/Final_NLP/blob/main/F3_2_AutoTokenization.ipynb\" target=\"_parent\"><img src=\"https://colab.research.google.com/assets/colab-badge.svg\" alt=\"Open In Colab\"/></a>"
      ]
    },
    {
      "cell_type": "markdown",
      "metadata": {
        "id": "C192SOmJS6lw"
      },
      "source": [
        "# CS 195: Natural Language Processing\n",
        "## Automatic Tokenization\n",
        "\n",
        "[![Open In Colab](https://colab.research.google.com/assets/colab-badge.svg)](https://colab.research.google.com/github/ericmanley/f23-CS195NLP/blob/main/F3_2_AutoTokenization.ipynb)\n"
      ]
    },
    {
      "cell_type": "markdown",
      "metadata": {
        "id": "8f5FsuKAcwAl"
      },
      "source": [
        "## Wrapping the output in Colab\n",
        "\n",
        "Gabe found the following resource on how to get Google Colab to wrap the output of a cell: https://stackoverflow.com/questions/58890109/line-wrapping-in-collaboratory-google-results\n",
        "\n",
        "In short, put the following into a cell and run it:"
      ]
    },
    {
      "cell_type": "code",
      "source": [],
      "metadata": {
        "id": "JF7Sct0qeQ4f"
      },
      "execution_count": null,
      "outputs": []
    },
    {
      "cell_type": "code",
      "execution_count": 1,
      "metadata": {
        "id": "HiCO59ykcwAm"
      },
      "outputs": [],
      "source": [
        "from IPython.display import HTML, display\n",
        "\n",
        "def set_css():\n",
        "  display(HTML('''\n",
        "  <style>\n",
        "    pre {\n",
        "        white-space: pre-wrap;\n",
        "    }\n",
        "  </style>\n",
        "  '''))\n",
        "get_ipython().events.register('pre_run_cell', set_css)"
      ]
    },
    {
      "cell_type": "markdown",
      "metadata": {
        "id": "t_cxgDHTcwAo"
      },
      "source": [
        "## References\n",
        "\n",
        "Python `requests` library quickstart: https://requests.readthedocs.io/en/latest/user/quickstart/\n",
        "\n",
        "Beautiful Soup documentation: https://www.crummy.com/software/BeautifulSoup/bs4/doc/\n",
        "\n",
        "GPT Tokenizer Illustration: https://platform.openai.com/tokenizer\n",
        "\n",
        "Python `split` method: https://docs.python.org/3/library/stdtypes.html#str.split\n",
        "\n",
        "Hugging Face Byte-Pair Encoding tokenization: https://huggingface.co/learn/nlp-course/chapter6/5?fw=pt\n",
        "\n",
        "Hugging Face WordPiece tokenization: https://huggingface.co/learn/nlp-course/chapter6/6?fw=pt"
      ]
    },
    {
      "cell_type": "code",
      "execution_count": 2,
      "metadata": {
        "id": "YRTiz8KbcwAo",
        "outputId": "0584aaca-0632-4e32-95ac-48bbb063f511",
        "colab": {
          "base_uri": "https://localhost:8080/",
          "height": 428
        }
      },
      "outputs": [
        {
          "output_type": "display_data",
          "data": {
            "text/plain": [
              "<IPython.core.display.HTML object>"
            ],
            "text/html": [
              "\n",
              "  <style>\n",
              "    pre {\n",
              "        white-space: pre-wrap;\n",
              "    }\n",
              "  </style>\n",
              "  "
            ]
          },
          "metadata": {}
        },
        {
          "output_type": "stream",
          "name": "stdout",
          "text": [
            "Requirement already satisfied: requests in /usr/local/lib/python3.10/dist-packages (2.31.0)\n",
            "Requirement already satisfied: chardet in /usr/local/lib/python3.10/dist-packages (5.2.0)\n",
            "Requirement already satisfied: nltk in /usr/local/lib/python3.10/dist-packages (3.8.1)\n",
            "Requirement already satisfied: beautifulsoup4 in /usr/local/lib/python3.10/dist-packages (4.11.2)\n",
            "Requirement already satisfied: tokenizers in /usr/local/lib/python3.10/dist-packages (0.15.0)\n",
            "Requirement already satisfied: transformers in /usr/local/lib/python3.10/dist-packages (4.35.2)\n",
            "Requirement already satisfied: charset-normalizer<4,>=2 in /usr/local/lib/python3.10/dist-packages (from requests) (3.3.2)\n",
            "Requirement already satisfied: idna<4,>=2.5 in /usr/local/lib/python3.10/dist-packages (from requests) (3.6)\n",
            "Requirement already satisfied: urllib3<3,>=1.21.1 in /usr/local/lib/python3.10/dist-packages (from requests) (2.0.7)\n",
            "Requirement already satisfied: certifi>=2017.4.17 in /usr/local/lib/python3.10/dist-packages (from requests) (2023.11.17)\n",
            "Requirement already satisfied: click in /usr/local/lib/python3.10/dist-packages (from nltk) (8.1.7)\n",
            "Requirement already satisfied: joblib in /usr/local/lib/python3.10/dist-packages (from nltk) (1.3.2)\n",
            "Requirement already satisfied: regex>=2021.8.3 in /usr/local/lib/python3.10/dist-packages (from nltk) (2023.6.3)\n",
            "Requirement already satisfied: tqdm in /usr/local/lib/python3.10/dist-packages (from nltk) (4.66.1)\n",
            "Requirement already satisfied: soupsieve>1.2 in /usr/local/lib/python3.10/dist-packages (from beautifulsoup4) (2.5)\n",
            "Requirement already satisfied: huggingface_hub<1.0,>=0.16.4 in /usr/local/lib/python3.10/dist-packages (from tokenizers) (0.19.4)\n",
            "Requirement already satisfied: filelock in /usr/local/lib/python3.10/dist-packages (from transformers) (3.13.1)\n",
            "Requirement already satisfied: numpy>=1.17 in /usr/local/lib/python3.10/dist-packages (from transformers) (1.23.5)\n",
            "Requirement already satisfied: packaging>=20.0 in /usr/local/lib/python3.10/dist-packages (from transformers) (23.2)\n",
            "Requirement already satisfied: pyyaml>=5.1 in /usr/local/lib/python3.10/dist-packages (from transformers) (6.0.1)\n",
            "Requirement already satisfied: safetensors>=0.3.1 in /usr/local/lib/python3.10/dist-packages (from transformers) (0.4.1)\n",
            "Requirement already satisfied: fsspec>=2023.5.0 in /usr/local/lib/python3.10/dist-packages (from huggingface_hub<1.0,>=0.16.4->tokenizers) (2023.6.0)\n",
            "Requirement already satisfied: typing-extensions>=3.7.4.3 in /usr/local/lib/python3.10/dist-packages (from huggingface_hub<1.0,>=0.16.4->tokenizers) (4.5.0)\n"
          ]
        }
      ],
      "source": [
        "import sys\n",
        "!{sys.executable} -m pip install requests chardet nltk beautifulsoup4 tokenizers transformers"
      ]
    },
    {
      "cell_type": "code",
      "execution_count": null,
      "metadata": {
        "id": "VAOshfd5cwAp",
        "outputId": "fa409d21-5ba2-4689-80df-95d10d7d3a45"
      },
      "outputs": [
        {
          "data": {
            "text/html": [
              "\n",
              "  <style>\n",
              "    pre {\n",
              "        white-space: pre-wrap;\n",
              "    }\n",
              "  </style>\n",
              "  "
            ],
            "text/plain": [
              "<IPython.core.display.HTML object>"
            ]
          },
          "metadata": {},
          "output_type": "display_data"
        }
      ],
      "source": [
        "#you shouldn't need to do this in Colab, but I had to do it on my own machine\n",
        "#in order to connect to the nltk service\n",
        "import nltk\n",
        "import ssl\n",
        "\n",
        "try:\n",
        "    _create_unverified_https_context = ssl._create_unverified_context\n",
        "except AttributeError:\n",
        "    pass\n",
        "else:\n",
        "    ssl._create_default_https_context = _create_unverified_https_context\n"
      ]
    },
    {
      "cell_type": "markdown",
      "metadata": {
        "id": "DfVsn1oGcwAq"
      },
      "source": [
        "## Working with HTML data\n",
        "\n",
        "Most data you retrieve from the web is not in text format - it is usually has lots of html tags like `<title>`, `</br>`, and `<p>`.\n"
      ]
    },
    {
      "cell_type": "code",
      "execution_count": null,
      "metadata": {
        "id": "P15rlMpgcwAr"
      },
      "outputs": [],
      "source": [
        "import requests\n",
        "\n",
        "response = requests.get(\"https://en.wikipedia.org/wiki/Sherlock_Holmes\")\n",
        "\n",
        "print(response)\n",
        "print(response.headers)"
      ]
    },
    {
      "cell_type": "code",
      "source": [
        "import requests\n",
        "\n",
        "response1 = requests.get(\"https://en.wikipedia.org/wiki/Canelo_%C3%81lvarez\")\n",
        "\n",
        "print(response)\n",
        "print(response.headers)"
      ],
      "metadata": {
        "colab": {
          "base_uri": "https://localhost:8080/"
        },
        "id": "LerzDWY-2Kng",
        "outputId": "be7168c0-45a7-470c-b642-ecedaec65828"
      },
      "execution_count": null,
      "outputs": [
        {
          "output_type": "stream",
          "name": "stdout",
          "text": [
            "<Response [200]>\n",
            "{'date': 'Sun, 08 Oct 2023 14:58:11 GMT', 'server': 'mw1353.eqiad.wmnet', 'x-content-type-options': 'nosniff', 'content-language': 'en', 'accept-ch': '', 'vary': 'Accept-Encoding,Cookie', 'last-modified': 'Mon, 02 Oct 2023 16:52:52 GMT', 'content-type': 'text/html; charset=UTF-8', 'content-encoding': 'gzip', 'age': '135080', 'x-cache': 'cp1081 hit, cp1083 hit/52', 'x-cache-status': 'hit-front', 'server-timing': 'cache;desc=\"hit-front\", host;desc=\"cp1083\"', 'strict-transport-security': 'max-age=106384710; includeSubDomains; preload', 'report-to': '{ \"group\": \"wm_nel\", \"max_age\": 604800, \"endpoints\": [{ \"url\": \"https://intake-logging.wikimedia.org/v1/events?stream=w3c.reportingapi.network_error&schema_uri=/w3c/reportingapi/network_error/1.0.0\" }] }', 'nel': '{ \"report_to\": \"wm_nel\", \"max_age\": 604800, \"failure_fraction\": 0.05, \"success_fraction\": 0.0}', 'set-cookie': 'WMF-Last-Access=10-Oct-2023;Path=/;HttpOnly;secure;Expires=Sat, 11 Nov 2023 00:00:00 GMT, WMF-Last-Access-Global=10-Oct-2023;Path=/;Domain=.wikipedia.org;HttpOnly;secure;Expires=Sat, 11 Nov 2023 00:00:00 GMT, WMF-DP=977;Path=/;HttpOnly;secure;Expires=Tue, 10 Oct 2023 00:00:00 GMT, GeoIP=US:IA:Council_Bluffs:41.26:-95.85:v4; Path=/; secure; Domain=.wikipedia.org, NetworkProbeLimit=0.001;Path=/;Secure;Max-Age=3600', 'x-client-ip': '35.188.119.72', 'cache-control': 'private, s-maxage=0, max-age=0, must-revalidate', 'accept-ranges': 'bytes', 'content-length': '99217'}\n"
          ]
        }
      ]
    },
    {
      "cell_type": "code",
      "execution_count": null,
      "metadata": {
        "id": "mz_iZqR6cwAr",
        "outputId": "7eb0dbd7-7797-48fe-f133-2cf022785066",
        "colab": {
          "base_uri": "https://localhost:8080/",
          "height": 143
        }
      },
      "outputs": [
        {
          "output_type": "execute_result",
          "data": {
            "text/plain": [
              "'<!DOCTYPE html>\\n<html class=\"client-nojs vector-feature-language-in-header-enabled vector-feature-language-in-main-page-header-disabled vector-feature-sticky-header-disabled vector-feature-page-tools-pinned-disabled vector-feature-toc-pinned-clientpref-1 vector-feature-main-menu-pinned-disabled vector-feature-limited-width-clientpref-1 vector-feature-limited-width-content-enabled vector-feature-zebra-design-disabled vector-feature-custom-font-size-clientpref-disabled vector-feature-client-preferences-disabled vector-feature-typography-survey-disabled vector-toc-available\" lang=\"en\" dir=\"ltr\">\\n<head>\\n<meta charset=\"UTF-8\">\\n<title>Canelo Álvarez - Wikipedia</title>\\n<script>(function(){var className=\"client-js vector-feature-language-in-header-enabled vector-feature-language-in-main-page-header-disabled vector-feature-sticky-header-disabled vector-feature-page-tools-pinned-disabled vector-feature-toc-pinned-clientpref-1 vector-feature-main-menu-pinned-disabled vector-feature-limited-width-clientpref-1 vector-feature-limited-width-content-enabled vector-feature-zebra-design-disabled vector-feature-custom-font-size-clientpref-disabled vector-feature-client-preferences-disabled vector-feature-typography-survey-disabled vector-toc-available\";var cookie=document.cookie.match(/(?:^|; )enwikimwclientpreferences=([^;]+)/);if(cookie){cookie[1].split(\\'%2C\\').forEach(function(pref){className=className.replace(new RegExp(\\'(^| )\\'+pref.replace(/-clientpref-\\\\w+$|[^\\\\w-]+/g,\\'\\')+\\'-clientpref-\\\\\\\\w+( |$)\\'),\\'$1\\'+pref+\\'$2\\');});}document.documentElement.className=className;}());RLCONF={\"wgBreakFrames\":false,\"wgSeparatorTransformTable\":[\"\",\"\"],\"wgDigitTransformTable\":[\"\",\"\"],\\n\"wgDefaultDateFormat\":\"dmy\",\"wgMonthNames\":[\"\",\"January\",\"February\",\"March\",\"April\",\"May\",\"June\",\"July\",\"August\",\"September\",\"October\",\"November\",\"December\"],\"wgRequestId\":\"509e6d1c-acf6-4ee0-a60a-0f06d6f1765d\",\"wgCanonicalNamespace\":\"\",\"wgCanonicalSpecialPageName\":false,\"wgNamespaceNumber\":0,\"wgPageName\":\"Canelo_Álvarez\",\"wgTitle\":\"Canelo Álvarez\",\"wgCurRevisionId\":1178274514,\"wgRevisionId\":1178274514,\"wgArticleId\":23198975,\"wgIsArticle\":true,\"wgIsRedirect\":false,\"wgAction\":\"view\",\"wgUserName\":null,\"wgUserGroups\":[\"*\"],\"wgCategories\":[\"CS1 Spanish-language sources (es)\",\"All articles with dead external links\",\"Articles with dead external links from September 2023\",\"Articles with permanently dead external links\",\"Articles with short description\",\"Short description is different from Wikidata\",\"Wikipedia indefinitely semi-protected biographies of living people\",\"Use dmy dates from January 2020\",\"Pages with Latin American Spanish IPA\",\\n\"Articles with hatnote templates targeting a nonexistent page\",\"Commons category link from Wikidata\",\"Pages with login required references or sources\",\"Boxers from Guadalajara, Jalisco\",\"World Boxing Association champions\",\"World Boxing Council champions\",\"Welterweight boxers\",\"Mexican male boxers\",\"1990 births\",\"Living people\",\"The Ring (magazine) champions\",\"World Boxing O'"
            ],
            "application/vnd.google.colaboratory.intrinsic+json": {
              "type": "string"
            }
          },
          "metadata": {},
          "execution_count": 5
        }
      ],
      "source": [
        "response1.text[:3000]"
      ]
    },
    {
      "cell_type": "markdown",
      "metadata": {
        "id": "7effurnicwAs"
      },
      "source": [
        "## Beautiful Soup\n",
        "\n",
        "The Beautiful Soup package is great for *parsing* and manipulating HTML: https://www.crummy.com/software/BeautifulSoup/bs4/doc/"
      ]
    },
    {
      "cell_type": "code",
      "execution_count": null,
      "metadata": {
        "id": "Xc8SR4KlcwAs",
        "outputId": "eed9fbe4-9668-48ae-cf6f-2da94db8642d",
        "colab": {
          "base_uri": "https://localhost:8080/",
          "height": 17
        }
      },
      "outputs": [
        {
          "output_type": "display_data",
          "data": {
            "text/plain": [
              "<IPython.core.display.HTML object>"
            ],
            "text/html": [
              "\n",
              "  <style>\n",
              "    pre {\n",
              "        white-space: pre-wrap;\n",
              "    }\n",
              "  </style>\n",
              "  "
            ]
          },
          "metadata": {}
        }
      ],
      "source": [
        "from bs4 import BeautifulSoup\n",
        "import requests\n",
        "\n",
        "response = requests.get(\"https://en.wikipedia.org/wiki/Sherlock_Holmes\")\n",
        "sherlock_wiki_html = BeautifulSoup(response.text, 'html.parser')"
      ]
    },
    {
      "cell_type": "markdown",
      "metadata": {
        "id": "rM0f1G9XcwAt"
      },
      "source": [
        "You can look for a title tag:"
      ]
    },
    {
      "cell_type": "code",
      "execution_count": null,
      "metadata": {
        "id": "b9IueX9ecwAt",
        "outputId": "e2075be4-05f3-4d7c-e471-d173d18ec1ef",
        "colab": {
          "base_uri": "https://localhost:8080/",
          "height": 35
        }
      },
      "outputs": [
        {
          "output_type": "display_data",
          "data": {
            "text/plain": [
              "<IPython.core.display.HTML object>"
            ],
            "text/html": [
              "\n",
              "  <style>\n",
              "    pre {\n",
              "        white-space: pre-wrap;\n",
              "    }\n",
              "  </style>\n",
              "  "
            ]
          },
          "metadata": {}
        },
        {
          "output_type": "stream",
          "name": "stdout",
          "text": [
            "<title>Sherlock Holmes - Wikipedia</title>\n"
          ]
        }
      ],
      "source": [
        "print(sherlock_wiki_html.title)\n"
      ]
    },
    {
      "cell_type": "code",
      "source": [
        "paragraphs = sherlock_wiki_html.find_all('p')\n",
        "for p in paragraphs[:100]:\n",
        "    print(p.get_text())"
      ],
      "metadata": {
        "colab": {
          "base_uri": "https://localhost:8080/",
          "height": 1000
        },
        "id": "vi7QFg1-kJjl",
        "outputId": "f1e6d534-81d9-45ae-d9b9-f8d3e588bea5"
      },
      "execution_count": null,
      "outputs": [
        {
          "output_type": "display_data",
          "data": {
            "text/plain": [
              "<IPython.core.display.HTML object>"
            ],
            "text/html": [
              "\n",
              "  <style>\n",
              "    pre {\n",
              "        white-space: pre-wrap;\n",
              "    }\n",
              "  </style>\n",
              "  "
            ]
          },
          "metadata": {}
        },
        {
          "output_type": "stream",
          "name": "stdout",
          "text": [
            "\n",
            "\n",
            "Sherlock Holmes (/ˈʃɜːrlɒk ˈhoʊmz/) is a fictional detective created by British author Arthur Conan Doyle. Referring to himself as a \"consulting detective\" in the stories, Holmes is known for his proficiency with observation, deduction, forensic science and logical reasoning that borders on the fantastic, which he employs when investigating cases for a wide variety of clients, including Scotland Yard.\n",
            "\n",
            "First appearing in print in 1887's A Study in Scarlet, the character's popularity became widespread with the first series of short stories in The Strand Magazine, beginning with \"A Scandal in Bohemia\" in 1891; additional tales appeared from then until 1927, eventually totalling four novels and 56 short stories. All but one[a] are set in the Victorian or Edwardian eras, between about 1880 and 1914. Most are narrated by the character of Holmes's friend and biographer Dr. John H. Watson, who usually accompanies Holmes during his investigations and often shares quarters with him at the address of 221B Baker Street, London, where many of the stories begin.\n",
            "\n",
            "Though not the first fictional detective, Sherlock Holmes is arguably the best known.[1] By the 1990s, there were already over 25,000 stage adaptations, films, television productions and publications featuring the detective,[2] and Guinness World Records lists him as the most portrayed human literary character in film and television history.[3] Holmes's popularity and fame are such that many have believed him to be not a fictional character but a real individual;[4][5][6] numerous literary and fan societies have been founded on this pretence. Avid readers of the Holmes stories helped create the modern practice of fandom.[7] The character and stories have had a profound and lasting effect on mystery writing and popular culture as a whole, with the original tales as well as thousands written by authors other than Conan Doyle being adapted into stage and radio plays, television, films, video games, and other media for over one hundred years.\n",
            "\n",
            "Edgar Allan Poe's C. Auguste Dupin is generally acknowledged as the first detective in fiction and served as the prototype for many later characters, including Holmes.[8] Conan Doyle once wrote, \"Each [of Poe's detective stories] is a root from which a whole literature has developed ... Where was the detective story until Poe breathed the breath of life into it?\"[9] Similarly, the stories of Émile Gaboriau's Monsieur Lecoq were extremely popular at the time Conan Doyle began writing Holmes, and Holmes's speech and behaviour sometimes follow those of Lecoq.[10][11] Doyle has his main characters discuss these literary antecedents near the beginning of A Study in Scarlet, which is set soon after Watson is first introduced to Holmes. Watson attempts to compliment Holmes by comparing him to Dupin, to which Holmes replies that he found Dupin to be \"a very inferior fellow\" and Lecoq to be \"a miserable bungler\".[12]\n",
            "\n",
            "Conan Doyle repeatedly said that Holmes was inspired by the real-life figure of Joseph Bell, a surgeon at the Royal Infirmary of Edinburgh, whom Conan Doyle met in 1877 and had worked for as a clerk. Like Holmes, Bell was noted for drawing broad conclusions from minute observations.[13] However, he later wrote to Conan Doyle: \"You are yourself Sherlock Holmes and well you know it\".[14] Sir Henry Littlejohn, Chair of Medical Jurisprudence at the University of Edinburgh Medical School, is also cited as an inspiration for Holmes. Littlejohn, who was also Police Surgeon and Medical Officer of Health in Edinburgh, provided Conan Doyle with a link between medical investigation and the detection of crime.[15]\n",
            "\n",
            "Other possible inspirations have been proposed, though never acknowledged by Doyle, such as Maximilien Heller, by French author Henry Cauvain. In this 1871 novel (sixteen years before the first appearance of Sherlock Holmes), Henry Cauvain imagined a depressed, anti-social, opium-smoking polymath detective, operating in Paris.[16][17][18] It is not known if Conan Doyle read the novel, but he was fluent in French.[19] Similarly, Michael Harrison suggested that a German self-styled \"consulting detective\" named Walter Scherer may have been the model for Holmes.[20]\n",
            "\n",
            "Details of Sherlock Holmes's life in Conan Doyle's stories are scarce and often vague. Nevertheless, mentions of his early life and extended family paint a loose biographical picture of the detective.\n",
            "\n",
            "A statement of Holmes's age in \"His Last Bow\" places his year of birth at 1854; the story, set in August 1914, describes him as sixty years of age.[21] His parents are not mentioned, although Holmes mentions that his \"ancestors\" were \"country squires\". In \"The Adventure of the Greek Interpreter\", he claims that his grandmother was sister to the French artist Vernet, without clarifying whether this was Claude Joseph, Carle, or Horace Vernet. Holmes's brother Mycroft, seven years his senior, is a government official. Mycroft has a unique civil service position as a kind of human database for all aspects of government policy. Sherlock describes his brother as the more intelligent of the two, but notes that Mycroft lacks any interest in physical investigation, preferring to spend his time at the Diogenes Club.[22][23]\n",
            "\n",
            "Holmes says that he first developed his methods of deduction as an undergraduate; his earliest cases, which he pursued as an amateur, came from fellow university students.[24] A meeting with a classmate's father led him to adopt detection as a profession.[25]\n",
            "\n",
            "In the first Holmes tale, A Study in Scarlet, financial difficulties lead Holmes and Dr. Watson to share rooms together at 221B Baker Street, London.[26] Their residence is maintained by their landlady, Mrs. Hudson.[27] Holmes works as a detective for twenty-three years, with Watson assisting him for seventeen of those years.[28] Most of the stories are frame narratives written from Watson's point of view, as summaries of the detective's most interesting cases. Holmes frequently calls Watson's records of Holmes's cases sensational and populist, suggesting that they fail to accurately and objectively report the \"science\" of his craft:\n",
            "\n",
            "Detection is, or ought to be, an exact science and should be treated in the same cold and unemotional manner. You have attempted to tinge it [A Study in Scarlet] with romanticism, which produces much the same effect as if you worked a love-story or an elopement into the fifth proposition of Euclid. ... Some facts should be suppressed, or, at least, a just sense of proportion should be observed in treating them. The only point in the case which deserved mention was the curious analytical reasoning from effects to causes, by which I succeeded in unravelling it.[29]\n",
            "Nevertheless, when Holmes recorded a case himself, he was forced to concede that he could more easily understand the need to write it in a manner that would appeal to the public rather than his intention to focus on his own technical skill.[30]\n",
            "\n",
            "Holmes's friendship with Watson is his most significant relationship. When Watson is injured by a bullet, although the wound turns out to be \"quite superficial\", Watson is moved by Holmes's reaction:\n",
            "\n",
            "It was worth a wound; it was worth many wounds; to know the depth of loyalty and love which lay behind that cold mask. The clear, hard eyes were dimmed for a moment, and the firm lips were shaking. For the one and only time I caught a glimpse of a great heart as well as of a great brain. All my years of humble but single-minded service culminated in that moment of revelation.[31]\n",
            "After confirming Watson's assessment of the wound, Holmes makes it clear to their opponent that the man would not have left the room alive if he genuinely had killed Watson.[31]\n",
            "\n",
            "Holmes's clients vary from the most powerful monarchs and governments of Europe, to wealthy aristocrats and industrialists, to impoverished pawnbrokers and governesses. He is known only in select professional circles at the beginning of the first story, but is already collaborating with Scotland Yard. However, his continued work and the publication of Watson's stories raise Holmes's profile, and he rapidly becomes well known as a detective; so many clients ask for his help instead of (or in addition to) that of the police[32] that, Watson writes, by 1887 \"Europe was ringing with his name\"[33] and by 1895 Holmes has \"an immense practice\".[34] Police outside London ask Holmes for assistance if he is nearby.[35] A Prime Minister[36] and the King of Bohemia[37] visit 221B Baker Street in person to request Holmes's assistance; the President of France awards him the Legion of Honour for capturing an assassin;[38] the King of Scandinavia is a client;[39] and he aids the Vatican at least twice.[40] The detective acts on behalf of the British government in matters of national security several times,[41] and declines a knighthood \"for services which may perhaps some day be described\".[42] However, he does not actively seek fame and is usually content to let the police take public credit for his work.[43]\n",
            "\n",
            "The first set of Holmes stories was published between 1887 and 1893. Conan Doyle killed off Holmes in a final battle with the criminal mastermind Professor James Moriarty[44] in \"The Final Problem\" (published 1893, but set in 1891), as Conan Doyle felt that \"my literary energies should not be directed too much into one channel.\"[45] However, the reaction of the public surprised Doyle very much. Distressed readers wrote anguished letters to The Strand Magazine, which suffered a terrible blow when 20,000 people cancelled their subscriptions to the magazine in protest.[46] Conan Doyle himself received many protest letters, and one lady even began her letter with \"You brute\".[46] Legend has it that Londoners were so distraught upon hearing the news of Holmes's death that they wore black armbands in mourning, though there is no known contemporary source for this; the earliest known reference to such events comes from 1949.[47] However, the recorded public reaction to Holmes's death was unlike anything previously seen for fictional events.[7]\n",
            "\n",
            "After resisting public pressure for eight years, Conan Doyle wrote The Hound of the Baskervilles (serialised in 1901–02, with an implicit setting before Holmes's death). In 1903, Conan Doyle wrote \"The Adventure of the Empty House\"; set in 1894, Holmes reappears, explaining to a stunned Watson that he had faked his death to fool his enemies.[48] Following \"The Adventure of the Empty House\", Conan Doyle would sporadically write new Holmes stories until 1927.\n",
            "Holmes aficionados refer to the period from 1891 to 1894—between his disappearance and presumed death in \"The Final Problem\" and his reappearance in \"The Adventure of the Empty House\"—as the Great Hiatus.[49] The earliest known use of this expression dates to 1946.[50]\n",
            "\n",
            "In His Last Bow, the reader is told that Holmes has retired to a small farm on the Sussex Downs and taken up beekeeping as his primary occupation.[51] The move is not dated precisely, but can be presumed to be no later than 1904 (since it is referred to retrospectively in \"The Adventure of the Second Stain\", first published that year).[52] The story features Holmes and Watson coming out of retirement to aid the British war effort. Only one other adventure, \"The Adventure of the Lion's Mane\", takes place during the detective's retirement.[53]\n",
            "\n",
            "Watson describes Holmes as \"bohemian\" in his habits and lifestyle.[54] Said to have a \"cat-like\" love of personal cleanliness,[55] at the same time Holmes is an eccentric with no regard for contemporary standards of tidiness or good order. Watson describes him as\n",
            "\n",
            "in his personal habits one of the most untidy men that ever drove a fellow-lodger to distraction. [He] keeps his cigars in the coal-scuttle, his tobacco in the toe end of a Persian slipper, and his unanswered correspondence transfixed by a jack-knife into the very centre of his wooden mantelpiece. ... He had a horror of destroying documents.... Thus month after month his papers accumulated, until every corner of the room was stacked with bundles of manuscript which were on no account to be burned, and which could not be put away save by their owner.[56]\n",
            "While Holmes can be dispassionate and cold, during an investigation he is animated and excitable. He has a flair for showmanship, often keeping his methods and evidence hidden until the last possible moment so as to impress observers.[57] His companion condones the detective's willingness to bend the truth (or break the law) on behalf of a client—lying to the police, concealing evidence or breaking into houses—when he feels it morally justifiable.[58]\n",
            "\n",
            "Except for that of Watson, Holmes avoids casual company. In \"The Gloria Scott\", he tells the doctor that during two years at college he made only one friend: \"I was never a very sociable fellow, Watson ... I never mixed much with the men of my year\".[59] The detective goes without food at times of intense intellectual activity, believing that \"the faculties become refined when you starve them.\"[60][61] At times Holmes relaxes with music, either playing the violin,[62] or enjoying the works of composers such as Wagner[63] and Pablo de Sarasate.[64]\n",
            "\n",
            "Holmes occasionally uses addictive drugs, especially in the absence of stimulating cases.[65] He sometimes used morphine and sometimes cocaine, the latter of which he injects in a seven-per cent solution; both drugs were legal in 19th-century England.[66][67][68] As a physician, Watson strongly disapproves of his friend's cocaine habit, describing it as the detective's only vice, and concerned about its effect on Holmes's mental health and intellect.[69][70] In \"The Adventure of the Missing Three-Quarter\", Watson says that although he has \"weaned\" Holmes from drugs, the detective remains an addict whose habit is \"not dead, but merely sleeping\".[71]\n",
            "\n",
            "Watson and Holmes both use tobacco, smoking cigarettes, cigars, and pipes. Although his chronicler does not consider Holmes's smoking a vice per se, Watson—a physician—does criticise the detective for creating a \"poisonous atmosphere\" in their confined quarters.[72][73]\n",
            "\n",
            "Holmes is known to charge clients for his expenses and claim any reward offered for a problem's solution, such as in \"The Adventure of the Speckled Band\", \"The Red-Headed League\", and \"The Adventure of the Beryl Coronet\". The detective states at one point that \"My professional charges are upon a fixed scale. I do not vary them, save when I remit them altogether\". In this context, a client is offering to double his fee, and it is implied that wealthy clients habitually pay Holmes more than his standard rate.[74] In \"The Adventure of the Priory School\", Holmes earns a £6,000 fee[75] (at a time where annual expenses for a rising young professional were in the area of £500).[76] However, Watson notes that Holmes would refuse to help even the wealthy and powerful if their cases did not interest him.[77]\n",
            "\n",
            "As Conan Doyle wrote to Joseph Bell, \"Holmes is as inhuman as a Babbage's Calculating Machine and just about as likely to fall in love\".[78] Holmes says of himself that he is \"not a whole-souled admirer of womankind\",[79] and that he finds \"the motives of women ... inscrutable. ... How can you build on such quicksand? Their most trivial actions may mean volumes...\"[80] In The Sign of Four, he says, \"Women are never to be entirely trusted—not the best of them\", a feeling Watson notes as an \"atrocious sentiment\".[81] In \"The Adventure of the Lion's Mane\", Holmes writes, \"Women have seldom been an attraction to me, for my brain has always governed my heart\".[82] At the end of The Sign of Four, Holmes states that \"love is an emotional thing, and whatever is emotional is opposed to that true, cold reason which I place above all things. I should never marry myself, lest I bias my judgement.\"[83] Ultimately, Holmes claims outright that \"I have never loved\".[84]\n",
            "\n",
            "But while Watson says that the detective has an \"aversion to women\",[85] he also notes Holmes as having \"a peculiarly ingratiating way with [them]\".[86] Watson notes that their housekeeper Mrs. Hudson is fond of Holmes because of his \"remarkable gentleness and courtesy in his dealings with women. He disliked and distrusted the sex, but he was always a chivalrous opponent\".[87] However, in \"The Adventure of Charles Augustus Milverton\", the detective becomes engaged under false pretenses in order to obtain information about a case, abandoning the woman once he has the information he requires.[88]\n",
            "\n",
            "Irene Adler is a retired American opera singer and actress who appears in \"A Scandal in Bohemia\". Although this is her only appearance, she is one of only a handful of people who best Holmes in a battle of wits, and the only woman. For this reason, Adler is the frequent subject of pastiche writing.[89] The beginning of the story describes the high regard in which Holmes holds her:\n",
            "\n",
            "To Sherlock Holmes she is always the woman. I have seldom heard him mention her under any other name. In his eyes she eclipses and predominates the whole of her sex. It was not that he felt any emotion akin to love for Irene Adler. ... And yet there was but one woman to him, and that woman was the late Irene Adler, of dubious and questionable memory.[90]\n",
            "Five years before the story's events, Adler had a brief liaison with Crown Prince of Bohemia Wilhelm von Ormstein. As the story opens, the Prince is engaged to another. Fearful that the marriage would be called off if his fiancée's family learns of this past impropriety, Ormstein hires Holmes to regain a photograph of Adler and himself. Adler slips away before Holmes can succeed. Her memory is kept alive by the photograph of Adler that Holmes received for his part in the case.[91]\n",
            "\n",
            "Shortly after meeting Holmes in the first story, A Study in Scarlet (generally assumed to be 1881, though the exact date is not given), Watson assesses the detective's abilities:\n",
            "\n",
            "In A Study in Scarlet, Holmes claims to be unaware that the Earth revolves around the Sun since such information is irrelevant to his work; after hearing that fact from Watson, he says he will immediately try to forget it. The detective believes that the mind has a finite capacity for information storage, and learning useless things reduces one's ability to learn useful things.[93] The later stories move away from this notion: in The Valley of Fear, he says, \"All knowledge comes useful to the detective\",[94] and in \"The Adventure of the Lion's Mane\", the detective calls himself \"an omnivorous reader with a strangely retentive memory for trifles\".[95] Looking back on the development of the character in 1912, Conan Doyle wrote that \"In the first one, the Study in Scarlet, [Holmes] was a mere calculating machine, but I had to make him more of an educated human being as I went on with him.\"[96]\n",
            "\n",
            "Despite Holmes's supposed ignorance of politics, in \"A Scandal in Bohemia\" he immediately recognises the true identity of the disguised \"Count von Kramm\".[37] At the end of A Study in Scarlet, Holmes demonstrates a knowledge of Latin.[97] The detective cites Hafez,[98] Goethe,[99] as well as a letter from Gustave Flaubert to George Sand in the original French.[100] In The Hound of the Baskervilles, the detective recognises works by Godfrey Kneller and Joshua Reynolds: \"Watson won't allow that I know anything of art, but that is mere jealousy since our views upon the subject differ\".[101] In \"The Adventure of the Bruce-Partington Plans\", Watson says that \"Holmes lost himself in a monograph which he had undertaken upon the Polyphonic Motets of Lassus\", considered \"the last word\" on the subject—which must have been the result of an intensive and very specialized musicological study which could have had no possible application to the solution of criminal mysteries.[102][103]\n",
            "\n",
            "Holmes is a cryptanalyst, telling Watson that \"I am fairly familiar with all forms of secret writing, and am myself the author of a trifling monograph upon the subject, in which I analyse one hundred and sixty separate ciphers\".[104] Holmes also demonstrates a knowledge of psychology in \"A Scandal in Bohemia\", luring Irene Adler into betraying where she hid a photograph based on the premise that a woman will rush to save her most valued possession from a fire.[105] Another example is in \"The Adventure of the Blue Carbuncle\", where Holmes obtains information from a salesman with a wager: \"When you see a man with whiskers of that cut and the 'Pink 'un' protruding out of his pocket, you can always draw him by a bet .... I daresay that if I had put 100 pounds down in front of him, that man would not have given me such complete information as was drawn from him by the idea that he was doing me on a wager\".[106]\n",
            "\n",
            "Maria Konnikova points out in an interview with D. J. Grothe that Holmes practises what is now called mindfulness, concentrating on one thing at a time, and almost never \"multitasks\". She adds that in this he predates the science showing how helpful this is to the brain.[107]\n",
            "\n",
            "Holmes observes the dress and attitude of his clients and suspects, noting skin marks (such as tattoos), contamination (such as ink stains or clay on boots), emotional state, and physical condition in order to deduce their origins and recent history. The style and state of wear of a person's clothes and personal items are also commonly relied on; in the stories Holmes is seen applying his method to items such as walking sticks,[108] pipes,[109] and hats.[110] For example, in \"A Scandal in Bohemia\", Holmes infers that Watson had got wet lately and had \"a most clumsy and careless servant girl\". When Watson asks how Holmes knows this, the detective answers:\n",
            "\n",
            "It is simplicity itself ... my eyes tell me that on the inside of your left shoe, just where the firelight strikes it, the leather is scored by six almost parallel cuts. Obviously they have been caused by someone who has very carelessly scraped round the edges of the sole in order to remove crusted mud from it. Hence, you see, my double deduction that you had been out in vile weather, and that you had a particularly malignant boot-slitting specimen of the London slavey.[111]\n",
            "In the first Holmes story, A Study in Scarlet, Dr. Watson compares Holmes to C. Auguste Dupin, Edgar Allan Poe's fictional detective, who employed a similar methodology. Alluding to an episode in \"The Murders in the Rue Morgue\", where Dupin determines what his friend is thinking despite their having walked together in silence for a quarter of an hour, Holmes remarks: \"That trick of his breaking in on his friend's thoughts with an apropos remark... is really very showy and superficial\".[112] Nevertheless, Holmes later performs the same 'trick' on Watson in \"The Cardboard Box\"[113] and \"The Adventure of the Dancing Men\".[114]\n",
            "\n",
            "Though the stories always refer to Holmes's intellectual detection method as \"deduction\", he primarily relies on abduction: inferring an explanation for observed details.[115][116][117] \"From a drop of water\", he writes, \"a logician could infer the possibility of an Atlantic or a Niagara without having seen or heard of one or the other\".[118] However, Holmes does employ deductive reasoning as well. The detective's guiding principle, as he says in The Sign of Four, is: \"When you have eliminated the impossible, whatever remains, however improbable, must be the truth.\"[119]\n",
            "\n",
            "Despite Holmes's remarkable reasoning abilities, Conan Doyle still paints him as fallible in this regard (this being a central theme of \"The Yellow Face\").[120]\n",
            "\n",
            "Though Holmes is famed for his reasoning capabilities, his investigative technique relies heavily on the acquisition of hard evidence. Many of the techniques he employs in the stories were at the time in their infancy.[121][122]\n",
            "\n",
            "The detective is particularly skilled in the analysis of trace evidence and other physical evidence, including latent prints (such as footprints, hoof prints, and shoe and tire impressions) to identify actions at a crime scene;[123] using tobacco ashes and cigarette butts to identify criminals;[124] handwriting analysis and graphology;[125] comparing typewritten letters to expose a fraud;[126] using gunpowder residue to expose two murderers;[127] and analyzing small pieces of human remains to expose two murders.[128]\n",
            "\n",
            "Because of the small scale of much of his evidence, the detective often uses a magnifying glass at the scene and an optical microscope at his Baker Street lodgings. He uses analytical chemistry for blood residue analysis and toxicology to detect poisons; Holmes's home chemistry laboratory is mentioned in \"The Naval Treaty\".[129] Ballistics feature in \"The Adventure of the Empty House\" when spent bullets are recovered to be matched with a suspected murder weapon, a practice which became regular police procedure only some fifteen years after the story was published.[130]\n",
            "\n",
            "Laura J. Snyder has examined Holmes's methods in the context of mid- to late-19th-century criminology, demonstrating that, while sometimes in advance of what official investigative departments were formally using at the time, they were based upon existing methods and techniques. For example, fingerprints were proposed to be distinct in Conan Doyle's day, and while Holmes used a thumbprint to solve a crime in \"The Adventure of the Norwood Builder\" (generally held to be set in 1895), the story was published in 1903, two years after Scotland Yard's fingerprint bureau opened.[122][131] Though the effect of the Holmes stories on the development of forensic science has thus often been overstated, Holmes inspired future generations of forensic scientists to think scientifically and analytically.[132]\n",
            "\n",
            "Holmes displays a strong aptitude for acting and disguise. In several stories (\"The Sign of Four\", \"The Adventure of Charles Augustus Milverton\", \"The Man with the Twisted Lip\", \"The Adventure of the Empty House\" and \"A Scandal in Bohemia\"), to gather evidence undercover he uses disguises so convincing that Watson fails to recognise him. In others (\"The Adventure of the Dying Detective\" and \"A Scandal in Bohemia\"), Holmes feigns injury or illness to incriminate the guilty. In the latter story, Watson says, \"The stage lost a fine actor ... when [Holmes] became a specialist in crime\".[133]\n",
            "\n",
            "Guy Mankowski has said of Holmes that his ability to change his appearance to blend into any situation \"helped him personify the idea of the English eccentric chameleon, in a way that prefigured the likes of David Bowie.\"[134]\n",
            "\n",
            "Until Watson's arrival at Baker Street, Holmes largely worked alone, only occasionally employing agents from the city's underclass. These agents included a variety of informants, such as Langdale Pike, a \"human book of reference upon all matters of social scandal\",[135] and Shinwell Johnson, who acted as Holmes's \"agent in the huge criminal underworld of London\".[136] The best known of Holmes's agents are a group of street children he called \"the Baker Street Irregulars\".[137][138]\n",
            "\n",
            "Holmes and Watson often carry pistols with them to confront criminals—in Watson's case, his old service weapon (probably a Mark III Adams revolver, issued to British troops during the 1870s).[139] Holmes and Watson shoot the eponymous hound in The Hound of the Baskervilles,[140] and in \"The Adventure of the Empty House\" Watson pistol-whips Colonel Sebastian Moran.[141] In \"The Problem of Thor Bridge\", Holmes uses Watson's revolver to solve the case through an experiment.\n",
            "\n",
            "As a gentleman, Holmes often carries a stick or cane. He is described by Watson as an expert at singlestick,[92] and uses his cane twice as a weapon.[142] In A Study in Scarlet, Watson describes Holmes as an expert swordsman,[92] and in \"The Gloria Scott\" the detective says he practised fencing while at university.[59] In several stories (\"A Case of Identity\", \"The Red-Headed League\", \"The Adventure of the Six Napoleons\") Holmes wields a riding crop, described in the latter story as his \"favourite weapon\".[143]\n",
            "\n",
            "The detective is described (or demonstrated) as possessing above-average physical strength. In \"The Yellow Face\", Holmes's chronicler says, \"Few men were capable of greater muscular effort.\"[144] In \"The Adventure of the Speckled Band\", Dr. Roylott demonstrates his strength by bending a fire poker in half. Watson describes Holmes as laughing, \"'if he had remained I might have shown him that my grip was not much more feeble than his own.' As he spoke he picked up the steel poker and, with a sudden effort, straightened it out again.\"[145]\n",
            "\n",
            "Holmes is an adept bare-knuckle fighter; \"The Gloria Scott\" mentions that Holmes boxed while at university.[59] In The Sign of Four, he introduces himself to McMurdo, a prize fighter, as \"the amateur who fought three rounds with you at Alison's rooms on the night of your benefit four years back.\" McMurdo remembers: \"Ah, you're one that has wasted your gifts, you have! You might have aimed high if you had joined the fancy.\"[146] In \"The Yellow Face\", Watson says: \"He was undoubtedly one of the finest boxers of his weight that I have ever seen\".[147] In \"The Solitary Cyclist\" Holmes visits a country pub to make enquiries regarding a certain Mr Woodley which resulted in violence. Mr Woodley, Holmes tells Watson,[148]\n",
            "\n",
            "Had been drinking his beer in the tap-room, and had heard the whole conversation. Who was I? What did I want? What did I mean by asking questions? He had a fine flow of language, and his adjectives were very vigorous. He ended a string of abuse by a vicious backhander, which I failed to entirely avoid. The next few minutes were delicious. It was a straight left against a slogging ruffian. I emerged as you see me. Mr. Woodley went home in a cart.[148]\n",
            "Another character subsequently refers to Mr Woodley as looking \"much disfigured\" as a result of his encounter with Holmes.[149]\n",
            "\n",
            "In \"The Adventure of the Empty House\", Holmes tells Watson that he used a Japanese martial art known as baritsu to fling Moriarty to his death in the Reichenbach Falls.[150] \"Baritsu\" is Conan Doyle's version of bartitsu, which combines jujitsu with boxing and cane fencing.[151]\n",
            "\n",
            "The first two Sherlock Holmes stories, the novels A Study in Scarlet (1887) and The Sign of the Four (1890), were moderately well received, but Holmes first became very popular early in 1891 when the first six short stories featuring the character were published in The Strand Magazine. Holmes became widely known in Britain and America.[1] The character was so well known that in 1893 when Arthur Conan Doyle killed Holmes in the short story \"The Final Problem\", the strongly negative response from readers was unlike any previous public reaction to a fictional event. The Strand reportedly lost more than 20,000 subscribers as a result of Holmes's death. Public pressure eventually contributed to Conan Doyle writing another Holmes story in 1901 and resurrecting the character in a story published in 1903.[7] In Japan, Sherlock Holmes (and Alice from Alice's Adventures in Wonderland) became immensely popular in the country in the 1890s as it was opening up to the West, and they are cited as two British fictional Victorians who left an enormous creative and cultural legacy there.[152]\n",
            "\n",
            "Many fans of Sherlock Holmes have written letters to Holmes's address, 221B Baker Street. Though the address 221B Baker Street did not exist when the stories were first published, letters began arriving to the large Abbey National building which first encompassed that address almost as soon as it was built in 1932. Fans continue to send letters to Sherlock Holmes;[153] these letters are now delivered to the Sherlock Holmes Museum.[154] Some of the people who have sent letters to 221B Baker Street believe Holmes is real.[4] Members of the general public have also believed Holmes actually existed. In a 2008 survey of British teenagers, 58 per cent of respondents believed that Sherlock Holmes was a real individual.[5]\n",
            "\n",
            "The Sherlock Holmes stories continue to be widely read.[1] Holmes's continuing popularity has led to many reimaginings of the character in adaptations.[7] Guinness World Records, which awarded Sherlock Holmes the title for \"most portrayed literary human character in film & TV\" in 2012, released a statement saying that the title \"reflects his enduring appeal and demonstrates that his detective talents are as compelling today as they were 125 years ago.\"[3]\n",
            "\n",
            "The London Metropolitan Railway named one of its twenty electric locomotives deployed in the 1920s for Sherlock Holmes. He was the only fictional character so honoured, along with eminent Britons such as Lord Byron, Benjamin Disraeli, and Florence Nightingale.[155]\n",
            "\n",
            "A number of London streets are associated with Holmes. York Mews South, off Crawford Street, was renamed Sherlock Mews, and Watson's Mews is near Crawford Place.[156] The Sherlock Holmes is a public house in Northumberland Street in London which contains a large collection of memorabilia related to Holmes, the original collection having been put together for display in Baker Street during the Festival of Britain in 1951.[157][158]\n",
            "\n",
            "In 2002, the Royal Society of Chemistry bestowed an honorary fellowship on Holmes for his use of forensic science and analytical chemistry in popular literature, making him (as of 2019) the only fictional character thus honoured.[159] Holmes has been commemorated numerous times on a UK postage stamp issued by the Royal Mail, most recently in their August 2020 series to celebrate the Sherlock television series.[160]\n",
            "\n",
            "There are multiple statues of Sherlock Holmes around the world. The first, sculpted by John Doubleday, was unveiled in Meiringen, Switzerland, in September 1988. The second was unveiled in October 1988 in Karuizawa, Japan, and was sculpted by Yoshinori Satoh. The third was installed in Edinburgh, Scotland, in 1989, and was sculpted by Gerald Laing.[161] In 1999, a statue of Sherlock Holmes in London, also by John Doubleday, was unveiled near the fictional detective's address, 221B Baker Street.[162] In 2001, a sculpture of Holmes and Arthur Conan Doyle by Irena Sedlecká was unveiled in a statue collection in Warwickshire, England.[163] A sculpture depicting both Holmes and Watson was unveiled in 2007 in Moscow, Russia, based partially on Sidney Paget's illustrations and partially on the actors in The Adventures of Sherlock Holmes and Dr. Watson.[164] In 2015, a sculpture of Holmes by Jane DeDecker was installed in the police headquarters of Edmond, Oklahoma, United States.[165] In 2019, a statue of Holmes was unveiled in Chester, Illinois, United States, as part of a series of statues honouring cartoonist E. C. Segar and his characters. The statue is titled \"Sherlock & Segar\", and the face of the statue was modelled on Segar.[166]\n",
            "\n",
            "In 1934, the Sherlock Holmes Society (in London) and the Baker Street Irregulars (in New York) were founded. The latter is still active. The Sherlock Holmes Society was dissolved later in the 1930s, but was succeeded by a society with a slightly different name, the Sherlock Holmes Society of London, which was founded in 1951 and remains active.[167][168] These societies were followed by many more, first in the U.S. (where they are known as \"scion societies\"—offshoots—of the Baker Street Irregulars) and then in England and Denmark. There are at least 250 societies worldwide, including Australia, Canada (such as The Bootmakers of Toronto), India, and Japan.[169] Fans tend to be called \"Holmesians\" in the U.K. and \"Sherlockians\" in the U.S.,[170][171][172] though recently \"Sherlockian\" has also come to refer to fans of the Benedict Cumberbatch-led BBC series regardless of location.[173]\n",
            "\n",
            "Although Holmes is not the original fictional detective, his name has become synonymous with the role. Doyle's Sherlock Holmes stories introduced multiple literary devices that have become major conventions in detective fiction, such as the companion character who is not as clever as the detective and has solutions explained to him (thus informing the reader as well), as with Dr. Watson in the Holmes stories. Other conventions introduced by Doyle include the arch-criminal who is too clever for the official police to defeat, like Holmes's adversary Professor Moriarty, and the use of forensic science to solve cases.[1]\n",
            "\n",
            "The Sherlock Holmes stories established crime fiction as a respectable genre popular with readers of all backgrounds, and Doyle's success inspired many contemporary detective stories.[174] Holmes influenced the creation of other \"eccentric gentleman detective\" characters, like Agatha Christie's fictional detective Hercule Poirot, introduced in 1920.[175] Holmes also inspired a number of anti-hero characters \"almost as an antidote to the masterful detective\", such as the gentleman thief characters A. J. Raffles (created by E. W. Hornung in 1898) and Arsène Lupin (created by Maurice Leblanc in 1905).[174]\n",
            "\n",
            "The phrase \"Elementary, my dear Watson\" has become one of the most quoted and iconic aspects of the character. However, although Holmes often observes that his conclusions are \"elementary\", and occasionally calls Watson \"my dear Watson\", the phrase \"Elementary, my dear Watson\" is never uttered in any of the sixty stories by Conan Doyle.[176] One of the nearest approximations of the phrase appears in \"The Adventure of the Crooked Man\" (1893) when Holmes explains a deduction: \"'Excellent!' I cried. 'Elementary,' said he.\"[177][178]\n",
            "\n",
            "William Gillette is widely considered to have originated the phrase with the formulation, \"Oh, this is elementary, my dear fellow\", allegedly in his 1899 play Sherlock Holmes. However, the script was revised numerous times over the course of some three decades of revivals and publications, and the phrase is present in some versions of the script, but not others.[176] The appearance of the line \"Elementary, my dear Potson\" in a Sherlock Holmes parody from 1901 has led some authors to speculate that, rather than this being an incidental formulation, the parodist drew upon an already well-established occurrences of \"Elementary, my dear Watson.\"[179][180]\n",
            "\n",
            "The exact phrase, as well as close variants, can be seen in newspaper and journal articles as early as 1909.[176][181] It was also used by P. G. Wodehouse in his novel Psmith, Journalist, which was first serialised in The Captain magazine between October 1909 and February 1910; the phrase occurred in the January 1910 instalment. The phrase became familiar with the American public in part due to its use in the Rathbone-Bruce series of films from 1939 to 1946.[182]\n",
            "\n",
            "Conan Doyle's 56 short stories and four novels are known as the \"canon\" by Holmes aficionados. The Great Game (also known as the Holmesian Game, the Sherlockian Game, or simply the Game, also the Higher Criticism) applies the methods of literary and especially Biblical criticism to the canon, operating on the pretense that Holmes and Watson were real people and that Conan Doyle was not the author of the stories but Watson's literary agent. From this basis, it attempts to resolve or explain away contradictions in the canon—such as the location of Watson's war wound, described as being in his shoulder in A Study in Scarlet and in his leg in The Sign of Four—and clarify details about Holmes, Watson and their world, such as the exact dates of events in the stories, combining historical research with references from the stories to construct scholarly analyses.[183][184][185]\n",
            "\n",
            "For example, one detail analyzed in the Game is Holmes's birth date. The chronology of the stories is notoriously difficult, with many stories lacking dates and many others containing contradictory ones. Christopher Morley and William Baring-Gould contend that the detective was born on 6 January 1854, the year being derived from the statement in \"His Last Bow\" that he was 60 years of age in 1914, while the precise day is derived from broader, non-canonical speculation.[186] This is the date the Baker Street Irregulars work from, with their annual dinner being held each January.[187][188] Laurie R. King instead argues that details in \"The Gloria Scott\" (a story with no precise internal date) indicate that Holmes finished his second (and final) year of university in 1880 or 1885. If he began university at age 17, his birth year could be as late as 1868.[189]\n",
            "\n",
            "For the 1951 Festival of Britain, Holmes's living room was reconstructed as part of a Sherlock Holmes exhibition, with a collection of original material. After the festival, items were transferred to The Sherlock Holmes (a London pub) and the Conan Doyle collection housed in Lucens, Switzerland by the author's son, Adrian. Both exhibitions, each with a Baker Street sitting-room reconstruction, are open to the public.[190]\n",
            "\n",
            "In 1969, the Toronto Reference Library began a collection of materials related to Conan Doyle. Stored today in Room 221B, this vast collection is accessible to the public.[191][192] Similarly, in 1974 the University of Minnesota founded a collection that is now \"the world's largest gathering of material related to Sherlock Holmes and his creator\". Access is closed to the general public, but is occasionally open to tours.[193][194]\n",
            "\n",
            "In 1990, the Sherlock Holmes Museum opened on Baker Street in London, followed the next year by a museum in Meiringen (near the Reichenbach Falls) dedicated to the detective.[190] A private Conan Doyle collection is a permanent exhibit at the Portsmouth City Museum, where the author lived and worked as a physician.[195]\n",
            "\n",
            "The Sherlock Holmes stories have been scrutinized by a few academics for themes of empire and colonialism.\n",
            "\n",
            "Susan Cannon Harris claims that themes of contagion and containment are common in the Holmes series, including the metaphors of Eastern foreigners as the root cause of \"infection\" within and around Europe.[196] Lauren Raheja, writing in the Marxist journal Nature, Society, and Thought, claims that Doyle used these characteristics to paint eastern colonies in a negative light, through their continually being the source of threats. For example, in one story Doyle makes mention of the Sumatran cannibals (also known as Batak) who throw poisonous darts, in \"The Adventure of the Devil's Foot\" a character employs a deadly West African poison, and in \"The Speckled Band\" a \"long residence in the tropics\" was a negative influence on one antagonist's bad temper.[197] Yumna Siddiqi argues that Doyle depicted returned colonials as \"marginal, physically ravaged characters that threaten the peace,\" while putting non-colonials in a much more positive light.[198]\n",
            "\n",
            "The popularity of Sherlock Holmes has meant that many writers other than Arthur Conan Doyle have created tales of the detective in a wide variety of different media, with varying degrees of fidelity to the original characters, stories, and setting. The first known period pastiche dates from 1891. Titled \"The Late Sherlock Holmes\", it was written by Conan Doyle's close friend, J. M. Barrie.[199]\n",
            "\n",
            "Adaptations have seen the character taken in radically different directions or placed in different times or even universes. For example, Holmes falls in love and marries in Laurie R. King's Mary Russell series, is re-animated after his death to fight future crime in the animated series Sherlock Holmes in the 22nd Century, and is meshed with the setting of H. P. Lovecraft's Cthulhu Mythos in Neil Gaiman's \"A Study in Emerald\" (which won the 2004 Hugo Award for Best Short Story). An especially influential pastiche was Nicholas Meyer's The Seven-Per-Cent Solution, a 1974 New York Times bestselling novel (made into the 1976 film of the same name) in which Holmes's cocaine addiction has progressed to the point of endangering his career. It served to popularize the trend of incorporating clearly identified and contemporaneous historical figures (such as Oscar Wilde, Aleister Crowley, Sigmund Freud, or Jack the Ripper) into Holmesian pastiches, something Conan Doyle himself never did.[200][201][202] Another common pastiche approach is to create a new story fully detailing an otherwise-passing canonical reference (such as an aside by Conan Doyle mentioning the \"giant rat of Sumatra, a story for which the world is not yet prepared\" in \"The Adventure of the Sussex Vampire\").[203]\n",
            "\n",
            "In addition to the Holmes canon, Conan Doyle's 1898 \"The Lost Special\" features an unnamed \"amateur reasoner\" intended to be identified as Holmes by his readers. The author's explanation of a baffling disappearance argued in Holmesian style poked fun at his own creation. Similar Conan Doyle short stories are \"The Field Bazaar\", \"The Man with the Watches\", and 1924's \"How Watson Learned the Trick\", a parody of the Watson–Holmes breakfast-table scenes. The author wrote other material featuring Holmes, especially plays: 1899's Sherlock Holmes (with William Gillette), 1910's The Speckled Band, and 1921's The Crown Diamond (the basis for \"The Adventure of the Mazarin Stone\").[204] These non-canonical works have been collected in several works released since Conan Doyle's death.[205]\n",
            "\n",
            "In terms of writers other than Conan Doyle, authors as diverse as Anthony Burgess, Neil Gaiman, Dorothy B. Hughes, Stephen King, Tanith Lee, A. A. Milne, and P. G. Wodehouse have all written Sherlock Holmes pastiches. Contemporary with Conan Doyle, Maurice Leblanc directly featured Holmes in his popular series about the gentleman thief, Arsène Lupin, though legal objections from Conan Doyle forced Leblanc to modify the name to \"Herlock Sholmes\" in reprints and later stories.[206] Famed American mystery writer John Dickson Carr collaborated with Arthur Conan Doyle's son, Adrian Conan Doyle, on The Exploits of Sherlock Holmes, a pastiche collection from 1954.[207] In 2011, Anthony Horowitz published a Sherlock Holmes novel, The House of Silk, presented as a continuation of Conan Doyle's work and with the approval of the Conan Doyle estate;[208] a follow-up, Moriarty, appeared in 2014.[209] The \"MX Book of New Sherlock Holmes Stories\" series of pastiches, edited by David Marcum and published by MX Publishing, has reached over thirty volumes and features hundreds of stories echoing the original canon which were compiled for the restoration of Undershaw and the support of Stepping Stones School, now housed in it.[210][211]\n",
            "\n",
            "Some authors have written tales centred on characters from the canon other than Holmes. Anthologies edited by Michael Kurland and George Mann are entirely devoted to stories told from the perspective of characters other than Holmes and Watson. John Gardner, Michael Kurland, and Kim Newman, amongst many others, have all written tales in which Holmes's nemesis Professor Moriarty is the main character. Mycroft Holmes has been the subject of several efforts: Enter the Lion by Michael P. Hodel and Sean M. Wright (1979),[212] a four-book series by Quinn Fawcett,[213] and 2015's Mycroft Holmes, by Kareem Abdul-Jabbar and Anna Waterhouse.[214] M. J. Trow has written a series of seventeen books using Inspector Lestrade as the central character, beginning with The Adventures of Inspector Lestrade in 1985.[215] Carole Nelson Douglas' Irene Adler series is based on \"the woman\" from \"A Scandal in Bohemia\", with the first book (1990's Good Night, Mr. Holmes) retelling that story from Adler's point of view.[216] Martin Davies has written three novels where Baker Street housekeeper Mrs. Hudson is the protagonist.[217]\n",
            "\n",
            "In 1980's The Name of the Rose, Italian author Umberto Eco creates a Sherlock Holmes of the 1320s in the form of a Franciscan friar and main protagonist named Brother William of Baskerville, his name a clear reference to Holmes per The Hound of the Baskervilles.[218] Brother William investigates a series of murders in the abbey alongside his novice Adso of Melk, who acts as his Dr. Watson. Furthermore, Umberto Eco's description of Brother William bears marked similarities in both physique and personality to Sir Arthur Conan Doyle's description of Sherlock Holmes in A Study in Scarlet.[219]\n",
            "\n",
            "Laurie R. King recreated Holmes in her Mary Russell series (beginning with 1994's The Beekeeper's Apprentice), set during the First World War and the 1920s. Her Holmes, semi-retired in Sussex, meets a teenaged American girl. Recognising a kindred spirit, he trains her as his apprentice and subsequently marries her. As of 2021, the series includes seventeen base novels and additional writings.[220]\n",
            "\n",
            "Short stories featuring sage-detective Zavant Konniger and his halfling manservant Vido, written by fantasy authors Gordon Rennie and Josh Reynolds for the Warhammer Fantasy universe, were published by Black Library from 2002 to 2018, including \"How Vido Learned the Trick\" (\"How Watson Learned the Trick\") and \"The Problem of Three-Toll Bridge\" (\"The Problem of Thor Bridge\").[221][222]\n",
            "\n",
            "The Final Solution, a 2004 novella by Michael Chabon, concerns an unnamed but long-retired detective interested in beekeeping who tackles the case of a missing parrot belonging to a Jewish refugee boy.[223] Mitch Cullin's novel A Slight Trick of the Mind (2005) takes place two years after the end of the Second World War, and explores an old and frail Sherlock Holmes (now 93) as he comes to terms with a life spent in emotionless logic;[224] this was also adapted into a film, 2015's Mr. Holmes.[225]\n",
            "\n",
            "There have been many scholarly works dealing with Sherlock Holmes, some working within the bounds of the Great Game, and some written from the perspective that Holmes is a fictional character. In particular, there have been three major annotated editions of the complete series. The first was William Baring-Gould's 1967 The Annotated Sherlock Holmes. This two-volume set was ordered to fit Baring-Gould's preferred chronology, and was written from a Great Game perspective. The second was 1993's The Oxford Sherlock Holmes (general editor: Owen Dudley Edwards), a nine-volume set written in a straight scholarly manner. The most recent is Leslie Klinger's The New Annotated Sherlock Holmes (2004–05), a three-volume set that returns to a Great Game perspective.[226][227]\n",
            "\n",
            "In 2012, Guinness World Records listed Holmes as the most portrayed literary human character in film and television history, with more than 75 actors playing the part in over 250 productions.[3]\n",
            "\n",
            "The 1899 play Sherlock Holmes, by Conan Doyle and William Gillette, was a synthesis of several Conan Doyle stories. In addition to its popularity, the play is significant because it, rather than the original stories, introduced one of the key visual qualities commonly associated with Holmes today: his calabash pipe;[228] the play also formed the basis for Gillette's 1916 film, Sherlock Holmes. Gillette performed as Holmes some 1,300 times. In the early 1900s, H. A. Saintsbury took over the role from Gillette for a tour of the play. Between this play and Conan Doyle's own stage adaptation of \"The Adventure of the Speckled Band\", Saintsbury portrayed Holmes over 1,000 times.[229]\n",
            "\n",
            "Holmes's first screen appearance was in the 1900 Mutoscope film, Sherlock Holmes Baffled.[230] From 1921 to 1923, Eille Norwood played Holmes in forty-seven silent films (45 shorts and two features), in a series of performances that Conan Doyle spoke highly of.[2][231] 1929's The Return of Sherlock Holmes was the first sound title to feature Holmes.[232] From 1939 to 1946, Basil Rathbone played Holmes and Nigel Bruce played Watson in fourteen U.S. films (two for 20th Century Fox and a dozen for Universal Pictures) and in The New Adventures of Sherlock Holmes radio show. While the Fox films were period pieces, the Universal films abandoned Victorian Britain and moved to a then-contemporary setting in which Holmes occasionally battled Nazis.[233]\n",
            "\n",
            "The character has also enjoyed numerous radio adaptations, beginning with Edith Meiser's The Adventures of Sherlock Holmes,[234] which ran from 1930 to 1936. Basil Rathbone and Nigel Bruce continued with their roles for most of the run of The New Adventures of Sherlock Holmes, airing from 1939 to 1950. Bert Coules, having dramatised the entire Holmes canon for BBC Radio Four from 1989 to 1998,[235][236] penned The Further Adventures of Sherlock Holmes between 2002 and 2010. This pastiche series also aired on Radio Four, and starred Clive Merrison as Holmes and Michael Williams and then Andrew Sachs as Watson.[235][237]\n",
            "\n",
            "The 1984–85 Italian/Japanese anime series Sherlock Hound adapted the Holmes stories for children, with its characters being anthropomorphic dogs. The series was co-directed by Hayao Miyazaki.[238] Between 1979 and 1986, the Soviet studio Lenfilm produced a series of five television films, The Adventures of Sherlock Holmes and Dr. Watson. The series were split into eleven episodes and starred Vasily Livanov as Holmes and Vitaly Solomin as Watson. For his performance, in 2006 Livanov was appointed an Honorary Member of the Order of the British Empire.[239][240]\n",
            "\n",
            "Jeremy Brett played the detective in Sherlock Holmes for Granada Television from 1984 to 1994. Watson was played by David Burke (in the first two series) and Edward Hardwicke (in the remainder). Brett and Hardwicke also appeared on stage in 1988–89 in The Secret of Sherlock Holmes, directed by Patrick Garland.[241]\n",
            "\n",
            "The 2009 film Sherlock Holmes earned Robert Downey Jr. a Golden Globe Award for his portrayal of Holmes and co-starred Jude Law as Watson.[242] Downey and Law returned for a 2011 sequel, Sherlock Holmes: A Game of Shadows.\n",
            "\n",
            "Benedict Cumberbatch plays a modern version of the detective and Martin Freeman as a modern version of John Watson in the BBC One TV series Sherlock, which premiered in 2010. In the series, created by Mark Gatiss and Steven Moffat, the stories' original Victorian setting is replaced by present-day London, with Watson a veteran of the modern War in Afghanistan.[243] Similarly, Elementary premiered on CBS in 2012, and ran for seven seasons, until 2019. Set in contemporary New York, the series featured Jonny Lee Miller as Sherlock Holmes and Lucy Liu as a female Dr. Joan Watson.[244] With 24 episodes per season, by the end of season two, Miller became the actor who had portrayed Sherlock Holmes the most in television and/or film.[245]\n",
            "\n",
            "The 2015 film Mr. Holmes starred Ian McKellen as a retired Sherlock Holmes living in Sussex, in 1947, who grapples with an unsolved case involving a beautiful woman. The film is based on Mitch Cullin's 2005 novel A Slight Trick of the Mind.[246][247]\n",
            "\n",
            "The 2018 television adaptation, Miss Sherlock, was a Japanese-language production, and the first adaptation with a woman (portrayed by Yūko Takeuchi) in the signature role. The episodes were based in modern-day Tokyo, with many references to Conan Doyle's stories.[248][249]\n",
            "\n",
            "Holmes has also appeared in video games, including the Sherlock Holmes series of eight main titles. According to the publisher, Frogwares, by 2017 the series sold over seven million copies.[250]\n",
            "\n",
            "The copyright for Conan Doyle's works expired in the United Kingdom, Canada, and Australia at the end of 1980, fifty years after Conan Doyle's death.[251][252] In the United Kingdom it was revived in 1996 due to new provisions harmonising UK law with that of the European Union, and expired again at the end of 2000 (seventy years after Conan Doyle's death).[253] The author's works are now in the public domain in those countries.[254][255]\n",
            "\n",
            "In the United States, all works published before 1923 entered public domain by 1998, but, as ten Holmes stories were published after that date, the Conan Doyle estate maintained that the Holmes and Watson characters as a whole were still under copyright.[252][256] On 14 February 2013, Leslie S. Klinger (lawyer and editor of The New Annotated Sherlock Holmes) filed a declaratory judgement suit against the Conan Doyle estate asking the court to acknowledge that the characters of Holmes and Watson were public domain in the U.S. The court ruled in Klinger's favour on 23 December, and the Seventh Circuit Court of Appeals affirmed its decision on 16 June 2014. The case was appealed to the U.S. Supreme Court, which declined to hear the case, letting the appeals court's ruling stand. This resulted in the characters from the Holmes stories being in the public domain in the U.S. The stories still under copyright due to the ruling, as of that time, were those collected in The Case-Book of Sherlock Holmes other than \"The Adventure of the Mazarin Stone\" and \"The Problem of Thor Bridge\": a total of ten stories.[255][257][258]\n",
            "\n",
            "In 2020, although the United States court ruling and the passage of time meant that most of the Holmes stories and characters were in the public domain in that country, the Doyle estate legally challenged the use of Sherlock Holmes in the film Enola Holmes in a complaint filed in the United States.[259] The Doyle estate alleged that the film depicts Holmes with personality traits that were only exhibited by the character in the stories still under copyright.[260][261] On 18 December 2020, the lawsuit was dismissed with prejudice by stipulation of all parties.[262][263]\n",
            "\n"
          ]
        }
      ]
    },
    {
      "cell_type": "markdown",
      "metadata": {
        "id": "K5hRV_-4cwAt"
      },
      "source": [
        "Or look for all of the `<a>` tags which are the links to other pages"
      ]
    },
    {
      "cell_type": "code",
      "execution_count": null,
      "metadata": {
        "id": "sragMhX2cwAt",
        "outputId": "5ffaba4d-03b7-449c-f874-7962a561d101",
        "colab": {
          "base_uri": "https://localhost:8080/",
          "height": 1000
        }
      },
      "outputs": [
        {
          "output_type": "display_data",
          "data": {
            "text/plain": [
              "<IPython.core.display.HTML object>"
            ],
            "text/html": [
              "\n",
              "  <style>\n",
              "    pre {\n",
              "        white-space: pre-wrap;\n",
              "    }\n",
              "  </style>\n",
              "  "
            ]
          },
          "metadata": {}
        },
        {
          "output_type": "stream",
          "name": "stdout",
          "text": [
            "#bodyContent\n",
            "/wiki/Main_Page\n",
            "/wiki/Wikipedia:Contents\n",
            "/wiki/Portal:Current_events\n",
            "/wiki/Special:Random\n",
            "/wiki/Wikipedia:About\n",
            "//en.wikipedia.org/wiki/Wikipedia:Contact_us\n",
            "https://donate.wikimedia.org/wiki/Special:FundraiserRedirector?utm_source=donate&utm_medium=sidebar&utm_campaign=C13_en.wikipedia.org&uselang=en\n",
            "/wiki/Help:Contents\n",
            "/wiki/Help:Introduction\n",
            "/wiki/Wikipedia:Community_portal\n",
            "/wiki/Special:RecentChanges\n",
            "/wiki/Wikipedia:File_upload_wizard\n",
            "/wiki/Main_Page\n",
            "/wiki/Special:Search\n",
            "/w/index.php?title=Special:CreateAccount&returnto=Sherlock+Holmes\n",
            "/w/index.php?title=Special:UserLogin&returnto=Sherlock+Holmes\n",
            "/w/index.php?title=Special:CreateAccount&returnto=Sherlock+Holmes\n",
            "/w/index.php?title=Special:UserLogin&returnto=Sherlock+Holmes\n",
            "/wiki/Help:Introduction\n",
            "/wiki/Special:MyContributions\n",
            "/wiki/Special:MyTalk\n",
            "#\n",
            "#Inspiration_for_the_character\n",
            "#Fictional_character_biography\n",
            "#Family_and_early_life\n",
            "#Life_with_Watson\n",
            "#Practice\n",
            "#The_Great_Hiatus\n",
            "#Retirement\n",
            "#Personality_and_habits\n",
            "#Drug_use\n",
            "#Finances\n",
            "#Attitudes_towards_women\n",
            "#Irene_Adler\n",
            "#Knowledge_and_skills\n",
            "#Holmesian_deduction\n",
            "#Forensic_science\n",
            "#Disguises\n",
            "#Agents\n",
            "#Combat\n",
            "#Pistols\n",
            "#Other_weapons\n",
            "#Personal_combat\n",
            "#Reception\n",
            "#Popularity\n",
            "#Honours\n",
            "#Societies\n",
            "#Legacy\n",
            "#The_detective_story\n",
            "#\"Elementary,_my_dear_Watson\"\n",
            "#The_Great_Game\n",
            "#Museums_and_special_collections\n",
            "#Postcolonial_criticism\n",
            "#Adaptations_and_derived_works\n",
            "#Related_and_derivative_writings\n",
            "#Adaptations_in_other_media\n",
            "#Copyright_issues\n",
            "#Works\n",
            "#Novels\n",
            "#Short_story_collections\n",
            "#See_also\n",
            "#Notes\n",
            "#Sherlock_Holmes_story_references\n",
            "#Citations\n",
            "#Further_reading\n",
            "#External_links\n",
            "https://ar.wikipedia.org/wiki/%D8%B4%D8%B1%D9%84%D9%88%D9%83_%D9%87%D9%88%D9%84%D9%85%D8%B2\n",
            "https://as.wikipedia.org/wiki/%E0%A6%9B%E0%A6%BE%E0%A7%B0%E0%A7%8D%E0%A6%B2%E0%A6%95_%E0%A6%B9%27%E0%A6%AE%E0%A7%8D%E2%80%8C%E0%A6%9B\n",
            "https://ast.wikipedia.org/wiki/Sherlock_Holmes\n",
            "https://az.wikipedia.org/wiki/%C5%9Eerlok_Holms\n",
            "https://bn.wikipedia.org/wiki/%E0%A6%B6%E0%A6%BE%E0%A6%B0%E0%A7%8D%E0%A6%B2%E0%A6%95_%E0%A6%B9%E0%A7%8B%E0%A6%AE%E0%A6%B8\n",
            "https://zh-min-nan.wikipedia.org/wiki/Sherlock_Holmes\n",
            "https://be.wikipedia.org/wiki/%D0%A8%D1%8D%D1%80%D0%BB%D0%B0%D0%BA_%D0%A5%D0%BE%D0%BB%D0%BC%D1%81\n",
            "https://be-tarask.wikipedia.org/wiki/%D0%A8%D1%8D%D1%80%D0%BB%D0%B0%D0%BA_%D0%93%D0%BE%D0%BB%D0%BC%D0%B7\n",
            "https://bcl.wikipedia.org/wiki/Sherlock_Holmes\n",
            "https://bg.wikipedia.org/wiki/%D0%A8%D0%B5%D1%80%D0%BB%D0%BE%D0%BA_%D0%A5%D0%BE%D0%BB%D0%BC%D1%81\n",
            "https://bs.wikipedia.org/wiki/Sherlock_Holmes\n",
            "https://br.wikipedia.org/wiki/Sherlock_Holmes\n",
            "https://ca.wikipedia.org/wiki/Sherlock_Holmes\n",
            "https://cv.wikipedia.org/wiki/%D0%A8%D0%B5%D1%80%D0%BB%D0%BE%D0%BA_%D0%A5%D0%BE%D0%BB%D0%BC%D1%81\n",
            "https://ceb.wikipedia.org/wiki/Sherlock_Holmes\n",
            "https://cs.wikipedia.org/wiki/Sherlock_Holmes\n",
            "https://cy.wikipedia.org/wiki/Sherlock_Holmes\n",
            "https://da.wikipedia.org/wiki/Sherlock_Holmes\n",
            "https://de.wikipedia.org/wiki/Sherlock_Holmes\n",
            "https://et.wikipedia.org/wiki/Sherlock_Holmes\n",
            "https://el.wikipedia.org/wiki/%CE%A3%CE%AD%CF%81%CE%BB%CE%BF%CE%BA_%CE%A7%CE%BF%CE%BB%CE%BC%CF%82\n",
            "https://es.wikipedia.org/wiki/Sherlock_Holmes\n",
            "https://eo.wikipedia.org/wiki/%C5%9Cerloko_Holmso\n",
            "https://eu.wikipedia.org/wiki/Sherlock_Holmes\n",
            "https://fa.wikipedia.org/wiki/%D8%B4%D8%B1%D9%84%D9%88%DA%A9_%D9%87%D9%88%D9%84%D9%85%D8%B2\n",
            "https://fr.wikipedia.org/wiki/Sherlock_Holmes\n",
            "https://fy.wikipedia.org/wiki/Sherlock_Holmes\n",
            "https://ga.wikipedia.org/wiki/Sherlock_Holmes\n",
            "https://gl.wikipedia.org/wiki/Sherlock_Holmes\n",
            "https://ko.wikipedia.org/wiki/%EC%85%9C%EB%A1%9D_%ED%99%88%EC%A6%88\n",
            "https://hy.wikipedia.org/wiki/%D5%87%D5%A5%D6%80%D5%AC%D5%B8%D6%84_%D5%80%D5%B8%D5%AC%D5%B4%D5%BD\n",
            "https://hi.wikipedia.org/wiki/%E0%A4%B6%E0%A5%87%E0%A4%B0%E0%A4%B2%E0%A5%89%E0%A4%95_%E0%A4%B9%E0%A5%8B%E0%A4%AE%E0%A5%8D%E0%A4%B8\n",
            "https://hsb.wikipedia.org/wiki/Sherlock_Holmes\n"
          ]
        }
      ],
      "source": [
        "list_of_links = sherlock_wiki_html.find_all('a')\n",
        "for link in list_of_links[:100]:\n",
        "    print(link.get('href'))\n",
        "paragraphs = sherlock_wiki_html.find_all('p')\n",
        "for p in paragraphs[:100]:\n",
        "    print(p.get_text())"
      ]
    },
    {
      "cell_type": "markdown",
      "metadata": {
        "id": "luQrIZKLcwAu"
      },
      "source": [
        "## Extracting text with Beautiful Soup\n",
        "\n",
        "Use the `.get_text()` method on the soup object"
      ]
    },
    {
      "cell_type": "code",
      "execution_count": null,
      "metadata": {
        "id": "LPzPpZqGcwAu",
        "outputId": "742beffd-1b53-4b2b-d894-fb41e673e02e",
        "colab": {
          "base_uri": "https://localhost:8080/",
          "height": 143
        }
      },
      "outputs": [
        {
          "output_type": "display_data",
          "data": {
            "text/plain": [
              "<IPython.core.display.HTML object>"
            ],
            "text/html": [
              "\n",
              "  <style>\n",
              "    pre {\n",
              "        white-space: pre-wrap;\n",
              "    }\n",
              "  </style>\n",
              "  "
            ]
          },
          "metadata": {}
        },
        {
          "output_type": "execute_result",
          "data": {
            "text/plain": [
              "'\\n\\n\\n\\nSherlock Holmes - Wikipedia\\n\\n\\n\\n\\n\\n\\n\\n\\n\\n\\n\\n\\n\\n\\n\\n\\n\\n\\n\\n\\n\\n\\n\\n\\n\\n\\n\\n\\n\\n\\n\\n\\n\\n\\nJump to content\\n\\n\\n\\n\\n\\n\\n\\nMain menu\\n\\n\\n\\n\\n\\nMain menu\\nmove to sidebar\\nhide\\n\\n\\n\\n\\t\\tNavigation\\n\\t\\n\\n\\nMain pageContentsCurrent eventsRandom articleAbout WikipediaContact usDonate\\n\\n\\n\\n\\n\\n\\t\\tContribute\\n\\t\\n\\n\\nHelpLearn to editCommunity portalRecent changesUpload file\\n\\n\\n\\n\\n\\nLanguages\\n\\nLanguage links are at the top of the page across from the title.\\n\\n\\n\\n\\n\\n\\n\\n\\n\\n\\n\\n\\n\\n\\n\\n\\n\\n\\n\\nSearch\\n\\n\\n\\n\\n\\n\\n\\n\\n\\n\\n\\nSearch\\n\\n\\n\\n\\n\\n\\n\\n\\nCreate accountLog in\\n\\n\\n\\n\\n\\n\\nPersonal tools\\n\\n\\n\\n\\n\\n Create account Log in\\n\\n\\n\\n\\n\\n\\t\\tPages for logged out editors learn more\\n\\n\\n\\nContributionsTalk\\n\\n\\n\\n\\n\\n\\n\\n\\n\\n\\n\\n\\n\\n\\n\\n\\n\\n\\n\\n\\n\\n\\n\\n\\n\\n\\n\\nContents\\nmove to sidebar\\nhide\\n\\n\\n\\n\\n(Top)\\n\\n\\n\\n\\n\\n1Inspiration for the character\\n\\n\\n\\n\\n\\n\\n\\n2Fictional character biography\\n\\n\\n\\nToggle Fictional character biography subsection\\n\\n\\n\\n\\n\\n2.1Family and early life\\n\\n\\n\\n\\n\\n\\n\\n2.2Life with Watson\\n\\n\\n\\n\\n\\n\\n\\n2.3Practice\\n\\n\\n\\n\\n\\n\\n\\n2.4The Great Hiatus\\n\\n\\n\\n\\n\\n\\n\\n2.5Retirement\\n\\n\\n\\n\\n\\n\\n\\n\\n\\n3Personality and habits\\n\\n\\n\\nToggle Personality and habits subsection\\n\\n\\n\\n\\n\\n3.1Drug use\\n\\n\\n\\n\\n\\n\\n\\n3.2Finances\\n\\n\\n\\n\\n\\n\\n\\n3.3Attitudes towards women\\n\\n\\n\\n\\n\\n3.3.1Irene Adler\\n\\n\\n\\n\\n\\n\\n\\n\\n\\n\\n\\n4Knowledge and skills\\n\\n\\n\\nToggle Knowledge and skills subsection\\n\\n\\n\\n\\n\\n4.1Holmesian deduction\\n\\n\\n\\n\\n\\n\\n\\n4.2Forensic science\\n\\n\\n\\n\\n\\n\\n\\n4.3Disguises\\n\\n\\n\\n\\n\\n\\n\\n4.4Agents\\n\\n\\n\\n\\n\\n\\n\\n4.5Combat\\n\\n\\n\\n\\n\\n4.5.1Pistols\\n\\n\\n\\n\\n\\n\\n\\n4.5.2Other weapons\\n\\n\\n\\n\\n\\n\\n\\n4.5.3Personal combat\\n\\n\\n\\n\\n\\n\\n\\n\\n\\n\\n\\n5Reception\\n\\n\\n\\nToggle Reception subsection\\n\\n\\n\\n\\n\\n5.1Popularity\\n\\n\\n\\n\\n\\n\\n\\n5.2Honours\\n\\n\\n\\n\\n\\n\\n\\n5.3Societies\\n\\n\\n\\n\\n\\n\\n\\n\\n\\n6Legacy\\n\\n\\n\\nToggle Legacy subsection\\n\\n\\n\\n\\n\\n6.1The detective story\\n\\n\\n\\n\\n\\n\\n\\n6.2\"Elementary, my dear Watson\"\\n\\n\\n\\n\\n\\n\\n\\n6.3The Great Game\\n\\n\\n\\n\\n\\n\\n\\n6.4Museums and special collections\\n\\n\\n\\n\\n\\n\\n\\n6.5Postcolonial criticism\\n\\n\\n\\n\\n\\n\\n\\n\\n\\n7Adaptations and derived works\\n\\n\\n\\nToggle Adaptations and derived works subsection\\n\\n\\n\\n\\n\\n7.1Related and derivative writings\\n\\n\\n\\n\\n\\n\\n\\n7.2Adaptations in other media\\n\\n\\n\\n\\n\\n\\n\\n7.3Copyright issues\\n\\n\\n\\n\\n\\n\\n\\n\\n\\n8Works\\n\\n\\n\\nToggle Works subsection\\n\\n\\n\\n\\n\\n8.1Novels\\n\\n\\n\\n\\n\\n\\n\\n8.2Short story collections\\n\\n\\n\\n\\n\\n\\n\\n\\n\\n9See also\\n\\n\\n\\n\\n\\n\\n\\n10Notes\\n\\n\\n\\n\\n\\n\\n\\n11Sherlock Holmes story r'"
            ],
            "application/vnd.google.colaboratory.intrinsic+json": {
              "type": "string"
            }
          },
          "metadata": {},
          "execution_count": 7
        }
      ],
      "source": [
        "sherlock_wiki_text = sherlock_wiki_html.get_text()\n",
        "\n",
        "sherlock_wiki_text[:2000]"
      ]
    },
    {
      "cell_type": "code",
      "execution_count": null,
      "metadata": {
        "id": "BUs-aDotcwAu",
        "outputId": "73c8d1ef-2115-4a91-efd9-09ed57817ca5",
        "colab": {
          "base_uri": "https://localhost:8080/",
          "height": 250
        }
      },
      "outputs": [
        {
          "output_type": "display_data",
          "data": {
            "text/plain": [
              "<IPython.core.display.HTML object>"
            ],
            "text/html": [
              "\n",
              "  <style>\n",
              "    pre {\n",
              "        white-space: pre-wrap;\n",
              "    }\n",
              "  </style>\n",
              "  "
            ]
          },
          "metadata": {}
        },
        {
          "output_type": "execute_result",
          "data": {
            "text/plain": [
              "'    Sherlock Holmes - Wikipedia                                   Jump to content        Main menu      Main menu move to sidebar hide    \\t\\tNavigation \\t   Main pageContentsCurrent eventsRandom articleAbout WikipediaContact usDonate      \\t\\tContribute \\t   HelpLearn to editCommunity portalRecent changesUpload file      Languages  Language links are at the top of the page across from the title.                    Search            Search         Create accountLog in       Personal tools       Create account Log in      \\t\\tPages for logged out editors learn more    ContributionsTalk                            Contents move to sidebar hide     (Top)      1Inspiration for the character        2Fictional character biography    Toggle Fictional character biography subsection      2.1Family and early life        2.2Life with Watson        2.3Practice        2.4The Great Hiatus        2.5Retirement          3Personality and habits    Toggle Personality and habits subsection      3.1Drug use        3.2Finances        3.3Attitudes towards women      3.3.1Irene Adler            4Knowledge and skills    Toggle Knowledge and skills subsection      4.1Holmesian deduction        4.2Forensic science        4.3Disguises        4.4Agents        4.5Combat      4.5.1Pistols        4.5.2Other weapons        4.5.3Personal combat            5Reception    Toggle Reception subsection      5.1Popularity        5.2Honours        5.3Societies          6Legacy    Toggle Legacy subsection      6.1The detective story        6.2\"Elementary, my dear Watson\"        6.3The Great Game        6.4Museums and special collections        6.5Postcolonial criticism          7Adaptations and derived works    Toggle Adaptations and derived works subsection      7.1Related and derivative writings        7.2Adaptations in other media        7.3Copyright issues          8Works    Toggle Works subsection      8.1Novels        8.2Short story collections          9See also        10Notes        11Sherlock Holmes story r'"
            ],
            "application/vnd.google.colaboratory.intrinsic+json": {
              "type": "string"
            }
          },
          "metadata": {},
          "execution_count": 8
        }
      ],
      "source": [
        "sherlock_wiki_no_lines = sherlock_wiki_text.replace(\"\\n\",\" \")\n",
        "sherlock_wiki_no_lines[:2000]"
      ]
    },
    {
      "cell_type": "code",
      "execution_count": null,
      "metadata": {
        "id": "dGTNVxxrcwAv",
        "outputId": "03537e65-56e4-48d0-c4f0-476d07f6be7c",
        "colab": {
          "base_uri": "https://localhost:8080/",
          "height": 143
        }
      },
      "outputs": [
        {
          "output_type": "display_data",
          "data": {
            "text/plain": [
              "<IPython.core.display.HTML object>"
            ],
            "text/html": [
              "\n",
              "  <style>\n",
              "    pre {\n",
              "        white-space: pre-wrap;\n",
              "    }\n",
              "  </style>\n",
              "  "
            ]
          },
          "metadata": {}
        },
        {
          "output_type": "execute_result",
          "data": {
            "text/plain": [
              "'    Sherlock Holmes  -  Wikipedia                                   Jump to content        Main menu      Main menu move to sidebar hide    \\t\\tNavigation \\t   Main pageContentsCurrent eventsRandom articleAbout WikipediaContact usDonate      \\t\\tContribute \\t   HelpLearn to editCommunity portalRecent changesUpload file      Languages  Language links are at the top of the page across from the title .                     Search            Search         Create accountLog in       Personal tools       Create account Log in      \\t\\tPages for logged out editors learn more    ContributionsTalk                            Contents move to sidebar hide      ( Top )       1Inspiration for the character        2Fictional character biography    Toggle Fictional character biography subsection      2 . 1Family and early life        2 . 2Life with Watson        2 . 3Practice        2 . 4The Great Hiatus        2 . 5Retirement          3Personality and habits    Toggle Personality and habits subsection      3 . 1Drug use        3 . 2Finances        3 . 3Attitudes towards women      3 . 3 . 1Irene Adler            4Knowledge and skills    Toggle Knowledge and skills subsection      4 . 1Holmesian deduction        4 . 2Forensic science        4 . 3Disguises        4 . 4Agents        4 . 5Combat      4 . 5 . 1Pistols        4 . 5 . 2Other weapons        4 . 5 . 3Personal combat            5Reception    Toggle Reception subsection      5 . 1Popularity        5 . 2Honours        5 . 3Societies          6Legacy    Toggle Legacy subsection      6 . 1The detective story        6 . 2 \" Elementary ,  my dear Watson \"         6 . 3The Great Game        6 . 4Museums and special collections        6 . 5Postcolonial criticism          7Adaptations and derived works    Toggle Adaptations and derived works subsection      7 . 1Related and derivative writings        7 . 2Adaptations in other media        7 . 3Copyright issues          8Works    Toggle Works subsection      8 . 1Novels        8 . 2Short st'"
            ],
            "application/vnd.google.colaboratory.intrinsic+json": {
              "type": "string"
            }
          },
          "metadata": {},
          "execution_count": 9
        }
      ],
      "source": [
        "chars_to_separate = [\",\",\"!\",\"?\",\";\",\":\",\"\\\"\",\"\\'\",\"-\",\".\",\"(\",\")\"]\n",
        "\n",
        "for c in chars_to_separate:\n",
        "    sherlock_wiki_no_lines = sherlock_wiki_no_lines.replace(c,\" \"+c+\" \")\n",
        "\n",
        "sherlock_wiki_no_lines[:2000]"
      ]
    },
    {
      "cell_type": "code",
      "execution_count": null,
      "metadata": {
        "id": "xiNjHrYgcwAv",
        "outputId": "63492675-43f4-46df-c5d0-b517d5c0c8ab",
        "colab": {
          "base_uri": "https://localhost:8080/",
          "height": 678
        }
      },
      "outputs": [
        {
          "output_type": "display_data",
          "data": {
            "text/plain": [
              "<IPython.core.display.HTML object>"
            ],
            "text/html": [
              "\n",
              "  <style>\n",
              "    pre {\n",
              "        white-space: pre-wrap;\n",
              "    }\n",
              "  </style>\n",
              "  "
            ]
          },
          "metadata": {}
        },
        {
          "output_type": "stream",
          "name": "stdout",
          "text": [
            "['Sherlock', 'Holmes', '-', 'Wikipedia', 'Jump', 'to', 'content', 'Main', 'menu', 'Main', 'menu', 'move', 'to', 'sidebar', 'hide', 'Navigation', 'Main', 'pageContentsCurrent', 'eventsRandom', 'articleAbout', 'WikipediaContact', 'usDonate', 'Contribute', 'HelpLearn', 'to', 'editCommunity', 'portalRecent', 'changesUpload', 'file', 'Languages', 'Language', 'links', 'are', 'at', 'the', 'top', 'of', 'the', 'page', 'across', 'from', 'the', 'title', '.', 'Search', 'Search', 'Create', 'accountLog', 'in', 'Personal', 'tools', 'Create', 'account', 'Log', 'in', 'Pages', 'for', 'logged', 'out', 'editors', 'learn', 'more', 'ContributionsTalk', 'Contents', 'move', 'to', 'sidebar', 'hide', '(', 'Top', ')', '1Inspiration', 'for', 'the', 'character', '2Fictional', 'character', 'biography', 'Toggle', 'Fictional', 'character', 'biography', 'subsection', '2', '.', '1Family', 'and', 'early', 'life', '2', '.', '2Life', 'with', 'Watson', '2', '.', '3Practice', '2', '.', '4The', 'Great', 'Hiatus', '2', '.', '5Retirement', '3Personality', 'and', 'habits', 'Toggle', 'Personality', 'and', 'habits', 'subsection', '3', '.', '1Drug', 'use', '3', '.', '2Finances', '3', '.', '3Attitudes', 'towards', 'women', '3', '.', '3', '.', '1Irene', 'Adler', '4Knowledge', 'and', 'skills', 'Toggle', 'Knowledge', 'and', 'skills', 'subsection', '4', '.', '1Holmesian', 'deduction', '4', '.', '2Forensic', 'science', '4', '.', '3Disguises', '4', '.', '4Agents', '4', '.', '5Combat', '4', '.', '5', '.', '1Pistols', '4', '.', '5', '.', '2Other', 'weapons', '4', '.', '5', '.', '3Personal', 'combat', '5Reception', 'Toggle', 'Reception', 'subsection', '5', '.', '1Popularity', '5', '.', '2Honours', '5', '.', '3Societies', '6Legacy', 'Toggle', 'Legacy', 'subsection', '6', '.', '1The', 'detective', 'story', '6', '.', '2', '\"', 'Elementary', ',', 'my', 'dear', 'Watson', '\"', '6', '.', '3The', 'Great', 'Game', '6', '.', '4Museums', 'and', 'special', 'collections', '6', '.', '5Postcolonial', 'criticism', '7Adaptations', 'and', 'derived', 'works', 'Toggle', 'Adaptations', 'and', 'derived', 'works', 'subsection', '7', '.', '1Related', 'and', 'derivative', 'writings', '7', '.', '2Adaptations', 'in', 'other', 'media', '7', '.', '3Copyright', 'issues', '8Works', 'Toggle', 'Works', 'subsection', '8', '.', '1Novels', '8', '.', '2Short', 'story', 'collections', '9See', 'also', '10Notes', '11Sherlock', 'Holmes', 'story', 'references', '12Citations', '13Further', 'reading', '14External', 'links', 'Toggle', 'the', 'table', 'of', 'contents', 'Toggle', 'the', 'table', 'of', 'contents', 'Sherlock', 'Holmes', '99', 'languages', 'العربيةঅসমীয়াAsturianuAzərbaycancaবাংলাBân', '-', 'lâm', '-', 'gúБеларускаяБеларуская', '(', 'тарашкевіца', ')', 'Bikol', 'CentralБългарскиBosanskiBrezhonegCatalàЧӑвашлаCebuanoČeštinaCymraegDanskDeutschEestiΕλληνικάEspañolEsperantoEuskaraفارسیFrançaisFryskGaeilgeGalego한국어Հայերենहिन्दीHornjoserbsceHrvatskiBahasa', 'IndonesiaInterlinguaÍslenskaItalianoעבריתಕನ್ನಡქართულიҚазақшаKurdîКыргызчаLatinaLatviešuLëtzebuergeschLietuviųMagyarМакедонскиMalagasyമലയാളംMaltiमराठीمصرىBahasa', 'MelayuМонголမြန်မာဘာသာNāhuatlNederlands日本語Norsk', 'bokmålNorsk', 'nynorskOccitanOʻzbekcha', '/', 'ўзбекчаਪੰਜਾਬੀپنجابیپښتوPolskiPortuguêsRomânăRumantschРусскийScotsShqipSicilianuසිංහලSimple', 'EnglishSlovenčinaSlovenščinaکوردیСрпски', '/', 'srpskiSrpskohrvatski', '/', 'српскохрватскиSuomiSvenskaTagalogதமிழ்Татарча', '/', 'tatarçaไทยТоҷикӣTürkçeУкраїнськаاردوTiếng', 'ViệtWinaray吴语粵語Žemaitėška中文', 'Edit', 'links', 'ArticleTalk', 'English', 'ReadView', 'sourceView', 'history', 'Tools', 'Tools', 'move', 'to', 'sidebar', 'hide', 'Actions', 'ReadView', 'sourceView', 'history', 'General', 'What', 'links', 'hereRelated', 'changesUpload', 'fileSpecial', 'pagesPermanent', 'linkPage', 'informationGet', 'shortened', 'URLCite', 'this', 'pageWikidata', 'item', 'Print/export', 'Download', 'as', 'PDFPrintable', 'version', 'In', 'other', 'projects', 'Wikimedia', 'CommonsWikiquote', 'From', 'Wikipedia', ',', 'the', 'free', 'encyclopedia', 'Fictional', 'character', '(', 'consulting', 'detective', ')', 'created', 'by', 'Sir', 'Arthur', 'Conan', 'Doyle', 'For', 'other', 'uses', ',', 'see', 'Sherlock', 'Holmes', '(', 'disambiguation', ')', '.', 'Fictional', 'character', 'Sherlock', 'HolmesSherlock', 'Holmes', 'characterSherlock', 'Holmes', 'in', 'a', '1904', 'illustration', 'by', 'Sidney', 'PagetFirst', 'appearanceA', 'Study', 'in', 'Scarlet', '(', '1887', ')', 'Last', 'appearance', '\"', 'The', 'Adventure', 'of', 'Shoscombe', 'Old', 'Place', '\"', '(', '1927', ',', 'canon', ')', 'Created', 'bySir', 'Arthur', 'Conan', 'DoyleIn', '-', 'universe', 'informationOccupationConsulting', 'private', 'detectiveFamilyMycroft', 'Holmes', '(', 'brother', ')', 'NationalityBritishBorn1854', 'Sherlock', 'Holmes', '(', '/ˈʃɜːrlɒk', 'ˈhoʊmz/', ')', 'is', 'a', 'fictional', 'detective', 'created', 'by', 'British', 'author', 'Arthur', 'Conan', 'Doyle', '.', 'Referring', 'to', 'himself', 'as', 'a', '\"', 'consulting', 'detective', '\"', 'in', 'the', 'stories', ',', 'Holmes', 'is', 'known', 'for', 'his', 'proficiency', 'with', 'observation', ',', 'deduction', ',', 'forensic', 'science', 'and', 'logical', 'reasoning', 'that', 'borders', 'on', 'the', 'fantastic', ',', 'which', 'he', 'employs', 'when', 'investigating', 'cases', 'for', 'a', 'wide', 'variety', 'of', 'clients', ',', 'including', 'Scotland', 'Yard', '.', 'First']\n"
          ]
        }
      ],
      "source": [
        "sherlock_wiki_tokens = sherlock_wiki_no_lines.split()\n",
        "print(sherlock_wiki_tokens[:500])"
      ]
    },
    {
      "cell_type": "markdown",
      "metadata": {
        "id": "MdQkJRb8cwAv"
      },
      "source": [
        "## Exercise\n",
        "\n",
        "Suppose you needed to tokenize lots of Wikipedia pages like this. Can you come up with a strategy for jumping straight to the content like we did with the Project Gutenberg book?\n",
        "\n",
        "Inspect the HTML Structure\n",
        "\n",
        "Modify Beautiful Soup Parsing"
      ]
    },
    {
      "cell_type": "markdown",
      "metadata": {
        "id": "VYB_DpIdcwAw"
      },
      "source": [
        "## NLTK Tokenizers\n",
        "\n",
        "NLTK has some tokenizers - the `punkt` tokenizer is the most popular.\n",
        "\n",
        "It can tokenize by words:\n"
      ]
    },
    {
      "cell_type": "code",
      "execution_count": null,
      "metadata": {
        "id": "flHrDlEkcwAw",
        "outputId": "b049ff62-8a43-402e-ca09-1b82acc2d64a",
        "colab": {
          "base_uri": "https://localhost:8080/",
          "height": 1000
        }
      },
      "outputs": [
        {
          "output_type": "display_data",
          "data": {
            "text/plain": [
              "<IPython.core.display.HTML object>"
            ],
            "text/html": [
              "\n",
              "  <style>\n",
              "    pre {\n",
              "        white-space: pre-wrap;\n",
              "    }\n",
              "  </style>\n",
              "  "
            ]
          },
          "metadata": {}
        },
        {
          "output_type": "stream",
          "name": "stderr",
          "text": [
            "[nltk_data] Downloading package punkt to /root/nltk_data...\n",
            "[nltk_data]   Unzipping tokenizers/punkt.zip.\n"
          ]
        },
        {
          "output_type": "stream",
          "name": "stdout",
          "text": [
            "['ï', '»', '¿The', 'Project', 'Gutenberg', 'eBook', 'of', 'The', 'Adventures', 'of', 'Sherlock', 'Holmes', ',', 'by', 'Arthur', 'Conan', 'Doyle', 'This', 'eBook', 'is', 'for', 'the', 'use', 'of', 'anyone', 'anywhere', 'in', 'the', 'United', 'States', 'and', 'most', 'other', 'parts', 'of', 'the', 'world', 'at', 'no', 'cost', 'and', 'with', 'almost', 'no', 'restrictions', 'whatsoever', '.', 'You', 'may', 'copy', 'it', ',', 'give', 'it', 'away', 'or', 're-use', 'it', 'under', 'the', 'terms', 'of', 'the', 'Project', 'Gutenberg', 'License', 'included', 'with', 'this', 'eBook', 'or', 'online', 'at', 'www.gutenberg.org', '.', 'If', 'you', 'are', 'not', 'located', 'in', 'the', 'United', 'States', ',', 'you', 'will', 'have', 'to', 'check', 'the', 'laws', 'of', 'the', 'country', 'where', 'you', 'are', 'located', 'before', 'using', 'this', 'eBook', '.', 'Title', ':', 'The', 'Adventures', 'of', 'Sherlock', 'Holmes', 'Author', ':', 'Arthur', 'Conan', 'Doyle', 'Release', 'Date', ':', 'November', '29', ',', '2002', '[', 'eBook', '#', '1661', ']', '[', 'Most', 'recently', 'updated', ':', 'May', '20', ',', '2019', ']', 'Language', ':', 'English', 'Character', 'set', 'encoding', ':', 'UTF-8', 'Produced', 'by', ':', 'an', 'anonymous', 'Project', 'Gutenberg', 'volunteer', 'and', 'Jose', 'Menendez', '*', '*', '*', 'START', 'OF', 'THE', 'PROJECT', 'GUTENBERG', 'EBOOK', 'THE', 'ADVENTURES', 'OF', 'SHERLOCK', 'HOLMES', '*', '*', '*', 'cover', 'The', 'Adventures', 'of', 'Sherlock', 'Holmes', 'by', 'Arthur', 'Conan', 'Doyle', 'Contents', 'I', '.', 'A', 'Scandal', 'in', 'Bohemia', 'II', '.', 'The', 'Red-Headed', 'League', 'III', '.', 'A', 'Case', 'of', 'Identity', 'IV', '.', 'The', 'Boscombe', 'Valley', 'Mystery', 'V.', 'The', 'Five', 'Orange', 'Pips', 'VI', '.', 'The', 'Man', 'with', 'the', 'Twisted', 'Lip', 'VII', '.', 'The', 'Adventure', 'of', 'the', 'Blue', 'Carbuncle', 'VIII', '.', 'The', 'Adventure', 'of', 'the', 'Speckled', 'Band', 'IX', '.', 'The', 'Adventure', 'of', 'the', 'Engineerâ\\x80\\x99s', 'Thumb', 'X', '.', 'The', 'Adventure', 'of', 'the', 'Noble', 'Bachelor', 'XI', '.', 'The', 'Adventure', 'of', 'the', 'Beryl', 'Coronet', 'XII', '.', 'The', 'Adventure', 'of', 'the', 'Copper', 'Beeches', 'I', '.', 'A', 'SCANDAL', 'IN', 'BOHEMIA', 'I', '.', 'To', 'Sherlock', 'Holmes', 'she', 'is', 'always', '_the_', 'woman', '.', 'I', 'have', 'seldom', 'heard', 'him', 'mention', 'her', 'under', 'any', 'other', 'name', '.', 'In', 'his', 'eyes', 'she', 'eclipses', 'and', 'predominates', 'the', 'whole', 'of', 'her', 'sex', '.', 'It', 'was', 'not', 'that', 'he', 'felt', 'any', 'emotion', 'akin', 'to', 'love', 'for', 'Irene', 'Adler', '.', 'All', 'emotions', ',', 'and', 'that', 'one', 'particularly', ',', 'were', 'abhorrent', 'to', 'his', 'cold', ',', 'precise', 'but', 'admirably', 'balanced', 'mind', '.', 'He', 'was', ',', 'I', 'take', 'it', ',', 'the', 'most', 'perfect', 'reasoning', 'and', 'observing', 'machine', 'that', 'the', 'world', 'has', 'seen', ',', 'but', 'as', 'a', 'lover', 'he', 'would', 'have', 'placed', 'himself', 'in', 'a', 'false', 'position', '.', 'He', 'never', 'spoke', 'of', 'the', 'softer', 'passions', ',', 'save', 'with', 'a', 'gibe', 'and', 'a', 'sneer', '.', 'They', 'were', 'admirable', 'things', 'for', 'the', 'observerâ\\x80\\x94excellent', 'for', 'drawing', 'the', 'veil', 'from', 'menâ\\x80\\x99s', 'motives', 'and', 'actions', '.', 'But', 'for', 'the', 'trained', 'reasoner', 'to', 'admit', 'such', 'intrusions', 'into', 'his', 'own', 'delicate', 'and', 'finely', 'adjusted', 'temperament', 'was', 'to', 'introduce', 'a', 'distracting', 'factor', 'which', 'might', 'throw', 'a', 'doubt', 'upon', 'all', 'his', 'mental', 'results', '.', 'Grit', 'in', 'a', 'sensitive', 'instrument', ',', 'or', 'a', 'crack', 'in', 'one', 'of', 'his', 'own', 'high-power', 'lenses', ',', 'would', 'not', 'be', 'more', 'disturbing', 'than', 'a', 'strong', 'emotion', 'in', 'a', 'nature', 'such', 'as', 'his', '.', 'And', 'yet', 'there', 'was', 'but', 'one', 'woman', 'to', 'him', ',', 'and', 'that', 'woman', 'was', 'the', 'late', 'Irene', 'Adler', ',', 'of', 'dubious', 'and', 'questionable', 'memory', '.', 'I', 'had', 'seen', 'little', 'of', 'Holmes', 'lately', '.', 'My', 'marriage', 'had', 'drifted', 'us', 'away', 'from', 'each', 'other', '.', 'My', 'own', 'complete', 'happiness', ',', 'and', 'the', 'home-centred', 'interests', 'which', 'rise', 'up', 'around', 'the', 'man', 'who', 'first', 'finds', 'himself', 'master', 'of', 'his', 'own', 'establishment', ',', 'were', 'sufficient', 'to', 'absorb', 'all', 'my', 'attention', ',', 'while', 'Holmes', ',', 'who', 'loathed', 'every', 'form', 'of', 'society', 'with', 'his', 'whole', 'Bohemian', 'soul', ',', 'remained', 'in', 'our', 'lodgings', 'in', 'Baker', 'Street', ',', 'buried', 'among', 'his', 'old', 'books', ',', 'and', 'alternating', 'from', 'week', 'to', 'week', 'between', 'cocaine', 'and', 'ambition', ',', 'the', 'drowsiness', 'of', 'the', 'drug', ',', 'and', 'the', 'fierce', 'energy', 'of', 'his', 'own', 'keen', 'nature', '.', 'He', 'was', 'still', ',', 'as', 'ever', ',', 'deeply', 'attracted', 'by', 'the', 'study', 'of', 'crime', ',', 'and', 'occupied', 'his', 'immense', 'faculties', 'and', 'extraordinary', 'powers', 'of', 'observation', 'in', 'following', 'out', 'those', 'clues', ',', 'and', 'clearing', 'up', 'those', 'mysteries', 'which', 'had', 'been', 'abandoned', 'as', 'hopeless', 'by', 'the', 'official', 'police', '.', 'From', 'time', 'to', 'time', 'I', 'heard', 'some', 'vague', 'account', 'of', 'his', 'doings', ':', 'of', 'his', 'summons', 'to', 'Odessa', 'in', 'the', 'case', 'of', 'the', 'Trepoff', 'murder', ',', 'of', 'his', 'clearing', 'up', 'of', 'the', 'singular', 'tragedy', 'of', 'the', 'Atkinson', 'brothers', 'at', 'Trincomalee', ',', 'and', 'finally', 'of', 'the', 'mission', 'which', 'he', 'had', 'accomplished', 'so', 'delicately', 'and', 'successfully', 'for', 'the', 'reigning', 'family', 'of', 'Holland', '.', 'Beyond', 'these', 'signs', 'of', 'his', 'activity', ',', 'however', ',', 'which', 'I', 'merely', 'shared', 'with', 'all', 'the', 'readers', 'of', 'the', 'daily', 'press', ',', 'I', 'knew', 'little', 'of', 'my', 'former', 'friend', 'and', 'companion', '.', 'One', 'nightâ\\x80\\x94it', 'was', 'on', 'the', 'twentieth', 'of', 'March', ',', '1888â\\x80\\x94I', 'was', 'returning', 'from', 'a', 'journey', 'to', 'a', 'patient', '(', 'for', 'I', 'had', 'now', 'returned', 'to', 'civil', 'practice', ')', ',', 'when', 'my', 'way', 'led', 'me', 'through', 'Baker', 'Street', '.', 'As', 'I', 'passed', 'the', 'well-remembered', 'door', ',', 'which', 'must', 'always', 'be', 'associated', 'in', 'my', 'mind', 'with', 'my', 'wooing', ',', 'and', 'with', 'the', 'dark', 'incidents', 'of', 'the', 'Study', 'in', 'Scarlet', ',', 'I', 'was', 'seized', 'with', 'a', 'keen', 'desire', 'to', 'see', 'Holmes', 'again', ',', 'and', 'to', 'know', 'how', 'he', 'was', 'employing', 'his', 'extraordinary', 'powers', '.', 'His', 'rooms', 'were', 'brilliantly', 'lit', ',', 'and', ',', 'even', 'as', 'I', 'looked', 'up', ',', 'I', 'saw', 'his', 'tall', ',', 'spare', 'figure', 'pass', 'twice', 'in', 'a', 'dark', 'silhouette', 'against', 'the', 'blind', '.', 'He', 'was', 'pacing', 'the', 'room', 'swiftly', ',', 'eagerly', ',', 'with', 'his', 'head', 'sunk', 'upon', 'his', 'chest', 'and', 'his', 'hands', 'clasped', 'behind', 'him', '.', 'To', 'me', ',', 'who', 'knew', 'his', 'every', 'mood', 'and', 'habit', ',', 'his', 'attitude', 'and', 'manner', 'told', 'their', 'own', 'story', '.', 'He', 'was', 'at', 'work', 'again', '.', 'He', 'had', 'risen', 'out', 'of', 'his', 'drug-created', 'dreams', 'and', 'was', 'hot', 'upon', 'the', 'scent', 'of', 'some', 'new', 'problem', '.', 'I', 'rang', 'the', 'bell', 'and', 'was', 'shown', 'up', 'to', 'the', 'chamber', 'which', 'had', 'formerly', 'been', 'in', 'part', 'my', 'own', '.', 'His', 'manner', 'was', 'not', 'effusive', '.', 'It', 'seldom', 'was', ';', 'but', 'he', 'was', 'glad', ',', 'I', 'think', ',', 'to', 'see', 'me', '.', 'With', 'hardly', 'a', 'word', 'spoken', ',', 'but', 'with', 'a', 'kindly', 'eye', ',', 'he', 'waved', 'me', 'to']\n"
          ]
        }
      ],
      "source": [
        "import nltk\n",
        "import requests\n",
        "\n",
        "nltk.download(\"punkt\") #need to do this the first time you run it\n",
        "\n",
        "response = requests.get(\"https://www.gutenberg.org/files/1661/1661-0.txt\")\n",
        "sherlock_raw_text = response.text\n",
        "\n",
        "sherlock_words = nltk.word_tokenize(sherlock_raw_text)\n",
        "print(sherlock_words[:1000])"
      ]
    },
    {
      "cell_type": "markdown",
      "metadata": {
        "id": "Js1Yo1JEcwAw"
      },
      "source": [
        "or sentences"
      ]
    },
    {
      "cell_type": "code",
      "execution_count": null,
      "metadata": {
        "id": "ys9XQMMEcwAw",
        "outputId": "43e881ad-7f43-4643-8f41-4d4b8e01961e",
        "colab": {
          "base_uri": "https://localhost:8080/",
          "height": 1000
        }
      },
      "outputs": [
        {
          "output_type": "display_data",
          "data": {
            "text/plain": [
              "<IPython.core.display.HTML object>"
            ],
            "text/html": [
              "\n",
              "  <style>\n",
              "    pre {\n",
              "        white-space: pre-wrap;\n",
              "    }\n",
              "  </style>\n",
              "  "
            ]
          },
          "metadata": {}
        },
        {
          "output_type": "stream",
          "name": "stdout",
          "text": [
            "['ï»¿The Project Gutenberg eBook of The Adventures of Sherlock Holmes, by Arthur Conan Doyle\\r\\n\\r\\nThis eBook is for the use of anyone anywhere in the United States and\\r\\nmost other parts of the world at no cost and with almost no restrictions\\r\\nwhatsoever.', 'You may copy it, give it away or re-use it under the terms\\r\\nof the Project Gutenberg License included with this eBook or online at\\r\\nwww.gutenberg.org.', 'If you are not located in the United States, you\\r\\nwill have to check the laws of the country where you are located before\\r\\nusing this eBook.', 'Title: The Adventures of Sherlock Holmes\\r\\n\\r\\nAuthor: Arthur Conan Doyle\\r\\n\\r\\nRelease Date: November 29, 2002 [eBook #1661]\\r\\n[Most recently updated: May 20, 2019]\\r\\n\\r\\nLanguage: English\\r\\n\\r\\nCharacter set encoding: UTF-8\\r\\n\\r\\nProduced by: an anonymous Project Gutenberg volunteer and Jose Menendez\\r\\n\\r\\n*** START OF THE PROJECT GUTENBERG EBOOK THE ADVENTURES OF SHERLOCK HOLMES ***\\r\\n\\r\\ncover\\r\\n\\r\\n\\r\\n\\r\\n\\r\\nThe Adventures of Sherlock Holmes\\r\\n\\r\\nby Arthur Conan Doyle\\r\\n\\r\\n\\r\\nContents\\r\\n\\r\\n   I.', 'A Scandal in Bohemia\\r\\n   II.', 'The Red-Headed League\\r\\n   III.', 'A Case of Identity\\r\\n   IV.', 'The Boscombe Valley Mystery\\r\\n   V.     The Five Orange Pips\\r\\n   VI.', 'The Man with the Twisted Lip\\r\\n   VII.', 'The Adventure of the Blue Carbuncle\\r\\n   VIII.', 'The Adventure of the Speckled Band\\r\\n   IX.', 'The Adventure of the Engineerâ\\x80\\x99s Thumb\\r\\n   X.', 'The Adventure of the Noble Bachelor\\r\\n   XI.', 'The Adventure of the Beryl Coronet\\r\\n   XII.', 'The Adventure of the Copper Beeches\\r\\n\\r\\n\\r\\n\\r\\n\\r\\nI.', 'A SCANDAL IN BOHEMIA\\r\\n\\r\\n\\r\\nI.', 'To Sherlock Holmes she is always _the_ woman.', 'I have seldom heard him\\r\\nmention her under any other name.', 'In his eyes she eclipses and\\r\\npredominates the whole of her sex.', 'It was not that he felt any emotion\\r\\nakin to love for Irene Adler.', 'All emotions, and that one particularly,\\r\\nwere abhorrent to his cold, precise but admirably balanced mind.', 'He\\r\\nwas, I take it, the most perfect reasoning and observing machine that\\r\\nthe world has seen, but as a lover he would have placed himself in a\\r\\nfalse position.', 'He never spoke of the softer passions, save with a gibe\\r\\nand a sneer.', 'They were admirable things for the observerâ\\x80\\x94excellent for\\r\\ndrawing the veil from menâ\\x80\\x99s motives and actions.', 'But for the trained\\r\\nreasoner to admit such intrusions into his own delicate and finely\\r\\nadjusted temperament was to introduce a distracting factor which might\\r\\nthrow a doubt upon all his mental results.', 'Grit in a sensitive\\r\\ninstrument, or a crack in one of his own high-power lenses, would not\\r\\nbe more disturbing than a strong emotion in a nature such as his.', 'And\\r\\nyet there was but one woman to him, and that woman was the late Irene\\r\\nAdler, of dubious and questionable memory.', 'I had seen little of Holmes lately.', 'My marriage had drifted us away\\r\\nfrom each other.', 'My own complete happiness, and the home-centred\\r\\ninterests which rise up around the man who first finds himself master\\r\\nof his own establishment, were sufficient to absorb all my attention,\\r\\nwhile Holmes, who loathed every form of society with his whole Bohemian\\r\\nsoul, remained in our lodgings in Baker Street, buried among his old\\r\\nbooks, and alternating from week to week between cocaine and ambition,\\r\\nthe drowsiness of the drug, and the fierce energy of his own keen\\r\\nnature.', 'He was still, as ever, deeply attracted by the study of crime,\\r\\nand occupied his immense faculties and extraordinary powers of\\r\\nobservation in following out those clues, and clearing up those\\r\\nmysteries which had been abandoned as hopeless by the official police.', 'From time to time I heard some vague account of his doings: of his\\r\\nsummons to Odessa in the case of the Trepoff murder, of his clearing up\\r\\nof the singular tragedy of the Atkinson brothers at Trincomalee, and\\r\\nfinally of the mission which he had accomplished so delicately and\\r\\nsuccessfully for the reigning family of Holland.', 'Beyond these signs of\\r\\nhis activity, however, which I merely shared with all the readers of\\r\\nthe daily press, I knew little of my former friend and companion.', 'One nightâ\\x80\\x94it was on the twentieth of March, 1888â\\x80\\x94I was returning from a\\r\\njourney to a patient (for I had now returned to civil practice), when\\r\\nmy way led me through Baker Street.', 'As I passed the well-remembered\\r\\ndoor, which must always be associated in my mind with my wooing, and\\r\\nwith the dark incidents of the Study in Scarlet, I was seized with a\\r\\nkeen desire to see Holmes again, and to know how he was employing his\\r\\nextraordinary powers.', 'His rooms were brilliantly lit, and, even as I\\r\\nlooked up, I saw his tall, spare figure pass twice in a dark silhouette\\r\\nagainst the blind.', 'He was pacing the room swiftly, eagerly, with his\\r\\nhead sunk upon his chest and his hands clasped behind him.', 'To me, who\\r\\nknew his every mood and habit, his attitude and manner told their own\\r\\nstory.', 'He was at work again.', 'He had risen out of his drug-created\\r\\ndreams and was hot upon the scent of some new problem.', 'I rang the bell\\r\\nand was shown up to the chamber which had formerly been in part my own.', 'His manner was not effusive.', 'It seldom was; but he was glad, I think,\\r\\nto see me.', 'With hardly a word spoken, but with a kindly eye, he waved\\r\\nme to an armchair, threw across his case of cigars, and indicated a\\r\\nspirit case and a gasogene in the corner.', 'Then he stood before the fire\\r\\nand looked me over in his singular introspective fashion.', 'â\\x80\\x9cWedlock suits you,â\\x80\\x9d he remarked.', 'â\\x80\\x9cI think, Watson, that you have put\\r\\non seven and a half pounds since I saw you.â\\x80\\x9d\\r\\n\\r\\nâ\\x80\\x9cSeven!â\\x80\\x9d I answered.', 'â\\x80\\x9cIndeed, I should have thought a little more.', 'Just a trifle more, I\\r\\nfancy, Watson.', 'And in practice again, I observe.', 'You did not tell me\\r\\nthat you intended to go into harness.â\\x80\\x9d\\r\\n\\r\\nâ\\x80\\x9cThen, how do you know?â\\x80\\x9d\\r\\n\\r\\nâ\\x80\\x9cI see it, I deduce it.', 'How do I know that you have been getting\\r\\nyourself very wet lately, and that you have a most clumsy and careless\\r\\nservant girl?â\\x80\\x9d\\r\\n\\r\\nâ\\x80\\x9cMy dear Holmes,â\\x80\\x9d said I, â\\x80\\x9cthis is too much.', 'You would certainly have\\r\\nbeen burned, had you lived a few centuries ago.', 'It is true that I had a\\r\\ncountry walk on Thursday and came home in a dreadful mess, but as I\\r\\nhave changed my clothes I canâ\\x80\\x99t imagine how you deduce it.', 'As to Mary\\r\\nJane, she is incorrigible, and my wife has given her notice, but there,\\r\\nagain, I fail to see how you work it out.â\\x80\\x9d\\r\\n\\r\\nHe chuckled to himself and rubbed his long, nervous hands together.', 'â\\x80\\x9cIt is simplicity itself,â\\x80\\x9d said he; â\\x80\\x9cmy eyes tell me that on the inside\\r\\nof your left shoe, just where the firelight strikes it, the leather is\\r\\nscored by six almost parallel cuts.', 'Obviously they have been caused by\\r\\nsomeone who has very carelessly scraped round the edges of the sole in\\r\\norder to remove crusted mud from it.', 'Hence, you see, my double\\r\\ndeduction that you had been out in vile weather, and that you had a\\r\\nparticularly malignant boot-slitting specimen of the London slavey.', 'As\\r\\nto your practice, if a gentleman walks into my rooms smelling of\\r\\niodoform, with a black mark of nitrate of silver upon his right\\r\\nforefinger, and a bulge on the right side of his top-hat to show where\\r\\nhe has secreted his stethoscope, I must be dull, indeed, if I do not\\r\\npronounce him to be an active member of the medical profession.â\\x80\\x9d\\r\\n\\r\\nI could not help laughing at the ease with which he explained his\\r\\nprocess of deduction.', 'â\\x80\\x9cWhen I hear you give your reasons,â\\x80\\x9d I remarked,\\r\\nâ\\x80\\x9cthe thing always appears to me to be so ridiculously simple that I\\r\\ncould easily do it myself, though at each successive instance of your\\r\\nreasoning I am baffled until you explain your process.', 'And yet I\\r\\nbelieve that my eyes are as good as yours.â\\x80\\x9d\\r\\n\\r\\nâ\\x80\\x9cQuite so,â\\x80\\x9d he answered, lighting a cigarette, and throwing himself\\r\\ndown into an armchair.', 'â\\x80\\x9cYou see, but you do not observe.', 'The\\r\\ndistinction is clear.', 'For example, you have frequently seen the steps\\r\\nwhich lead up from the hall to this room.â\\x80\\x9d\\r\\n\\r\\nâ\\x80\\x9cFrequently.â\\x80\\x9d\\r\\n\\r\\nâ\\x80\\x9cHow often?â\\x80\\x9d\\r\\n\\r\\nâ\\x80\\x9cWell, some hundreds of times.â\\x80\\x9d\\r\\n\\r\\nâ\\x80\\x9cThen how many are there?â\\x80\\x9d\\r\\n\\r\\nâ\\x80\\x9cHow many?', 'I donâ\\x80\\x99t know.â\\x80\\x9d\\r\\n\\r\\nâ\\x80\\x9cQuite so!', 'You have not observed.', 'And yet you have seen.', 'That is just\\r\\nmy point.', 'Now, I know that there are seventeen steps, because I have\\r\\nboth seen and observed.', 'By the way, since you are interested in these\\r\\nlittle problems, and since you are good enough to chronicle one or two\\r\\nof my trifling experiences, you may be interested in this.â\\x80\\x9d He threw\\r\\nover a sheet of thick, pink-tinted notepaper which had been lying open\\r\\nupon the table.', 'â\\x80\\x9cIt came by the last post,â\\x80\\x9d said he.', 'â\\x80\\x9cRead it aloud.â\\x80\\x9d\\r\\n\\r\\nThe note was undated, and without either signature or address.', 'â\\x80\\x9cThere will call upon you to-night, at a quarter to eight oâ\\x80\\x99clock,â\\x80\\x9d it\\r\\nsaid, â\\x80\\x9ca gentleman who desires to consult you upon a matter of the very\\r\\ndeepest moment.', 'Your recent services to one of the royal houses of\\r\\nEurope have shown that you are one who may safely be trusted with\\r\\nmatters which are of an importance which can hardly be exaggerated.', 'This account of you we have from all quarters received.', 'Be in your\\r\\nchamber then at that hour, and do not take it amiss if your visitor\\r\\nwear a mask.â\\x80\\x9d\\r\\n\\r\\nâ\\x80\\x9cThis is indeed a mystery,â\\x80\\x9d I remarked.', 'â\\x80\\x9cWhat do you imagine that it\\r\\nmeans?â\\x80\\x9d\\r\\n\\r\\nâ\\x80\\x9cI have no data yet.', 'It is a capital mistake to theorise before one has\\r\\ndata.', 'Insensibly one begins to twist facts to suit theories, instead of\\r\\ntheories to suit facts.', 'But the note itself.', 'What do you deduce from\\r\\nit?â\\x80\\x9d\\r\\n\\r\\nI carefully examined the writing, and the paper upon which it was\\r\\nwritten.', 'â\\x80\\x9cThe man who wrote it was presumably well to do,â\\x80\\x9d I remarked,\\r\\nendeavouring to imitate my companionâ\\x80\\x99s processes.', 'â\\x80\\x9cSuch paper could not\\r\\nbe bought under half a crown a packet.', 'It is peculiarly strong and\\r\\nstiff.â\\x80\\x9d\\r\\n\\r\\nâ\\x80\\x9cPeculiarâ\\x80\\x94that is the very word,â\\x80\\x9d said Holmes.', 'â\\x80\\x9cIt is not an English\\r\\npaper at all.', 'Hold it up to the light.â\\x80\\x9d\\r\\n\\r\\nI did so, and saw a large â\\x80\\x9cEâ\\x80\\x9d with a small â\\x80\\x9cg,â\\x80\\x9d a â\\x80\\x9cP,â\\x80\\x9d and a large â\\x80\\x9cGâ\\x80\\x9d\\r\\nwith a small â\\x80\\x9ctâ\\x80\\x9d woven into the texture of the paper.', 'â\\x80\\x9cWhat do you make of that?â\\x80\\x9d asked Holmes.', 'â\\x80\\x9cThe name of the maker, no doubt; or his monogram, rather.â\\x80\\x9d\\r\\n\\r\\nâ\\x80\\x9cNot at all.', 'The â\\x80\\x98Gâ\\x80\\x99 with the small â\\x80\\x98tâ\\x80\\x99 stands for â\\x80\\x98Gesellschaft,â\\x80\\x99\\r\\nwhich is the German for â\\x80\\x98Company.â\\x80\\x99 It is a customary contraction like\\r\\nour â\\x80\\x98Co.â\\x80\\x99 â\\x80\\x98P,â\\x80\\x99 of course, stands for â\\x80\\x98Papier.â\\x80\\x99 Now for the â\\x80\\x98Eg.â\\x80\\x99 Let us\\r\\nglance at our Continental Gazetteer.â\\x80\\x9d He took down a heavy brown volume\\r\\nfrom his shelves.', 'â\\x80\\x9cEglow, Eglonitzâ\\x80\\x94here we are, Egria.', 'It is in a\\r\\nGerman-speaking countryâ\\x80\\x94in Bohemia, not far from Carlsbad.', 'â\\x80\\x98Remarkable\\r\\nas being the scene of the death of Wallenstein, and for its numerous\\r\\nglass-factories and paper-mills.â\\x80\\x99 Ha, ha, my boy, what do you make of\\r\\nthat?â\\x80\\x9d His eyes sparkled, and he sent up a great blue triumphant cloud\\r\\nfrom his cigarette.', 'â\\x80\\x9cThe paper was made in Bohemia,â\\x80\\x9d I said.', 'â\\x80\\x9cPrecisely.', 'And the man who wrote the note is a German.', 'Do you note the\\r\\npeculiar construction of the sentenceâ\\x80\\x94â\\x80\\x98This account of you we have from\\r\\nall quarters received.â\\x80\\x99 A Frenchman or Russian could not have written\\r\\nthat.', 'It is the German who is so uncourteous to his verbs.', 'It only\\r\\nremains, therefore, to discover what is wanted by this German who\\r\\nwrites upon Bohemian paper and prefers wearing a mask to showing his\\r\\nface.', 'And here he comes, if I am not mistaken, to resolve all our\\r\\ndoubts.â\\x80\\x9d\\r\\n\\r\\nAs he spoke there was the sharp sound of horsesâ\\x80\\x99 hoofs and grating\\r\\nwheels against the curb, followed by a sharp pull at the bell.', 'Holmes\\r\\nwhistled.']\n"
          ]
        }
      ],
      "source": [
        "import nltk\n",
        "import requests\n",
        "\n",
        "#nltk.download(\"punkt\") #only need to do this once\n",
        "\n",
        "response = requests.get(\"https://www.gutenberg.org/files/1661/1661-0.txt\")\n",
        "sherlock_raw_text = response.text\n",
        "\n",
        "sherlock_sentences = nltk.sent_tokenize(sherlock_raw_text)\n",
        "print(sherlock_sentences[:100])"
      ]
    },
    {
      "cell_type": "markdown",
      "metadata": {
        "id": "2P_YfcQPcwAw"
      },
      "source": [
        "## Exercise\n",
        "\n",
        "It seems that there are still some strange characters - can you preprocess the text to fix them before using the NLTK tokenizer?\n",
        "\n",
        "Could you structure the words by sentences like we did earlier?"
      ]
    },
    {
      "cell_type": "code",
      "source": [
        "char_remove = [\",\",\"!\",\"?\",\";\",\":\",\"“\",\"”\",\"’\",\"‘\"]\n",
        "char_change = [\"-\",\"—\",\"\\r\\n\"]\n",
        "\n",
        "\n",
        "for idx in range(len(sherlock_sentences)):\n",
        "    for c in char_remove:\n",
        "        sherlock_sentences[idx] = sherlock_sentences[idx].replace(c,\"\") #replace those characters with the empty string\n",
        "    for c in char_change:\n",
        "        sherlock_sentences[idx] = sherlock_sentences[idx].replace(c,\" \") #replace those characters with a space\n",
        "    sherlock_sentences[idx] = sherlock_sentences[idx].split()\n"
      ],
      "metadata": {
        "id": "m4fFO6q3lhV0"
      },
      "execution_count": null,
      "outputs": []
    },
    {
      "cell_type": "code",
      "source": [
        "sherlock_sentences_of_tokens = []\n",
        "\n",
        "for sentence in sherlock_sentences:\n",
        "  tokenized_sentence= nltk.word_tokenize(sentence)\n",
        "  sherlock_sentences_of_tokens"
      ],
      "metadata": {
        "id": "ggAlTwsJntcb"
      },
      "execution_count": null,
      "outputs": []
    },
    {
      "cell_type": "markdown",
      "metadata": {
        "id": "i7ePH8OVcwAw"
      },
      "source": [
        "## Automatic Tokenizers\n",
        "\n",
        "Rather than having to program specific rules for how to tokenize your text, you could learn to do it automatically.\n",
        "\n",
        "Two popular algorithms:\n",
        "* Byte-Pair Encoding tokenization (used by OpenAI's GPT)\n",
        "* WordPiece tokenization (used by Google's BERT)\n",
        "\n",
        "Main idea:\n",
        "* do some normalization and pre-tokenization - like the rule-based tokenization we used to form characters into sequences separated by spaces\n",
        "* start with a vocabulary where each character is a different possible token\n",
        "* find the most frequent consecutive pair, merge them together into a new token\n",
        "* keep going until your vocabulary is a desired size\n",
        "\n",
        "Frequent words - don't break them apart\n",
        "\n",
        "Less-frequent words - represent them as several subwords"
      ]
    },
    {
      "cell_type": "markdown",
      "metadata": {
        "id": "SbvVGY8ecwAx"
      },
      "source": [
        "For WordPiece, `##` represents a partial word"
      ]
    },
    {
      "cell_type": "code",
      "execution_count": null,
      "metadata": {
        "id": "u_sAIvxAcwAx",
        "outputId": "0d1a1cfa-1e4b-4175-86ff-d43f3c02d899",
        "colab": {
          "base_uri": "https://localhost:8080/",
          "height": 981
        }
      },
      "outputs": [
        {
          "output_type": "display_data",
          "data": {
            "text/plain": [
              "<IPython.core.display.HTML object>"
            ],
            "text/html": [
              "\n",
              "  <style>\n",
              "    pre {\n",
              "        white-space: pre-wrap;\n",
              "    }\n",
              "  </style>\n",
              "  "
            ]
          },
          "metadata": {}
        },
        {
          "output_type": "stream",
          "name": "stderr",
          "text": [
            "Token indices sequence length is longer than the specified maximum sequence length for this model (143279 > 512). Running this sequence through the model will result in indexing errors\n"
          ]
        },
        {
          "output_type": "stream",
          "name": "stdout",
          "text": [
            "['ï', '»', '¿', 'The', 'Project', 'G', '##ute', '##nberg', 'e', '##B', '##ook', 'of', 'The', 'Adventures', 'of', 'Sherlock', 'Holmes', ',', 'by', 'Arthur', 'Conan', 'Doyle', 'This', 'e', '##B', '##ook', 'is', 'for', 'the', 'use', 'of', 'anyone', 'anywhere', 'in', 'the', 'United', 'States', 'and', 'most', 'other', 'parts', 'of', 'the', 'world', 'at', 'no', 'cost', 'and', 'with', 'almost', 'no', 'restrictions', 'whatsoever', '.', 'You', 'may', 'copy', 'it', ',', 'give', 'it', 'away', 'or', 're', '-', 'use', 'it', 'under', 'the', 'terms', 'of', 'the', 'Project', 'G', '##ute', '##nberg', 'License', 'included', 'with', 'this', 'e', '##B', '##ook', 'or', 'online', 'at', 'www', '.', 'gut', '##enberg', '.', 'org', '.', 'If', 'you', 'are', 'not', 'located', 'in', 'the', 'United', 'States', ',', 'you', 'will', 'have', 'to', 'check', 'the', 'laws', 'of', 'the', 'country', 'where', 'you', 'are', 'located', 'before', 'using', 'this', 'e', '##B', '##ook', '.', 'Title', ':', 'The', 'Adventures', 'of', 'Sherlock', 'Holmes', 'Author', ':', 'Arthur', 'Conan', 'Doyle', 'Release', 'Date', ':', 'November', '29', ',', '2002', '[', 'e', '##B', '##ook', '#', '1661', ']', '[', 'Most', 'recently', 'updated', ':', 'May', '20', ',', '2019', ']', 'Language', ':', 'English', 'Character', 'set', 'encoding', ':', 'U', '##TF', '-', '8', 'Produced', 'by', ':', 'an', 'anonymous', 'Project', 'G', '##ute', '##nberg', 'volunteer', 'and', 'Jose', 'Men', '##end', '##ez', '*', '*', '*', 'ST', '##AR', '##T', 'OF', 'THE', 'PR', '##O', '##J', '##EC', '##T', 'G', '##UT', '##EN', '##BE', '##R', '##G', 'E', '##BO', '##OK', 'THE', 'AD', '##VE', '##NT', '##UR', '##ES', 'OF', 'SH', '##ER', '##L', '##OC', '##K', 'H', '##OL', '##ME', '##S', '*', '*', '*', 'cover', 'The', 'Adventures', 'of', 'Sherlock', 'Holmes', 'by', 'Arthur', 'Conan', 'Doyle', 'Content', '##s', 'I', '.', 'A', 'Sc', '##anda', '##l', 'in', 'Bohemia', 'II', '.', 'The', 'Red', '-', 'Head', '##ed', 'League', 'III', '.', 'A', 'Case', 'of', 'Identity', 'IV', '.', 'The', 'Bo', '##sco', '##mbe', 'Valley', 'Mystery', 'V', '.', 'The', 'Five', 'Orange', 'Pi', '##ps', 'VI', '.', 'The', 'Man', 'with', 'the', 'T', '##wi', '##sted', 'Li', '##p', 'VII', '.', 'The', 'Adventure', 'of', 'the', 'Blue', 'Car', '##bu', '##nc', '##le', 'VIII', '.', 'The', 'Adventure', 'of', 'the', 'S', '##pec', '##kled', 'Band', 'IX', '.', 'The', 'Adventure', 'of', 'the', 'Engineer', '##â', '##s', 'T', '##hum', '##b', 'X', '.', 'The', 'Adventure', 'of', 'the', 'Noble', 'Bachelor', 'XI', '.', 'The', 'Adventure', 'of', 'the', 'Be', '##ryl', 'Co', '##rone', '##t', 'XII', '.', 'The', 'Adventure', 'of', 'the', 'Copper', 'Bee', '##ches', 'I', '.', 'A', 'SC', '##AN', '##DA', '##L', 'IN', 'B', '##OH', '##EM', '##IA', 'I', '.', 'To', 'Sherlock', 'Holmes', 'she', 'is', 'always', '_', 'the', '_', 'woman', '.', 'I', 'have', 'seldom', 'heard', 'him', 'mention', 'her', 'under', 'any', 'other', 'name', '.', 'In', 'his', 'eyes', 'she', 'eclipse', '##s', 'and', 'pre', '##dom', '##inate', '##s', 'the', 'whole', 'of', 'her', 'sex', '.', 'It', 'was', 'not', 'that', 'he', 'felt', 'any', 'emotion', 'akin', 'to', 'love', 'for', 'Irene', 'Adler', '.', 'All', 'emotions', ',', 'and', 'that', 'one', 'particularly', ',', 'were', 'a', '##b', '##hor', '##rent', 'to', 'his', 'cold', ',', 'precise', 'but', 'ad', '##mir', '##ably', 'balanced', 'mind', '.', 'He', 'was', ',', 'I', 'take', 'it', ',', 'the', 'most', 'perfect', 'reasoning', 'and', 'observing', 'machine', 'that', 'the', 'world', 'has', 'seen', ',', 'but', 'as', 'a', 'lover', 'he', 'would', 'have', 'placed', 'himself', 'in', 'a', 'false', 'position', '.', 'He', 'never', 'spoke', 'of', 'the', 'softer', 'passion', '##s', ',', 'save', 'with', 'a', 'g', '##ibe', 'and', 'a', 's', '##neer', '.', 'They', 'were', 'ad', '##mir', '##able', 'things', 'for', 'the', 'observer', '##â', '##ex', '##cell', '##ent', 'for', 'drawing', 'the', 'veil', 'from', 'men', '##â', '##s', 'motives', 'and', 'actions', '.', 'But', 'for', 'the', 'trained', 'reason', '##er', 'to', 'admit', 'such', 'in', '##trusion', '##s', 'into', 'his', 'own', 'delicate', 'and', 'finely', 'adjusted', 'temper', '##ament', 'was', 'to', 'introduce', 'a', 'distract', '##ing', 'factor', 'which', 'might', 'throw', 'a', 'doubt', 'upon', 'all', 'his', 'mental', 'results', '.', 'G', '##rit', 'in', 'a', 'sensitive', 'instrument', ',', 'or', 'a', 'crack', 'in', 'one', 'of', 'his', 'own', 'high', '-', 'power', 'lenses', ',', 'would', 'not', 'be', 'more', 'disturbing', 'than', 'a', 'strong', 'emotion', 'in', 'a', 'nature', 'such', 'as', 'his', '.', 'And', 'yet', 'there', 'was', 'but', 'one', 'woman', 'to', 'him', ',', 'and', 'that', 'woman', 'was', 'the', 'late', 'Irene', 'Adler', ',', 'of', 'dubious', 'and', 'questionable', 'memory', '.', 'I', 'had', 'seen', 'little', 'of', 'Holmes', 'lately', '.', 'My', 'marriage', 'had', 'drifted', 'us', 'away', 'from', 'each', 'other', '.', 'My', 'own', 'complete', 'happiness', ',', 'and', 'the', 'home', '-', 'centred', 'interests', 'which', 'rise', 'up', 'around', 'the', 'man', 'who', 'first', 'finds', 'himself', 'master', 'of', 'his', 'own', 'establishment', ',', 'were', 'sufficient', 'to', 'absorb', 'all', 'my', 'attention', ',', 'while', 'Holmes', ',', 'who', 'lo', '##athed', 'every', 'form', 'of', 'society', 'with', 'his', 'whole', 'Bohemian', 'soul', ',', 'remained', 'in', 'our', 'lo', '##dging', '##s', 'in', 'Baker', 'Street', ',', 'buried', 'among', 'his', 'old', 'books', ',', 'and', 'alternating', 'from', 'week', 'to', 'week', 'between', 'cocaine', 'and', 'ambition', ',', 'the', 'd', '##rows', '##iness', 'of', 'the', 'drug', ',', 'and', 'the', 'fierce', 'energy', 'of', 'his', 'own', 'keen', 'nature', '.', 'He', 'was', 'still', ',', 'as', 'ever', ',', 'deeply', 'attracted', 'by', 'the', 'study', 'of', 'crime', ',', 'and', 'occupied', 'his', 'immense', 'faculties', 'and', 'extraordinary', 'powers', 'of', 'observation', 'in', 'following', 'out', 'those', 'clues', ',', 'and', 'clearing', 'up', 'those', 'mysteries', 'which', 'had', 'been', 'abandoned', 'as', 'hopeless', 'by', 'the', 'official', 'police', '.', 'From', 'time', 'to', 'time', 'I', 'heard', 'some', 'vague', 'account', 'of', 'his', 'doing', '##s', ':', 'of', 'his', 'summon', '##s', 'to', 'Odessa', 'in', 'the', 'case', 'of', 'the', 'T', '##re', '##po', '##ff', 'murder', ',', 'of', 'his', 'clearing', 'up', 'of', 'the', 'singular', 'tragedy', 'of', 'the', 'Atkinson', 'brothers', 'at', 'Tri', '##nco', '##mal', '##ee', ',', 'and', 'finally', 'of', 'the', 'mission', 'which', 'he', 'had', 'accomplished', 'so', 'delicate', '##ly', 'and', 'successfully', 'for', 'the', 'reigning', 'family', 'of', 'Holland', '.', 'Beyond', 'these', 'signs', 'of', 'his', 'activity', ',', 'however', ',', 'which', 'I', 'merely', 'shared', 'with', 'all', 'the', 'readers', 'of', 'the', 'daily', 'press', ',', 'I', 'knew', 'little', 'of', 'my', 'former', 'friend', 'and', 'companion', '.', 'One', 'night', '##â', '##it', 'was', 'on', 'the', 'twentieth', 'of', 'March', ',', '1888', '##â', '##I', 'was', 'returning', 'from', 'a', 'journey', 'to', 'a', 'patient', '(', 'for', 'I', 'had', 'now', 'returned', 'to', 'civil', 'practice', ')', ',', 'when', 'my', 'way', 'led', 'me', 'through', 'Baker', 'Street', '.', 'As', 'I', 'passed', 'the', 'well', '-', 'remembered', 'door', ',', 'which', 'must', 'always', 'be', 'associated', 'in', 'my', 'mind', 'with', 'my', 'w', '##oo', '##ing', ',', 'and', 'with', 'the', 'dark', 'incidents', 'of', 'the', 'Study', 'in', 'Scarlet', ',', 'I', 'was', 'seized', 'with', 'a', 'keen', 'desire', 'to', 'see', 'Holmes', 'again', ',', 'and', 'to', 'know', 'how', 'he', 'was', 'employing', 'his', 'extraordinary', 'powers', '.', 'His', 'rooms', 'were', 'brilliant', '##ly', 'lit', ',', 'and', ',', 'even', 'as', 'I', 'looked', 'up', ',', 'I', 'saw', 'his']\n"
          ]
        }
      ],
      "source": [
        "\n",
        "import requests\n",
        "from transformers import AutoTokenizer\n",
        "\n",
        "tokenizer = AutoTokenizer.from_pretrained(\"bert-base-cased\")\n",
        "\n",
        "\n",
        "response = requests.get(\"https://www.gutenberg.org/files/1661/1661-0.txt\")\n",
        "sherlock_raw_text = response.text\n",
        "\n",
        "sherlock_hf_tokens = tokenizer.tokenize( sherlock_raw_text )\n",
        "print(sherlock_hf_tokens[:1000])"
      ]
    },
    {
      "cell_type": "markdown",
      "metadata": {
        "id": "OT_syah3cwAx"
      },
      "source": [
        "## Byte-Pair Encoding\n",
        "\n",
        "Algorithm Idea:\n",
        "1. Pretokenize all of the things separated by whitespace, etc. (like we've done previously)\n",
        "2. Start with a *vocabulary* containing all the individual characters from the pre-tokens\n",
        "3. Until the vocabulary is the desired size\n",
        "    * merge together the most frequently-appearing pair of tokens and add it as a new token to the *vocabulary*\n",
        "    \n",
        "    \n",
        "Let's go through the example from here: https://huggingface.co/learn/nlp-course/chapter6/5?fw=pt\n",
        "\n",
        "Assume the corpus has only the following words: \"hug\", \"pug\", \"pun\", \"bun\", \"hugs\" and they appear with these frequencies (meaning \"hug\" appears 10 times, \"pug\" appears 5 times, etc:\n",
        "\n",
        "(\"hug\", 10), (\"pug\", 5), (\"pun\", 12), (\"bun\", 4), (\"hugs\", 5)"
      ]
    },
    {
      "cell_type": "markdown",
      "metadata": {
        "id": "d7La94IFcwAx"
      },
      "source": [
        "The initial vocabulary will be"
      ]
    },
    {
      "cell_type": "code",
      "execution_count": null,
      "metadata": {
        "id": "gQbNLW3tcwAx",
        "outputId": "f127483f-76f3-4662-fd78-6921d5325456",
        "colab": {
          "base_uri": "https://localhost:8080/",
          "height": 17
        }
      },
      "outputs": [
        {
          "output_type": "display_data",
          "data": {
            "text/plain": [
              "<IPython.core.display.HTML object>"
            ],
            "text/html": [
              "\n",
              "  <style>\n",
              "    pre {\n",
              "        white-space: pre-wrap;\n",
              "    }\n",
              "  </style>\n",
              "  "
            ]
          },
          "metadata": {}
        }
      ],
      "source": [
        "vocabulary = [\"b\", \"g\", \"h\", \"n\", \"p\", \"s\", \"u\"]"
      ]
    },
    {
      "cell_type": "markdown",
      "metadata": {
        "id": "LBc0TGqScwAx"
      },
      "source": [
        "Tokenize our pre-tokens using this vocabulary"
      ]
    },
    {
      "cell_type": "code",
      "execution_count": null,
      "metadata": {
        "id": "68GIcRCocwAy",
        "outputId": "483b30c3-ceff-4544-af9b-a936755d9f23",
        "colab": {
          "base_uri": "https://localhost:8080/",
          "height": 17
        }
      },
      "outputs": [
        {
          "output_type": "display_data",
          "data": {
            "text/plain": [
              "<IPython.core.display.HTML object>"
            ],
            "text/html": [
              "\n",
              "  <style>\n",
              "    pre {\n",
              "        white-space: pre-wrap;\n",
              "    }\n",
              "  </style>\n",
              "  "
            ]
          },
          "metadata": {}
        }
      ],
      "source": [
        "corpus = [(\"h\" \"u\" \"g\", 10), (\"p\" \"u\" \"g\", 5), (\"p\" \"u\" \"n\", 12), (\"b\" \"u\" \"n\", 4), (\"h\" \"u\" \"g\" \"s\", 5)]"
      ]
    },
    {
      "cell_type": "markdown",
      "metadata": {
        "id": "gw-0f05VcwAy"
      },
      "source": [
        "Find how frequently each pair appears.\n",
        "\n",
        "* \"h\" \"u\" appears 15 times (10 from \"hug\", 5 from \"hugs\")\n",
        "* \"u\" \"g\" appears 20 times (10 from \"hug\", 5 from \"pug\", 5 from \"hugs\")\n",
        "* \"p\" \"u\" appears 17 times (exercise) (5 from \"pug\", 12 from \"pun\")\n",
        "* \"u\" \"n\" appears 16 times (exercise) 16\n",
        "* \"b\" \"u\" appears 4 times (exercise)\n",
        "* \"g\" \"s\" appears 5 times (exercise)"
      ]
    },
    {
      "cell_type": "markdown",
      "metadata": {
        "id": "pBC2rb-ucwAy"
      },
      "source": [
        "If \"u\" \"g\" is the most frequent, we then add it to our vocabulary.\n",
        "\n",
        "Vocabulary and corpus are now"
      ]
    },
    {
      "cell_type": "code",
      "execution_count": null,
      "metadata": {
        "id": "qZmlWftrcwAy",
        "outputId": "2783d307-324f-4ce8-c7d3-05bafe6586d7",
        "colab": {
          "base_uri": "https://localhost:8080/",
          "height": 17
        }
      },
      "outputs": [
        {
          "output_type": "display_data",
          "data": {
            "text/plain": [
              "<IPython.core.display.HTML object>"
            ],
            "text/html": [
              "\n",
              "  <style>\n",
              "    pre {\n",
              "        white-space: pre-wrap;\n",
              "    }\n",
              "  </style>\n",
              "  "
            ]
          },
          "metadata": {}
        }
      ],
      "source": [
        "vocabulary = [\"b\", \"g\", \"h\", \"n\", \"p\", \"s\", \"u\", \"ug\"]\n",
        "corpus = [(\"h\" \"ug\", 10), (\"p\" \"ug\", 5), (\"p\" \"u\" \"n\", 12), (\"b\" \"u\" \"n\", 4), (\"h\" \"ug\" \"s\", 5)]"
      ]
    },
    {
      "cell_type": "markdown",
      "metadata": {
        "id": "JYum9TmHcwAz"
      },
      "source": [
        "Finding pair frequencies\n",
        "\n",
        "* \"h\" \"ug\" appears 15 times (10 from \"hug\", 5 from \"hugs\")\n",
        "* \"p\" \"ug\" appears 5 times\n",
        "* \"p\" \"u\"  appears 12 times\n",
        "* \"u\" \"n\"  appears 16 times\n",
        "* \"b\" \"u\"  appears 4 times\n",
        "* \"ug\" \"s\" appears 5 times\n",
        "\n",
        "So we merge \"u\" \"n\""
      ]
    },
    {
      "cell_type": "code",
      "execution_count": null,
      "metadata": {
        "id": "yiq9iev0cwAz",
        "outputId": "a611ca57-1a4e-439c-fe20-c078905630d0",
        "colab": {
          "base_uri": "https://localhost:8080/",
          "height": 17
        }
      },
      "outputs": [
        {
          "output_type": "display_data",
          "data": {
            "text/plain": [
              "<IPython.core.display.HTML object>"
            ],
            "text/html": [
              "\n",
              "  <style>\n",
              "    pre {\n",
              "        white-space: pre-wrap;\n",
              "    }\n",
              "  </style>\n",
              "  "
            ]
          },
          "metadata": {}
        }
      ],
      "source": [
        "vocabulary = [\"b\", \"g\", \"h\", \"n\", \"p\", \"s\", \"u\", \"ug\", \"un\"]\n",
        "corpus = [(\"h\" \"ug\", 10), (\"p\" \"ug\", 5), (\"p\" \"un\", 12), (\"b\" \"un\", 4), (\"h\" \"ug\" \"s\", 5)]"
      ]
    },
    {
      "cell_type": "markdown",
      "metadata": {
        "id": "qHq7lxYAcwA4"
      },
      "source": [
        "Finding pair frequencies\n",
        "\n",
        "* \"h\" \"ug\" appears 15 times\n",
        "* \"p\" \"ug\" appears 5 times\n",
        "* \"p\" \"un\"  appears 12 times\n",
        "* \"b\" \"un\"  appears 4 times\n",
        "* \"ug\" \"s\" appears 5 times\n",
        "\n",
        "So we merge \"h\" \"ug\""
      ]
    },
    {
      "cell_type": "code",
      "execution_count": null,
      "metadata": {
        "id": "HnuDcJmtcwA4",
        "outputId": "49303c43-94b0-47f8-ad62-41e40599643e",
        "colab": {
          "base_uri": "https://localhost:8080/",
          "height": 17
        }
      },
      "outputs": [
        {
          "output_type": "display_data",
          "data": {
            "text/plain": [
              "<IPython.core.display.HTML object>"
            ],
            "text/html": [
              "\n",
              "  <style>\n",
              "    pre {\n",
              "        white-space: pre-wrap;\n",
              "    }\n",
              "  </style>\n",
              "  "
            ]
          },
          "metadata": {}
        }
      ],
      "source": [
        "vocabulary = [\"b\", \"g\", \"h\", \"n\", \"p\", \"s\", \"u\", \"ug\", \"un\", \"hug\"]\n",
        "corpus = [(\"hug\", 10), (\"p\" \"ug\", 5), (\"p\" \"un\", 12), (\"b\" \"un\", 4), (\"hug\" \"s\", 5)]"
      ]
    },
    {
      "cell_type": "markdown",
      "metadata": {
        "id": "aax2N_JkcwA4"
      },
      "source": [
        "**Exercise:** when happens on the next merge step?\n",
        "\n",
        "Remember - we stop when the vocabular hits a pre-determined size"
      ]
    },
    {
      "cell_type": "code",
      "source": [
        "vocabulary = [\"b\", \"g\", \"h\", \"n\", \"p\", \"s\", \"u\", \"ug\", \"un\", \"hug\",\"pun\"]\n",
        "corpus = [(\"hug\", 10), (\"p\" \"ug\", 5), (\"p\" \"un\", 12), (\"b\" \"un\", 4), (\"hug\" \"s\", 5)]"
      ],
      "metadata": {
        "id": "Gn_26KqksOuo"
      },
      "execution_count": null,
      "outputs": []
    },
    {
      "cell_type": "markdown",
      "metadata": {
        "id": "YYB1zO32cwA4"
      },
      "source": [
        "## Tokenizing with BPE\n",
        "\n",
        "The algorithm for tokenizing with this trained model (vocabulary) is\n",
        "\n",
        "1. pre-tokenize (split by spaces)\n",
        "2. split pre-tokens (words) into characters, use \"[UNK]\" for unknowns\n",
        "3. apply the merge rules that were learned *in order*\n",
        "\n",
        "In our example, we learned the rules\n",
        "* (\"u\", \"g\") -> \"ug\"\n",
        "* (\"u\", \"n\") -> \"un\"\n",
        "* (\"h\", \"ug\") -> \"hug\"\n",
        "\n",
        "Example text: \"pun bug hugs mug\""
      ]
    },
    {
      "cell_type": "code",
      "execution_count": null,
      "metadata": {
        "id": "GGJoyqb4cwA5",
        "outputId": "43c1ba46-351c-47b7-e368-8efab4f3197a"
      },
      "outputs": [
        {
          "data": {
            "text/html": [
              "\n",
              "  <style>\n",
              "    pre {\n",
              "        white-space: pre-wrap;\n",
              "    }\n",
              "  </style>\n",
              "  "
            ],
            "text/plain": [
              "<IPython.core.display.HTML object>"
            ]
          },
          "metadata": {},
          "output_type": "display_data"
        }
      ],
      "source": [
        "vocabulary = [\"b\", \"g\", \"h\", \"n\", \"p\", \"s\", \"u\", \"ug\", \"un\", \"hug\"]\n",
        "pre_tokens = [\"pun\",\"bug\",\"hugs\",\"mug\"]\n",
        "split_pre_tokens = [[\"p\",\"u\",\"n\"],[\"b\",\"u\",\"g\"],[\"h\",\"u\",\"g\",\"s\"],[\"m\",\"u\",\"g\"]]\n",
        "split_pre_tokens = [[\"p\",\"u\",\"n\"],[\"b\",\"u\",\"g\"],[\"h\",\"u\",\"g\",\"s\"],[\"[UNK]\",\"u\",\"g\"]] #there is no m in the vocabulary\n",
        "after_first_merge_rule = [[\"p\",\"u\",\"n\"],[\"b\",\"ug\"],[\"h\",\"ug\",\"s\"],[\"[UNK]\",\"ug\"]]\n",
        "after_second_merge_rule = [[\"p\",\"un\"],[\"b\",\"ug\"],[\"h\",\"ug\",\"s\"],[\"[UNK]\",\"ug\"]]\n",
        "after_third_merge_rule = [[\"p\",\"un\"],[\"b\",\"ug\"],[\"hug\",\"s\"],[\"[UNK]\",\"ug\"]]\n",
        "final_tokens = [\"p\",\"un\",\"b\",\"ug\",\"hug\",\"s\",\"[UNK]\",\"ug\"]"
      ]
    },
    {
      "cell_type": "markdown",
      "metadata": {
        "id": "vL7huRyOcwA5"
      },
      "source": [
        "## WordPiece Tokenization\n",
        "\n",
        "Similar to BPE but represents partial words with \"##\", so instead of"
      ]
    },
    {
      "cell_type": "code",
      "execution_count": null,
      "metadata": {
        "id": "Ohs-6rnMcwA5",
        "outputId": "dbe881cb-b3e9-403b-eadc-e060b18ba1e6"
      },
      "outputs": [
        {
          "data": {
            "text/html": [
              "\n",
              "  <style>\n",
              "    pre {\n",
              "        white-space: pre-wrap;\n",
              "    }\n",
              "  </style>\n",
              "  "
            ],
            "text/plain": [
              "<IPython.core.display.HTML object>"
            ]
          },
          "metadata": {},
          "output_type": "display_data"
        }
      ],
      "source": [
        "corpus = [(\"h\" \"u\" \"g\", 10), (\"p\" \"u\" \"g\", 5), (\"p\" \"u\" \"n\", 12), (\"b\" \"u\" \"n\", 4), (\"h\" \"u\" \"g\" \"s\", 5)]"
      ]
    },
    {
      "cell_type": "markdown",
      "metadata": {
        "id": "MCrcWH7EcwA5"
      },
      "source": [
        "you have"
      ]
    },
    {
      "cell_type": "code",
      "execution_count": null,
      "metadata": {
        "id": "KGVxC3aWcwA5",
        "outputId": "1bfd27a1-7bfc-472b-e434-7c99145c35d2"
      },
      "outputs": [
        {
          "data": {
            "text/html": [
              "\n",
              "  <style>\n",
              "    pre {\n",
              "        white-space: pre-wrap;\n",
              "    }\n",
              "  </style>\n",
              "  "
            ],
            "text/plain": [
              "<IPython.core.display.HTML object>"
            ]
          },
          "metadata": {},
          "output_type": "display_data"
        }
      ],
      "source": [
        "corpus = (\"h\" \"##u\" \"##g\", 10), (\"p\" \"##u\" \"##g\", 5), (\"p\" \"##u\" \"##n\", 12), (\"b\" \"##u\" \"##n\", 4), (\"h\" \"##u\" \"##g\" \"##s\", 5)"
      ]
    },
    {
      "cell_type": "markdown",
      "metadata": {
        "id": "_YVB_G1McwA5"
      },
      "source": [
        "and it uses a different method to choose which pair to merge:\n",
        "\n",
        "$$score=(\\mbox{freq_of_pair})/(\\mbox{freq_of_first_element}\\times \\mbox{freq_of_second_element})$$"
      ]
    },
    {
      "cell_type": "code",
      "execution_count": null,
      "metadata": {
        "id": "RTBinOcxcwA6",
        "outputId": "47c686e7-db21-4bb9-896d-2a6dc44f23bf"
      },
      "outputs": [
        {
          "data": {
            "text/html": [
              "\n",
              "  <style>\n",
              "    pre {\n",
              "        white-space: pre-wrap;\n",
              "    }\n",
              "  </style>\n",
              "  "
            ],
            "text/plain": [
              "<IPython.core.display.HTML object>"
            ]
          },
          "metadata": {},
          "output_type": "display_data"
        }
      ],
      "source": [
        "initial_vocabulary = [\"b\", \"h\", \"p\", \"##g\", \"##n\", \"##s\", \"##u\"]\n",
        "corpus = (\"h\" \"##u\" \"##g\", 10), (\"p\" \"##u\" \"##g\", 5), (\"p\" \"##u\" \"##n\", 12), (\"b\" \"##u\" \"##n\", 4), (\"h\" \"##u\" \"##g\" \"##s\", 5)"
      ]
    },
    {
      "cell_type": "markdown",
      "metadata": {
        "id": "28TSkhZxcwA6"
      },
      "source": [
        "### scoring (\"##u\", \"##g\") -> \"##ug\" rule\n",
        "* (\"##u\", \"##g\") is present 20 times\n",
        "* \"##u\" appears 36 times\n",
        "* \"##g\" appears 20 times\n",
        "\n",
        "Score: $20/(36*20) = 1/36$"
      ]
    },
    {
      "cell_type": "markdown",
      "metadata": {
        "id": "3GykUWrAcwA6"
      },
      "source": [
        "### scoring (\"h\", \"##u\") -> \"hu\" rule\n",
        "* (\"h\", \"##u\") is present 15 times\n",
        "* \"h\" appears 15 times\n",
        "* \"##u\" appears 36 times\n",
        "\n",
        "Score: $15/(15*36) = 1/36$"
      ]
    },
    {
      "cell_type": "markdown",
      "metadata": {
        "id": "GSw4uOZHcwA6"
      },
      "source": [
        "### scoring (\"##g\", \"##s\") -> \"##gs\" rule\n",
        "* (\"##g\", \"##s\") is present 5 times\n",
        "* \"##g\" appears 20 times\n",
        "* \"##s\" appears 5 times\n",
        "\n",
        "Score: $5/(20*5) = 1/20$"
      ]
    },
    {
      "cell_type": "markdown",
      "metadata": {
        "id": "svdHhWefcwA6"
      },
      "source": [
        "among these three rules, (\"##g\", \"##s\") -> \"##gs\" would be chosen\n",
        "\n",
        "**Take-away:** WordPiece prioritizes merges in which the individual parts are less-frequent\n",
        "* the pairing represents a bigger portion of the occurrences of the sub-tokens"
      ]
    },
    {
      "cell_type": "markdown",
      "metadata": {
        "id": "AaY4cr8AcwA6"
      },
      "source": [
        "**Exercise:** How would (\"##u\", \"##n\") -> \"##un\" score?\n",
        "\n",
        "un -16\n",
        "\n",
        "u - 36\n",
        "\n",
        "n - 16\n",
        "\n",
        "score $16/(36*16) = 1/36$"
      ]
    },
    {
      "cell_type": "markdown",
      "metadata": {
        "id": "VVysL1EFcwA8"
      },
      "source": [
        "## Applied Exploration\n",
        "\n",
        "Find some new text, tokenize it according to one or more of the methods discussed here\n",
        "\n",
        "Use it as input for the Markov Chain in the previous set of notes\n",
        "\n",
        "Describe what you did and record notes about your results\n",
        "\n"
      ]
    },
    {
      "cell_type": "code",
      "source": [
        "import requests\n",
        "from bs4 import BeautifulSoup\n",
        "\n",
        "url = \"https://en.wikipedia.org/wiki/Canelo_%C3%81lvarez\"\n",
        "response = requests.get(url)\n",
        "soup = BeautifulSoup(response.content, \"html.parser\")\n",
        "text = soup.get_text()"
      ],
      "metadata": {
        "colab": {
          "base_uri": "https://localhost:8080/",
          "height": 17
        },
        "id": "pMXuwp9t4x97",
        "outputId": "4b86e502-0324-4092-d046-5a856d337ef8"
      },
      "execution_count": null,
      "outputs": [
        {
          "output_type": "display_data",
          "data": {
            "text/plain": [
              "<IPython.core.display.HTML object>"
            ],
            "text/html": [
              "\n",
              "  <style>\n",
              "    pre {\n",
              "        white-space: pre-wrap;\n",
              "    }\n",
              "  </style>\n",
              "  "
            ]
          },
          "metadata": {}
        }
      ]
    },
    {
      "cell_type": "code",
      "source": [
        "import nltk\n",
        "\n",
        "nltk.download(\"punkt\")  # Download the Punkt tokenizer if not already downloaded\n",
        "canelo_tokens_nltk = nltk.word_tokenize(text)"
      ],
      "metadata": {
        "colab": {
          "base_uri": "https://localhost:8080/",
          "height": 53
        },
        "id": "ofkMwGlP4xc-",
        "outputId": "bdba8782-64c1-40ed-cef5-bdc8619659f3"
      },
      "execution_count": null,
      "outputs": [
        {
          "output_type": "display_data",
          "data": {
            "text/plain": [
              "<IPython.core.display.HTML object>"
            ],
            "text/html": [
              "\n",
              "  <style>\n",
              "    pre {\n",
              "        white-space: pre-wrap;\n",
              "    }\n",
              "  </style>\n",
              "  "
            ]
          },
          "metadata": {}
        },
        {
          "output_type": "stream",
          "name": "stderr",
          "text": [
            "[nltk_data] Downloading package punkt to /root/nltk_data...\n",
            "[nltk_data]   Unzipping tokenizers/punkt.zip.\n"
          ]
        }
      ]
    },
    {
      "cell_type": "code",
      "source": [
        "from transformers import AutoTokenizer\n",
        "\n",
        "tokenizer = AutoTokenizer.from_pretrained(\"bert-base-uncased\")\n",
        "canelo_tokens_wordpiece = tokenizer.tokenize(text)"
      ],
      "metadata": {
        "colab": {
          "base_uri": "https://localhost:8080/",
          "height": 181,
          "referenced_widgets": [
            "2533f1cb44f04348a24d69dffac8923d",
            "0937589b5aad4c059e2c82b8f0c7af61",
            "56409011e3e84fcbaf5854b4084d0140",
            "540cddf3ae604d8fbd421081f8b27de2",
            "3edf01666507404b9c9593fc99a1b38f",
            "6c87655b8539463490b9347744fda282",
            "59973c26cec74f95b3612d7ea6e54ab4",
            "782bada5a8034d3581ba0365eca9bf60",
            "1e27a95aa7dc47d9919348ab8bb14801",
            "9d4171422f654b8c83fad8a9e320e02b",
            "1cfc00dffcfe4665bc0f351e0d2c1b7a",
            "01b70801081c4157919b982ebae67937",
            "ce5d3ec32cc2484b932dc6fedb8d599f",
            "09eccae220f1439b919826412317c8f0",
            "48c2c940791147058ec72deadbfe5b8f",
            "70f5a076fe484521b6f74e49896b1f43",
            "c6c0c398fdfb472c9e568258e906db9e",
            "bd8308dad7944af2b2a62f618ef76689",
            "ee5bd745de57494dad1f1e03909f0b97",
            "61eec4abaebc418fa14a75f526eb8bc6",
            "1cd4510829e2415b985a098ccbad6aa4",
            "f90f8d0ccb7c4d3fa800074e21449a21",
            "c5179c99a2fb45df9a3217d0379e635a",
            "63d87bab3288456fa1496bb81bd5835b",
            "c3fb84ad4a6b4b379b950b33f3f41abe",
            "1c240252703d4b929beb6e96b4934c41",
            "cbb69eec9251438899f169dd119aeb43",
            "e34525bde2b448d099b5139cf123ba82",
            "dbb72b834d5b425a8a8163159d5b528e",
            "2b73c2adbad0483a87be3318d19d737f",
            "bc829116e73d4695b05b800437e688ef",
            "43a436273b54426db4e64f55e3cb0d4e",
            "8ae2de63a84448bdbff9cc1906804a85",
            "552befef6f4744ae955376a3c33ab62f",
            "a0933947c71542ed942955d7bf3d2a48",
            "627b93697a8c4bf3881e1824c2a1c918",
            "da6e05d1e36d42a6914c8abb8e4befbb",
            "4afab6bd5c96427d8768e391609e1b0a",
            "d095bacc17a549008df8543e33e31d59",
            "45208790a8134e69865b5ba9da83ab05",
            "fa2d172df4684e1c850007c739a8fdf9",
            "d38bb0e83e1544679b06a00a52953141",
            "6ab645eb1bac4405bb6fcbfc8974baae",
            "f3ba2d01c0e849db84140ae20c297c02"
          ]
        },
        "id": "4I1v4AWs442o",
        "outputId": "c8e37201-877a-4743-e452-12dd91be9618"
      },
      "execution_count": null,
      "outputs": [
        {
          "output_type": "display_data",
          "data": {
            "text/plain": [
              "<IPython.core.display.HTML object>"
            ],
            "text/html": [
              "\n",
              "  <style>\n",
              "    pre {\n",
              "        white-space: pre-wrap;\n",
              "    }\n",
              "  </style>\n",
              "  "
            ]
          },
          "metadata": {}
        },
        {
          "output_type": "display_data",
          "data": {
            "text/plain": [
              "Downloading (…)okenizer_config.json:   0%|          | 0.00/28.0 [00:00<?, ?B/s]"
            ],
            "application/vnd.jupyter.widget-view+json": {
              "version_major": 2,
              "version_minor": 0,
              "model_id": "2533f1cb44f04348a24d69dffac8923d"
            }
          },
          "metadata": {}
        },
        {
          "output_type": "display_data",
          "data": {
            "text/plain": [
              "Downloading (…)lve/main/config.json:   0%|          | 0.00/570 [00:00<?, ?B/s]"
            ],
            "application/vnd.jupyter.widget-view+json": {
              "version_major": 2,
              "version_minor": 0,
              "model_id": "01b70801081c4157919b982ebae67937"
            }
          },
          "metadata": {}
        },
        {
          "output_type": "display_data",
          "data": {
            "text/plain": [
              "Downloading (…)solve/main/vocab.txt:   0%|          | 0.00/232k [00:00<?, ?B/s]"
            ],
            "application/vnd.jupyter.widget-view+json": {
              "version_major": 2,
              "version_minor": 0,
              "model_id": "c5179c99a2fb45df9a3217d0379e635a"
            }
          },
          "metadata": {}
        },
        {
          "output_type": "display_data",
          "data": {
            "text/plain": [
              "Downloading (…)/main/tokenizer.json:   0%|          | 0.00/466k [00:00<?, ?B/s]"
            ],
            "application/vnd.jupyter.widget-view+json": {
              "version_major": 2,
              "version_minor": 0,
              "model_id": "552befef6f4744ae955376a3c33ab62f"
            }
          },
          "metadata": {}
        },
        {
          "output_type": "stream",
          "name": "stderr",
          "text": [
            "Token indices sequence length is longer than the specified maximum sequence length for this model (28478 > 512). Running this sequence through the model will result in indexing errors\n"
          ]
        }
      ]
    },
    {
      "cell_type": "code",
      "source": [
        "from tokenizers import BertWordPieceTokenizer\n",
        "\n",
        "# Tokenize using WordPiece\n",
        "tokenizer = BertWordPieceTokenizer()\n",
        "tokenizer.train_from_iterator([clean_text], vocab_size=1000, min_frequency=2)\n",
        "\n",
        "# Tokenize the text\n",
        "encoded_text = tokenizer.encode(clean_text)\n",
        "wordpiece_tokens = encoded_text.tokens"
      ],
      "metadata": {
        "colab": {
          "base_uri": "https://localhost:8080/",
          "height": 250
        },
        "id": "bdSu52qY5Gnl",
        "outputId": "be4f16e8-a12e-4884-dd98-193cf8c426dd"
      },
      "execution_count": null,
      "outputs": [
        {
          "output_type": "display_data",
          "data": {
            "text/plain": [
              "<IPython.core.display.HTML object>"
            ],
            "text/html": [
              "\n",
              "  <style>\n",
              "    pre {\n",
              "        white-space: pre-wrap;\n",
              "    }\n",
              "  </style>\n",
              "  "
            ]
          },
          "metadata": {}
        },
        {
          "output_type": "error",
          "ename": "NameError",
          "evalue": "ignored",
          "traceback": [
            "\u001b[0;31m---------------------------------------------------------------------------\u001b[0m",
            "\u001b[0;31mNameError\u001b[0m                                 Traceback (most recent call last)",
            "\u001b[0;32m<ipython-input-12-c8a1e2406bb1>\u001b[0m in \u001b[0;36m<cell line: 5>\u001b[0;34m()\u001b[0m\n\u001b[1;32m      3\u001b[0m \u001b[0;31m# Tokenize using WordPiece\u001b[0m\u001b[0;34m\u001b[0m\u001b[0;34m\u001b[0m\u001b[0m\n\u001b[1;32m      4\u001b[0m \u001b[0mtokenizer\u001b[0m \u001b[0;34m=\u001b[0m \u001b[0mBertWordPieceTokenizer\u001b[0m\u001b[0;34m(\u001b[0m\u001b[0;34m)\u001b[0m\u001b[0;34m\u001b[0m\u001b[0;34m\u001b[0m\u001b[0m\n\u001b[0;32m----> 5\u001b[0;31m \u001b[0mtokenizer\u001b[0m\u001b[0;34m.\u001b[0m\u001b[0mtrain_from_iterator\u001b[0m\u001b[0;34m(\u001b[0m\u001b[0;34m[\u001b[0m\u001b[0mclean_text\u001b[0m\u001b[0;34m]\u001b[0m\u001b[0;34m,\u001b[0m \u001b[0mvocab_size\u001b[0m\u001b[0;34m=\u001b[0m\u001b[0;36m1000\u001b[0m\u001b[0;34m,\u001b[0m \u001b[0mmin_frequency\u001b[0m\u001b[0;34m=\u001b[0m\u001b[0;36m2\u001b[0m\u001b[0;34m)\u001b[0m\u001b[0;34m\u001b[0m\u001b[0;34m\u001b[0m\u001b[0m\n\u001b[0m\u001b[1;32m      6\u001b[0m \u001b[0;34m\u001b[0m\u001b[0m\n\u001b[1;32m      7\u001b[0m \u001b[0;31m# Tokenize the text\u001b[0m\u001b[0;34m\u001b[0m\u001b[0;34m\u001b[0m\u001b[0m\n",
            "\u001b[0;31mNameError\u001b[0m: name 'clean_text' is not defined"
          ]
        }
      ]
    },
    {
      "cell_type": "code",
      "source": [
        "from collections import defaultdict\n",
        "import random\n",
        "\n",
        "class MarkovModel:\n",
        "    def __init__(self):\n",
        "        self.transition_counts = defaultdict(lambda: defaultdict(int))\n",
        "\n",
        "    def train(self, corpus):\n",
        "        for idx in range(len(corpus) - 1):\n",
        "            current_token = corpus[idx]\n",
        "            next_token = corpus[idx + 1]\n",
        "            self.transition_counts[current_token][next_token] += 1\n",
        "\n",
        "    def generate_random_next_word(self, current_word):\n",
        "        possible_words_counts = self.transition_counts[current_word]\n",
        "        total_occurrences = sum(possible_words_counts.values())\n",
        "        random_num = random.randint(1, total_occurrences)\n",
        "        for word in possible_words_counts:\n",
        "            random_num -= possible_words_counts[word]\n",
        "            if random_num <= 0:\n",
        "                return word\n",
        "\n",
        "    def generate_text(self, num=100, start_word=\"Canelo\"):\n",
        "        markov_text = start_word\n",
        "        curr_word = start_word\n",
        "        for _ in range(num):\n",
        "            curr_word = self.generate_random_next_word(curr_word)\n",
        "            markov_text += \" \" + curr_word\n",
        "        return markov_text\n",
        "\n",
        "# Train the Markov Model\n",
        "canelo_model = MarkovModel()\n",
        "canelo_model.train(canelo_tokens_nltk)  # or canelo_tokens_wordpiece depending on your choice\n",
        "\n",
        "# Generate Text\n",
        "generated_text = canelo_model.generate_text(num=200, start_word=\"Canelo\")\n",
        "print(generated_text)"
      ],
      "metadata": {
        "colab": {
          "base_uri": "https://localhost:8080/",
          "height": 142
        },
        "id": "xcrD4bBd5LHi",
        "outputId": "270a6f41-be53-4a72-95f9-bf0b8e1210e3"
      },
      "execution_count": null,
      "outputs": [
        {
          "output_type": "display_data",
          "data": {
            "text/plain": [
              "<IPython.core.display.HTML object>"
            ],
            "text/html": [
              "\n",
              "  <style>\n",
              "    pre {\n",
              "        white-space: pre-wrap;\n",
              "    }\n",
              "  </style>\n",
              "  "
            ]
          },
          "metadata": {}
        },
        {
          "output_type": "stream",
          "name": "stdout",
          "text": [
            "Canelo : Foreman 1995 : Johansson 1960 : Canelo Relentless in junior middleweight title , a rematch between Golovkin UD 12 ) , Chocho y ejemplo para la UG , the opening round when he is done . ESPN.com . Retrieved 13 documented opponents , Guadalajara , Guadalajara , 117–111 , Says Sulaiman , 2:51 1 '' . Álvarez would exceed $ 1 January 2018 . In front of eight , Where Does Canelo vs. Angulo ( born 1990 ) , his family . He can take place if his knee '' . All category link from Golden Boy says '' . fightnews.com . Retrieved 26 February 2021 . Retrieved 3 Million PPV '' . Boxingscene.com . 23 November 2011 . [ 71 ] In the fight in the request was not adhering to injury and vacant The Ring . ESPN Prospect of if his last five rounds Golovkin and Álvarez was again '' . Retrieved 1 ranked as he came in and very good game plan . Retrieved 19 June 2021 . Retrieved 26 August 2017 . Retrieved 30 ] Although he [ 250 ] Golovkin after 5 million . ISSN 0458-3035 . Retrieved 24 September 2017 . BoxingScene.com .\n"
          ]
        }
      ]
    },
    {
      "cell_type": "markdown",
      "source": [
        "## Tokenization Methods:\n",
        "I utilized both NLTK's tokenizer and Hugging Face's WordPiece tokenizer to compare the results.\n",
        "\n",
        "## Markov Model Training:\n",
        " I trained the Markov model using the chosen tokenization method (either NLTK tokens or WordPiece tokens).\n",
        "\n",
        "## Text Generation:\n",
        "I generated a sequence of text starting with the word \"Canelo\" using the trained Markov model.\n",
        "\n",
        "Markov Chain model to generate new text based on the tokenized input. The generated text represents a sequence of words that follow the patterns observed in the input text"
      ],
      "metadata": {
        "id": "kP8u87Jn-O5n"
      }
    },
    {
      "cell_type": "markdown",
      "metadata": {
        "id": "tPEtdnDFcwA8"
      },
      "source": [
        "## Extended Implementation Idea\n",
        "\n",
        "Write the code that will do BPE or WordPiece automatically\n",
        "\n",
        "Both the BPE and WordPiece have examples in the Hugging Face course\n",
        "* https://huggingface.co/learn/nlp-course/chapter6/5?fw=pt\n",
        "* https://huggingface.co/learn/nlp-course/chapter6/6?fw=pt\n",
        "\n",
        "Except: they use Hugging Face tokenizers for the pre-tokenization. You should do it using `split()` like we did above. Because of the way that it groups tokens, I don't think you should have to worry about separating out punctuation, just include it in your vocabulary."
      ]
    },
    {
      "cell_type": "code",
      "source": [
        "import requests\n",
        "from transformers import AutoTokenizer\n",
        "\n",
        "# BPE Tokenization\n",
        "def bpe_tokenize(text):\n",
        "    tokenizer = AutoTokenizer.from_pretrained(\"bert-base-cased\")\n",
        "    tokens = tokenizer.tokenize(text)\n",
        "    return tokens\n",
        "\n",
        "# WordPiece Tokenization\n",
        "def wordpiece_tokenize(text):\n",
        "    tokenizer = AutoTokenizer.from_pretrained(\"bert-base-cased\", use_fast=False)  # Set use_fast to False for WordPiece\n",
        "    tokens = tokenizer.tokenize(text)\n",
        "    return tokens\n",
        "\n",
        "# Example text\n",
        "response = requests.get(\"https://www.gutenberg.org/files/1661/1661-0.txt\")\n",
        "sherlock_raw_text = response.text\n",
        "\n",
        "example_text = sherlock_raw_text[:500]  # Take a small portion for illustration\n",
        "\n",
        "# Tokenize using BPE\n",
        "bpe_tokens = bpe_tokenize(example_text)\n",
        "print(\"BPE Tokens:\", bpe_tokens)\n",
        "\n",
        "# Tokenize using WordPiece\n",
        "wordpiece_tokens = wordpiece_tokenize(example_text)\n",
        "print(\"WordPiece Tokens:\", wordpiece_tokens)"
      ],
      "metadata": {
        "colab": {
          "base_uri": "https://localhost:8080/",
          "height": 359,
          "referenced_widgets": [
            "d0ce8d7402dd48ff8c1ac85bfd205e5d",
            "a533260026de449086316035c0f035b6",
            "f94bc3c802f1426f93ad73e00346479b",
            "851a53729313404aabb4a74ffdcad677",
            "2cb218ff4db4446d9ff95f23da3c0f54",
            "fedc3e98a33a4707b5e06b288f9d6b07",
            "9b5fe805383449fc8ba0de36427721d5",
            "8b9bdd503d0f4fb88685fa31576c5ae4",
            "902068b7df584ad9b3c0a76c88794347",
            "67a06102cfcc450b98da2096190008af",
            "9c427bc7693e433991606ffc0a121ccb",
            "6ba5c330dd3b43a18dc4bca9bd4fe2d6",
            "9699d9c34a0f432c8686e925780178d4",
            "46c5e8793e8a462c985f9ccc0c284622",
            "7f9ce918347a45ec9c1899c44fc2345c",
            "3aef08acf72d4f728015d2fb64abac0a",
            "bf2f2e028cae4b189535970bb0c42a5a",
            "8bbc3c3809e84a1bbf44ed67fb10e17c",
            "da8b518ccc53499fa5b73373badd1c3f",
            "5d37ca1500e44f969e2ad2e7e1406c9a",
            "9b9835cd2f864039af7d48119a42cefb",
            "8aa03d51543a4c16b3f7d11c9a749528",
            "46857d39c40244c68e7228933a103b61",
            "76b2f2cecbfc41adae09bc2a853aac69",
            "0648422607e4409d828fe9ef8bf48e4e",
            "04c7accf2baa484b9bbe4ed26eadec63",
            "3f78dcf46c9645ac8c2d0775ef748031",
            "3cd76242b3904ba7b8e6cd5190f35fa4",
            "ebdac0a860aa4a019fcf4c85079fb253",
            "4d8e5b04eb044a9684ee1f6d3f2f7035",
            "c6d0e134303a4fbaab235ed7936c0aec",
            "00b658d618ed450994e5645883b4c762",
            "e4b5e17002a641458c1e5764baf73b08",
            "c0772a05a07c4764a8366af5c5788e3e",
            "12664b664a754ee8a31fb90eca262bcb",
            "2b71e21fd5034226bf0a255dc860fab9",
            "cac8eb34bd4642d5be5d2fff41edc3b5",
            "721c5a985ec3411491f75552763f26e4",
            "52c4d30a91364afd8d33c8dfd4a4b8be",
            "f626a1747bb14eb3961267293052f7b3",
            "93a5bfd761b84762b5488b86f5e194e5",
            "4858668b06b54cd0b079538036783b84",
            "988fcac21f6f4353a71b5d039e1087c8",
            "4179c3cb236043d28a8d43cb4a430c47"
          ]
        },
        "id": "q9mdIj-RTVCx",
        "outputId": "c950666c-3022-457f-f0d2-c54af962d245"
      },
      "execution_count": 3,
      "outputs": [
        {
          "output_type": "display_data",
          "data": {
            "text/plain": [
              "<IPython.core.display.HTML object>"
            ],
            "text/html": [
              "\n",
              "  <style>\n",
              "    pre {\n",
              "        white-space: pre-wrap;\n",
              "    }\n",
              "  </style>\n",
              "  "
            ]
          },
          "metadata": {}
        },
        {
          "output_type": "display_data",
          "data": {
            "text/plain": [
              "tokenizer_config.json:   0%|          | 0.00/29.0 [00:00<?, ?B/s]"
            ],
            "application/vnd.jupyter.widget-view+json": {
              "version_major": 2,
              "version_minor": 0,
              "model_id": "d0ce8d7402dd48ff8c1ac85bfd205e5d"
            }
          },
          "metadata": {}
        },
        {
          "output_type": "display_data",
          "data": {
            "text/plain": [
              "config.json:   0%|          | 0.00/570 [00:00<?, ?B/s]"
            ],
            "application/vnd.jupyter.widget-view+json": {
              "version_major": 2,
              "version_minor": 0,
              "model_id": "6ba5c330dd3b43a18dc4bca9bd4fe2d6"
            }
          },
          "metadata": {}
        },
        {
          "output_type": "display_data",
          "data": {
            "text/plain": [
              "vocab.txt:   0%|          | 0.00/213k [00:00<?, ?B/s]"
            ],
            "application/vnd.jupyter.widget-view+json": {
              "version_major": 2,
              "version_minor": 0,
              "model_id": "46857d39c40244c68e7228933a103b61"
            }
          },
          "metadata": {}
        },
        {
          "output_type": "display_data",
          "data": {
            "text/plain": [
              "tokenizer.json:   0%|          | 0.00/436k [00:00<?, ?B/s]"
            ],
            "application/vnd.jupyter.widget-view+json": {
              "version_major": 2,
              "version_minor": 0,
              "model_id": "c0772a05a07c4764a8366af5c5788e3e"
            }
          },
          "metadata": {}
        },
        {
          "output_type": "stream",
          "name": "stdout",
          "text": [
            "BPE Tokens: ['ï', '»', '¿', 'The', 'Project', 'G', '##ute', '##nberg', 'e', '##B', '##ook', 'of', 'The', 'Adventures', 'of', 'Sherlock', 'Holmes', ',', 'by', 'Arthur', 'Conan', 'Doyle', 'This', 'e', '##B', '##ook', 'is', 'for', 'the', 'use', 'of', 'anyone', 'anywhere', 'in', 'the', 'United', 'States', 'and', 'most', 'other', 'parts', 'of', 'the', 'world', 'at', 'no', 'cost', 'and', 'with', 'almost', 'no', 'restrictions', 'whatsoever', '.', 'You', 'may', 'copy', 'it', ',', 'give', 'it', 'away', 'or', 're', '-', 'use', 'it', 'under', 'the', 'terms', 'of', 'the', 'Project', 'G', '##ute', '##nberg', 'License', 'included', 'with', 'this', 'e', '##B', '##ook', 'or', 'online', 'at', 'www', '.', 'gut', '##enberg', '.', 'org', '.', 'If', 'you', 'are', 'not', 'located', 'in', 'the', 'United', 'States', ',', 'you', 'will', 'have', 'to', 'check', 'the', 'laws', 'of', 'the', 'country', 'w', '##her']\n",
            "WordPiece Tokens: ['ï', '»', '¿', 'The', 'Project', 'G', '##ute', '##nberg', 'e', '##B', '##ook', 'of', 'The', 'Adventures', 'of', 'Sherlock', 'Holmes', ',', 'by', 'Arthur', 'Conan', 'Doyle', 'This', 'e', '##B', '##ook', 'is', 'for', 'the', 'use', 'of', 'anyone', 'anywhere', 'in', 'the', 'United', 'States', 'and', 'most', 'other', 'parts', 'of', 'the', 'world', 'at', 'no', 'cost', 'and', 'with', 'almost', 'no', 'restrictions', 'whatsoever', '.', 'You', 'may', 'copy', 'it', ',', 'give', 'it', 'away', 'or', 're', '-', 'use', 'it', 'under', 'the', 'terms', 'of', 'the', 'Project', 'G', '##ute', '##nberg', 'License', 'included', 'with', 'this', 'e', '##B', '##ook', 'or', 'online', 'at', 'www', '.', 'gut', '##enberg', '.', 'org', '.', 'If', 'you', 'are', 'not', 'located', 'in', 'the', 'United', 'States', ',', 'you', 'will', 'have', 'to', 'check', 'the', 'laws', 'of', 'the', 'country', 'w', '##her']\n"
          ]
        }
      ]
    }
  ],
  "metadata": {
    "celltoolbar": "Slideshow",
    "colab": {
      "provenance": [],
      "include_colab_link": true
    },
    "kernelspec": {
      "display_name": "Python 3 (ipykernel)",
      "language": "python",
      "name": "python3"
    },
    "language_info": {
      "codemirror_mode": {
        "name": "ipython",
        "version": 3
      },
      "file_extension": ".py",
      "mimetype": "text/x-python",
      "name": "python",
      "nbconvert_exporter": "python",
      "pygments_lexer": "ipython3",
      "version": "3.10.6"
    },
    "widgets": {
      "application/vnd.jupyter.widget-state+json": {
        "2533f1cb44f04348a24d69dffac8923d": {
          "model_module": "@jupyter-widgets/controls",
          "model_name": "HBoxModel",
          "model_module_version": "1.5.0",
          "state": {
            "_dom_classes": [],
            "_model_module": "@jupyter-widgets/controls",
            "_model_module_version": "1.5.0",
            "_model_name": "HBoxModel",
            "_view_count": null,
            "_view_module": "@jupyter-widgets/controls",
            "_view_module_version": "1.5.0",
            "_view_name": "HBoxView",
            "box_style": "",
            "children": [
              "IPY_MODEL_0937589b5aad4c059e2c82b8f0c7af61",
              "IPY_MODEL_56409011e3e84fcbaf5854b4084d0140",
              "IPY_MODEL_540cddf3ae604d8fbd421081f8b27de2"
            ],
            "layout": "IPY_MODEL_3edf01666507404b9c9593fc99a1b38f"
          }
        },
        "0937589b5aad4c059e2c82b8f0c7af61": {
          "model_module": "@jupyter-widgets/controls",
          "model_name": "HTMLModel",
          "model_module_version": "1.5.0",
          "state": {
            "_dom_classes": [],
            "_model_module": "@jupyter-widgets/controls",
            "_model_module_version": "1.5.0",
            "_model_name": "HTMLModel",
            "_view_count": null,
            "_view_module": "@jupyter-widgets/controls",
            "_view_module_version": "1.5.0",
            "_view_name": "HTMLView",
            "description": "",
            "description_tooltip": null,
            "layout": "IPY_MODEL_6c87655b8539463490b9347744fda282",
            "placeholder": "​",
            "style": "IPY_MODEL_59973c26cec74f95b3612d7ea6e54ab4",
            "value": "Downloading (…)okenizer_config.json: 100%"
          }
        },
        "56409011e3e84fcbaf5854b4084d0140": {
          "model_module": "@jupyter-widgets/controls",
          "model_name": "FloatProgressModel",
          "model_module_version": "1.5.0",
          "state": {
            "_dom_classes": [],
            "_model_module": "@jupyter-widgets/controls",
            "_model_module_version": "1.5.0",
            "_model_name": "FloatProgressModel",
            "_view_count": null,
            "_view_module": "@jupyter-widgets/controls",
            "_view_module_version": "1.5.0",
            "_view_name": "ProgressView",
            "bar_style": "success",
            "description": "",
            "description_tooltip": null,
            "layout": "IPY_MODEL_782bada5a8034d3581ba0365eca9bf60",
            "max": 28,
            "min": 0,
            "orientation": "horizontal",
            "style": "IPY_MODEL_1e27a95aa7dc47d9919348ab8bb14801",
            "value": 28
          }
        },
        "540cddf3ae604d8fbd421081f8b27de2": {
          "model_module": "@jupyter-widgets/controls",
          "model_name": "HTMLModel",
          "model_module_version": "1.5.0",
          "state": {
            "_dom_classes": [],
            "_model_module": "@jupyter-widgets/controls",
            "_model_module_version": "1.5.0",
            "_model_name": "HTMLModel",
            "_view_count": null,
            "_view_module": "@jupyter-widgets/controls",
            "_view_module_version": "1.5.0",
            "_view_name": "HTMLView",
            "description": "",
            "description_tooltip": null,
            "layout": "IPY_MODEL_9d4171422f654b8c83fad8a9e320e02b",
            "placeholder": "​",
            "style": "IPY_MODEL_1cfc00dffcfe4665bc0f351e0d2c1b7a",
            "value": " 28.0/28.0 [00:00&lt;00:00, 688B/s]"
          }
        },
        "3edf01666507404b9c9593fc99a1b38f": {
          "model_module": "@jupyter-widgets/base",
          "model_name": "LayoutModel",
          "model_module_version": "1.2.0",
          "state": {
            "_model_module": "@jupyter-widgets/base",
            "_model_module_version": "1.2.0",
            "_model_name": "LayoutModel",
            "_view_count": null,
            "_view_module": "@jupyter-widgets/base",
            "_view_module_version": "1.2.0",
            "_view_name": "LayoutView",
            "align_content": null,
            "align_items": null,
            "align_self": null,
            "border": null,
            "bottom": null,
            "display": null,
            "flex": null,
            "flex_flow": null,
            "grid_area": null,
            "grid_auto_columns": null,
            "grid_auto_flow": null,
            "grid_auto_rows": null,
            "grid_column": null,
            "grid_gap": null,
            "grid_row": null,
            "grid_template_areas": null,
            "grid_template_columns": null,
            "grid_template_rows": null,
            "height": null,
            "justify_content": null,
            "justify_items": null,
            "left": null,
            "margin": null,
            "max_height": null,
            "max_width": null,
            "min_height": null,
            "min_width": null,
            "object_fit": null,
            "object_position": null,
            "order": null,
            "overflow": null,
            "overflow_x": null,
            "overflow_y": null,
            "padding": null,
            "right": null,
            "top": null,
            "visibility": null,
            "width": null
          }
        },
        "6c87655b8539463490b9347744fda282": {
          "model_module": "@jupyter-widgets/base",
          "model_name": "LayoutModel",
          "model_module_version": "1.2.0",
          "state": {
            "_model_module": "@jupyter-widgets/base",
            "_model_module_version": "1.2.0",
            "_model_name": "LayoutModel",
            "_view_count": null,
            "_view_module": "@jupyter-widgets/base",
            "_view_module_version": "1.2.0",
            "_view_name": "LayoutView",
            "align_content": null,
            "align_items": null,
            "align_self": null,
            "border": null,
            "bottom": null,
            "display": null,
            "flex": null,
            "flex_flow": null,
            "grid_area": null,
            "grid_auto_columns": null,
            "grid_auto_flow": null,
            "grid_auto_rows": null,
            "grid_column": null,
            "grid_gap": null,
            "grid_row": null,
            "grid_template_areas": null,
            "grid_template_columns": null,
            "grid_template_rows": null,
            "height": null,
            "justify_content": null,
            "justify_items": null,
            "left": null,
            "margin": null,
            "max_height": null,
            "max_width": null,
            "min_height": null,
            "min_width": null,
            "object_fit": null,
            "object_position": null,
            "order": null,
            "overflow": null,
            "overflow_x": null,
            "overflow_y": null,
            "padding": null,
            "right": null,
            "top": null,
            "visibility": null,
            "width": null
          }
        },
        "59973c26cec74f95b3612d7ea6e54ab4": {
          "model_module": "@jupyter-widgets/controls",
          "model_name": "DescriptionStyleModel",
          "model_module_version": "1.5.0",
          "state": {
            "_model_module": "@jupyter-widgets/controls",
            "_model_module_version": "1.5.0",
            "_model_name": "DescriptionStyleModel",
            "_view_count": null,
            "_view_module": "@jupyter-widgets/base",
            "_view_module_version": "1.2.0",
            "_view_name": "StyleView",
            "description_width": ""
          }
        },
        "782bada5a8034d3581ba0365eca9bf60": {
          "model_module": "@jupyter-widgets/base",
          "model_name": "LayoutModel",
          "model_module_version": "1.2.0",
          "state": {
            "_model_module": "@jupyter-widgets/base",
            "_model_module_version": "1.2.0",
            "_model_name": "LayoutModel",
            "_view_count": null,
            "_view_module": "@jupyter-widgets/base",
            "_view_module_version": "1.2.0",
            "_view_name": "LayoutView",
            "align_content": null,
            "align_items": null,
            "align_self": null,
            "border": null,
            "bottom": null,
            "display": null,
            "flex": null,
            "flex_flow": null,
            "grid_area": null,
            "grid_auto_columns": null,
            "grid_auto_flow": null,
            "grid_auto_rows": null,
            "grid_column": null,
            "grid_gap": null,
            "grid_row": null,
            "grid_template_areas": null,
            "grid_template_columns": null,
            "grid_template_rows": null,
            "height": null,
            "justify_content": null,
            "justify_items": null,
            "left": null,
            "margin": null,
            "max_height": null,
            "max_width": null,
            "min_height": null,
            "min_width": null,
            "object_fit": null,
            "object_position": null,
            "order": null,
            "overflow": null,
            "overflow_x": null,
            "overflow_y": null,
            "padding": null,
            "right": null,
            "top": null,
            "visibility": null,
            "width": null
          }
        },
        "1e27a95aa7dc47d9919348ab8bb14801": {
          "model_module": "@jupyter-widgets/controls",
          "model_name": "ProgressStyleModel",
          "model_module_version": "1.5.0",
          "state": {
            "_model_module": "@jupyter-widgets/controls",
            "_model_module_version": "1.5.0",
            "_model_name": "ProgressStyleModel",
            "_view_count": null,
            "_view_module": "@jupyter-widgets/base",
            "_view_module_version": "1.2.0",
            "_view_name": "StyleView",
            "bar_color": null,
            "description_width": ""
          }
        },
        "9d4171422f654b8c83fad8a9e320e02b": {
          "model_module": "@jupyter-widgets/base",
          "model_name": "LayoutModel",
          "model_module_version": "1.2.0",
          "state": {
            "_model_module": "@jupyter-widgets/base",
            "_model_module_version": "1.2.0",
            "_model_name": "LayoutModel",
            "_view_count": null,
            "_view_module": "@jupyter-widgets/base",
            "_view_module_version": "1.2.0",
            "_view_name": "LayoutView",
            "align_content": null,
            "align_items": null,
            "align_self": null,
            "border": null,
            "bottom": null,
            "display": null,
            "flex": null,
            "flex_flow": null,
            "grid_area": null,
            "grid_auto_columns": null,
            "grid_auto_flow": null,
            "grid_auto_rows": null,
            "grid_column": null,
            "grid_gap": null,
            "grid_row": null,
            "grid_template_areas": null,
            "grid_template_columns": null,
            "grid_template_rows": null,
            "height": null,
            "justify_content": null,
            "justify_items": null,
            "left": null,
            "margin": null,
            "max_height": null,
            "max_width": null,
            "min_height": null,
            "min_width": null,
            "object_fit": null,
            "object_position": null,
            "order": null,
            "overflow": null,
            "overflow_x": null,
            "overflow_y": null,
            "padding": null,
            "right": null,
            "top": null,
            "visibility": null,
            "width": null
          }
        },
        "1cfc00dffcfe4665bc0f351e0d2c1b7a": {
          "model_module": "@jupyter-widgets/controls",
          "model_name": "DescriptionStyleModel",
          "model_module_version": "1.5.0",
          "state": {
            "_model_module": "@jupyter-widgets/controls",
            "_model_module_version": "1.5.0",
            "_model_name": "DescriptionStyleModel",
            "_view_count": null,
            "_view_module": "@jupyter-widgets/base",
            "_view_module_version": "1.2.0",
            "_view_name": "StyleView",
            "description_width": ""
          }
        },
        "01b70801081c4157919b982ebae67937": {
          "model_module": "@jupyter-widgets/controls",
          "model_name": "HBoxModel",
          "model_module_version": "1.5.0",
          "state": {
            "_dom_classes": [],
            "_model_module": "@jupyter-widgets/controls",
            "_model_module_version": "1.5.0",
            "_model_name": "HBoxModel",
            "_view_count": null,
            "_view_module": "@jupyter-widgets/controls",
            "_view_module_version": "1.5.0",
            "_view_name": "HBoxView",
            "box_style": "",
            "children": [
              "IPY_MODEL_ce5d3ec32cc2484b932dc6fedb8d599f",
              "IPY_MODEL_09eccae220f1439b919826412317c8f0",
              "IPY_MODEL_48c2c940791147058ec72deadbfe5b8f"
            ],
            "layout": "IPY_MODEL_70f5a076fe484521b6f74e49896b1f43"
          }
        },
        "ce5d3ec32cc2484b932dc6fedb8d599f": {
          "model_module": "@jupyter-widgets/controls",
          "model_name": "HTMLModel",
          "model_module_version": "1.5.0",
          "state": {
            "_dom_classes": [],
            "_model_module": "@jupyter-widgets/controls",
            "_model_module_version": "1.5.0",
            "_model_name": "HTMLModel",
            "_view_count": null,
            "_view_module": "@jupyter-widgets/controls",
            "_view_module_version": "1.5.0",
            "_view_name": "HTMLView",
            "description": "",
            "description_tooltip": null,
            "layout": "IPY_MODEL_c6c0c398fdfb472c9e568258e906db9e",
            "placeholder": "​",
            "style": "IPY_MODEL_bd8308dad7944af2b2a62f618ef76689",
            "value": "Downloading (…)lve/main/config.json: 100%"
          }
        },
        "09eccae220f1439b919826412317c8f0": {
          "model_module": "@jupyter-widgets/controls",
          "model_name": "FloatProgressModel",
          "model_module_version": "1.5.0",
          "state": {
            "_dom_classes": [],
            "_model_module": "@jupyter-widgets/controls",
            "_model_module_version": "1.5.0",
            "_model_name": "FloatProgressModel",
            "_view_count": null,
            "_view_module": "@jupyter-widgets/controls",
            "_view_module_version": "1.5.0",
            "_view_name": "ProgressView",
            "bar_style": "success",
            "description": "",
            "description_tooltip": null,
            "layout": "IPY_MODEL_ee5bd745de57494dad1f1e03909f0b97",
            "max": 570,
            "min": 0,
            "orientation": "horizontal",
            "style": "IPY_MODEL_61eec4abaebc418fa14a75f526eb8bc6",
            "value": 570
          }
        },
        "48c2c940791147058ec72deadbfe5b8f": {
          "model_module": "@jupyter-widgets/controls",
          "model_name": "HTMLModel",
          "model_module_version": "1.5.0",
          "state": {
            "_dom_classes": [],
            "_model_module": "@jupyter-widgets/controls",
            "_model_module_version": "1.5.0",
            "_model_name": "HTMLModel",
            "_view_count": null,
            "_view_module": "@jupyter-widgets/controls",
            "_view_module_version": "1.5.0",
            "_view_name": "HTMLView",
            "description": "",
            "description_tooltip": null,
            "layout": "IPY_MODEL_1cd4510829e2415b985a098ccbad6aa4",
            "placeholder": "​",
            "style": "IPY_MODEL_f90f8d0ccb7c4d3fa800074e21449a21",
            "value": " 570/570 [00:00&lt;00:00, 7.11kB/s]"
          }
        },
        "70f5a076fe484521b6f74e49896b1f43": {
          "model_module": "@jupyter-widgets/base",
          "model_name": "LayoutModel",
          "model_module_version": "1.2.0",
          "state": {
            "_model_module": "@jupyter-widgets/base",
            "_model_module_version": "1.2.0",
            "_model_name": "LayoutModel",
            "_view_count": null,
            "_view_module": "@jupyter-widgets/base",
            "_view_module_version": "1.2.0",
            "_view_name": "LayoutView",
            "align_content": null,
            "align_items": null,
            "align_self": null,
            "border": null,
            "bottom": null,
            "display": null,
            "flex": null,
            "flex_flow": null,
            "grid_area": null,
            "grid_auto_columns": null,
            "grid_auto_flow": null,
            "grid_auto_rows": null,
            "grid_column": null,
            "grid_gap": null,
            "grid_row": null,
            "grid_template_areas": null,
            "grid_template_columns": null,
            "grid_template_rows": null,
            "height": null,
            "justify_content": null,
            "justify_items": null,
            "left": null,
            "margin": null,
            "max_height": null,
            "max_width": null,
            "min_height": null,
            "min_width": null,
            "object_fit": null,
            "object_position": null,
            "order": null,
            "overflow": null,
            "overflow_x": null,
            "overflow_y": null,
            "padding": null,
            "right": null,
            "top": null,
            "visibility": null,
            "width": null
          }
        },
        "c6c0c398fdfb472c9e568258e906db9e": {
          "model_module": "@jupyter-widgets/base",
          "model_name": "LayoutModel",
          "model_module_version": "1.2.0",
          "state": {
            "_model_module": "@jupyter-widgets/base",
            "_model_module_version": "1.2.0",
            "_model_name": "LayoutModel",
            "_view_count": null,
            "_view_module": "@jupyter-widgets/base",
            "_view_module_version": "1.2.0",
            "_view_name": "LayoutView",
            "align_content": null,
            "align_items": null,
            "align_self": null,
            "border": null,
            "bottom": null,
            "display": null,
            "flex": null,
            "flex_flow": null,
            "grid_area": null,
            "grid_auto_columns": null,
            "grid_auto_flow": null,
            "grid_auto_rows": null,
            "grid_column": null,
            "grid_gap": null,
            "grid_row": null,
            "grid_template_areas": null,
            "grid_template_columns": null,
            "grid_template_rows": null,
            "height": null,
            "justify_content": null,
            "justify_items": null,
            "left": null,
            "margin": null,
            "max_height": null,
            "max_width": null,
            "min_height": null,
            "min_width": null,
            "object_fit": null,
            "object_position": null,
            "order": null,
            "overflow": null,
            "overflow_x": null,
            "overflow_y": null,
            "padding": null,
            "right": null,
            "top": null,
            "visibility": null,
            "width": null
          }
        },
        "bd8308dad7944af2b2a62f618ef76689": {
          "model_module": "@jupyter-widgets/controls",
          "model_name": "DescriptionStyleModel",
          "model_module_version": "1.5.0",
          "state": {
            "_model_module": "@jupyter-widgets/controls",
            "_model_module_version": "1.5.0",
            "_model_name": "DescriptionStyleModel",
            "_view_count": null,
            "_view_module": "@jupyter-widgets/base",
            "_view_module_version": "1.2.0",
            "_view_name": "StyleView",
            "description_width": ""
          }
        },
        "ee5bd745de57494dad1f1e03909f0b97": {
          "model_module": "@jupyter-widgets/base",
          "model_name": "LayoutModel",
          "model_module_version": "1.2.0",
          "state": {
            "_model_module": "@jupyter-widgets/base",
            "_model_module_version": "1.2.0",
            "_model_name": "LayoutModel",
            "_view_count": null,
            "_view_module": "@jupyter-widgets/base",
            "_view_module_version": "1.2.0",
            "_view_name": "LayoutView",
            "align_content": null,
            "align_items": null,
            "align_self": null,
            "border": null,
            "bottom": null,
            "display": null,
            "flex": null,
            "flex_flow": null,
            "grid_area": null,
            "grid_auto_columns": null,
            "grid_auto_flow": null,
            "grid_auto_rows": null,
            "grid_column": null,
            "grid_gap": null,
            "grid_row": null,
            "grid_template_areas": null,
            "grid_template_columns": null,
            "grid_template_rows": null,
            "height": null,
            "justify_content": null,
            "justify_items": null,
            "left": null,
            "margin": null,
            "max_height": null,
            "max_width": null,
            "min_height": null,
            "min_width": null,
            "object_fit": null,
            "object_position": null,
            "order": null,
            "overflow": null,
            "overflow_x": null,
            "overflow_y": null,
            "padding": null,
            "right": null,
            "top": null,
            "visibility": null,
            "width": null
          }
        },
        "61eec4abaebc418fa14a75f526eb8bc6": {
          "model_module": "@jupyter-widgets/controls",
          "model_name": "ProgressStyleModel",
          "model_module_version": "1.5.0",
          "state": {
            "_model_module": "@jupyter-widgets/controls",
            "_model_module_version": "1.5.0",
            "_model_name": "ProgressStyleModel",
            "_view_count": null,
            "_view_module": "@jupyter-widgets/base",
            "_view_module_version": "1.2.0",
            "_view_name": "StyleView",
            "bar_color": null,
            "description_width": ""
          }
        },
        "1cd4510829e2415b985a098ccbad6aa4": {
          "model_module": "@jupyter-widgets/base",
          "model_name": "LayoutModel",
          "model_module_version": "1.2.0",
          "state": {
            "_model_module": "@jupyter-widgets/base",
            "_model_module_version": "1.2.0",
            "_model_name": "LayoutModel",
            "_view_count": null,
            "_view_module": "@jupyter-widgets/base",
            "_view_module_version": "1.2.0",
            "_view_name": "LayoutView",
            "align_content": null,
            "align_items": null,
            "align_self": null,
            "border": null,
            "bottom": null,
            "display": null,
            "flex": null,
            "flex_flow": null,
            "grid_area": null,
            "grid_auto_columns": null,
            "grid_auto_flow": null,
            "grid_auto_rows": null,
            "grid_column": null,
            "grid_gap": null,
            "grid_row": null,
            "grid_template_areas": null,
            "grid_template_columns": null,
            "grid_template_rows": null,
            "height": null,
            "justify_content": null,
            "justify_items": null,
            "left": null,
            "margin": null,
            "max_height": null,
            "max_width": null,
            "min_height": null,
            "min_width": null,
            "object_fit": null,
            "object_position": null,
            "order": null,
            "overflow": null,
            "overflow_x": null,
            "overflow_y": null,
            "padding": null,
            "right": null,
            "top": null,
            "visibility": null,
            "width": null
          }
        },
        "f90f8d0ccb7c4d3fa800074e21449a21": {
          "model_module": "@jupyter-widgets/controls",
          "model_name": "DescriptionStyleModel",
          "model_module_version": "1.5.0",
          "state": {
            "_model_module": "@jupyter-widgets/controls",
            "_model_module_version": "1.5.0",
            "_model_name": "DescriptionStyleModel",
            "_view_count": null,
            "_view_module": "@jupyter-widgets/base",
            "_view_module_version": "1.2.0",
            "_view_name": "StyleView",
            "description_width": ""
          }
        },
        "c5179c99a2fb45df9a3217d0379e635a": {
          "model_module": "@jupyter-widgets/controls",
          "model_name": "HBoxModel",
          "model_module_version": "1.5.0",
          "state": {
            "_dom_classes": [],
            "_model_module": "@jupyter-widgets/controls",
            "_model_module_version": "1.5.0",
            "_model_name": "HBoxModel",
            "_view_count": null,
            "_view_module": "@jupyter-widgets/controls",
            "_view_module_version": "1.5.0",
            "_view_name": "HBoxView",
            "box_style": "",
            "children": [
              "IPY_MODEL_63d87bab3288456fa1496bb81bd5835b",
              "IPY_MODEL_c3fb84ad4a6b4b379b950b33f3f41abe",
              "IPY_MODEL_1c240252703d4b929beb6e96b4934c41"
            ],
            "layout": "IPY_MODEL_cbb69eec9251438899f169dd119aeb43"
          }
        },
        "63d87bab3288456fa1496bb81bd5835b": {
          "model_module": "@jupyter-widgets/controls",
          "model_name": "HTMLModel",
          "model_module_version": "1.5.0",
          "state": {
            "_dom_classes": [],
            "_model_module": "@jupyter-widgets/controls",
            "_model_module_version": "1.5.0",
            "_model_name": "HTMLModel",
            "_view_count": null,
            "_view_module": "@jupyter-widgets/controls",
            "_view_module_version": "1.5.0",
            "_view_name": "HTMLView",
            "description": "",
            "description_tooltip": null,
            "layout": "IPY_MODEL_e34525bde2b448d099b5139cf123ba82",
            "placeholder": "​",
            "style": "IPY_MODEL_dbb72b834d5b425a8a8163159d5b528e",
            "value": "Downloading (…)solve/main/vocab.txt: 100%"
          }
        },
        "c3fb84ad4a6b4b379b950b33f3f41abe": {
          "model_module": "@jupyter-widgets/controls",
          "model_name": "FloatProgressModel",
          "model_module_version": "1.5.0",
          "state": {
            "_dom_classes": [],
            "_model_module": "@jupyter-widgets/controls",
            "_model_module_version": "1.5.0",
            "_model_name": "FloatProgressModel",
            "_view_count": null,
            "_view_module": "@jupyter-widgets/controls",
            "_view_module_version": "1.5.0",
            "_view_name": "ProgressView",
            "bar_style": "success",
            "description": "",
            "description_tooltip": null,
            "layout": "IPY_MODEL_2b73c2adbad0483a87be3318d19d737f",
            "max": 231508,
            "min": 0,
            "orientation": "horizontal",
            "style": "IPY_MODEL_bc829116e73d4695b05b800437e688ef",
            "value": 231508
          }
        },
        "1c240252703d4b929beb6e96b4934c41": {
          "model_module": "@jupyter-widgets/controls",
          "model_name": "HTMLModel",
          "model_module_version": "1.5.0",
          "state": {
            "_dom_classes": [],
            "_model_module": "@jupyter-widgets/controls",
            "_model_module_version": "1.5.0",
            "_model_name": "HTMLModel",
            "_view_count": null,
            "_view_module": "@jupyter-widgets/controls",
            "_view_module_version": "1.5.0",
            "_view_name": "HTMLView",
            "description": "",
            "description_tooltip": null,
            "layout": "IPY_MODEL_43a436273b54426db4e64f55e3cb0d4e",
            "placeholder": "​",
            "style": "IPY_MODEL_8ae2de63a84448bdbff9cc1906804a85",
            "value": " 232k/232k [00:00&lt;00:00, 627kB/s]"
          }
        },
        "cbb69eec9251438899f169dd119aeb43": {
          "model_module": "@jupyter-widgets/base",
          "model_name": "LayoutModel",
          "model_module_version": "1.2.0",
          "state": {
            "_model_module": "@jupyter-widgets/base",
            "_model_module_version": "1.2.0",
            "_model_name": "LayoutModel",
            "_view_count": null,
            "_view_module": "@jupyter-widgets/base",
            "_view_module_version": "1.2.0",
            "_view_name": "LayoutView",
            "align_content": null,
            "align_items": null,
            "align_self": null,
            "border": null,
            "bottom": null,
            "display": null,
            "flex": null,
            "flex_flow": null,
            "grid_area": null,
            "grid_auto_columns": null,
            "grid_auto_flow": null,
            "grid_auto_rows": null,
            "grid_column": null,
            "grid_gap": null,
            "grid_row": null,
            "grid_template_areas": null,
            "grid_template_columns": null,
            "grid_template_rows": null,
            "height": null,
            "justify_content": null,
            "justify_items": null,
            "left": null,
            "margin": null,
            "max_height": null,
            "max_width": null,
            "min_height": null,
            "min_width": null,
            "object_fit": null,
            "object_position": null,
            "order": null,
            "overflow": null,
            "overflow_x": null,
            "overflow_y": null,
            "padding": null,
            "right": null,
            "top": null,
            "visibility": null,
            "width": null
          }
        },
        "e34525bde2b448d099b5139cf123ba82": {
          "model_module": "@jupyter-widgets/base",
          "model_name": "LayoutModel",
          "model_module_version": "1.2.0",
          "state": {
            "_model_module": "@jupyter-widgets/base",
            "_model_module_version": "1.2.0",
            "_model_name": "LayoutModel",
            "_view_count": null,
            "_view_module": "@jupyter-widgets/base",
            "_view_module_version": "1.2.0",
            "_view_name": "LayoutView",
            "align_content": null,
            "align_items": null,
            "align_self": null,
            "border": null,
            "bottom": null,
            "display": null,
            "flex": null,
            "flex_flow": null,
            "grid_area": null,
            "grid_auto_columns": null,
            "grid_auto_flow": null,
            "grid_auto_rows": null,
            "grid_column": null,
            "grid_gap": null,
            "grid_row": null,
            "grid_template_areas": null,
            "grid_template_columns": null,
            "grid_template_rows": null,
            "height": null,
            "justify_content": null,
            "justify_items": null,
            "left": null,
            "margin": null,
            "max_height": null,
            "max_width": null,
            "min_height": null,
            "min_width": null,
            "object_fit": null,
            "object_position": null,
            "order": null,
            "overflow": null,
            "overflow_x": null,
            "overflow_y": null,
            "padding": null,
            "right": null,
            "top": null,
            "visibility": null,
            "width": null
          }
        },
        "dbb72b834d5b425a8a8163159d5b528e": {
          "model_module": "@jupyter-widgets/controls",
          "model_name": "DescriptionStyleModel",
          "model_module_version": "1.5.0",
          "state": {
            "_model_module": "@jupyter-widgets/controls",
            "_model_module_version": "1.5.0",
            "_model_name": "DescriptionStyleModel",
            "_view_count": null,
            "_view_module": "@jupyter-widgets/base",
            "_view_module_version": "1.2.0",
            "_view_name": "StyleView",
            "description_width": ""
          }
        },
        "2b73c2adbad0483a87be3318d19d737f": {
          "model_module": "@jupyter-widgets/base",
          "model_name": "LayoutModel",
          "model_module_version": "1.2.0",
          "state": {
            "_model_module": "@jupyter-widgets/base",
            "_model_module_version": "1.2.0",
            "_model_name": "LayoutModel",
            "_view_count": null,
            "_view_module": "@jupyter-widgets/base",
            "_view_module_version": "1.2.0",
            "_view_name": "LayoutView",
            "align_content": null,
            "align_items": null,
            "align_self": null,
            "border": null,
            "bottom": null,
            "display": null,
            "flex": null,
            "flex_flow": null,
            "grid_area": null,
            "grid_auto_columns": null,
            "grid_auto_flow": null,
            "grid_auto_rows": null,
            "grid_column": null,
            "grid_gap": null,
            "grid_row": null,
            "grid_template_areas": null,
            "grid_template_columns": null,
            "grid_template_rows": null,
            "height": null,
            "justify_content": null,
            "justify_items": null,
            "left": null,
            "margin": null,
            "max_height": null,
            "max_width": null,
            "min_height": null,
            "min_width": null,
            "object_fit": null,
            "object_position": null,
            "order": null,
            "overflow": null,
            "overflow_x": null,
            "overflow_y": null,
            "padding": null,
            "right": null,
            "top": null,
            "visibility": null,
            "width": null
          }
        },
        "bc829116e73d4695b05b800437e688ef": {
          "model_module": "@jupyter-widgets/controls",
          "model_name": "ProgressStyleModel",
          "model_module_version": "1.5.0",
          "state": {
            "_model_module": "@jupyter-widgets/controls",
            "_model_module_version": "1.5.0",
            "_model_name": "ProgressStyleModel",
            "_view_count": null,
            "_view_module": "@jupyter-widgets/base",
            "_view_module_version": "1.2.0",
            "_view_name": "StyleView",
            "bar_color": null,
            "description_width": ""
          }
        },
        "43a436273b54426db4e64f55e3cb0d4e": {
          "model_module": "@jupyter-widgets/base",
          "model_name": "LayoutModel",
          "model_module_version": "1.2.0",
          "state": {
            "_model_module": "@jupyter-widgets/base",
            "_model_module_version": "1.2.0",
            "_model_name": "LayoutModel",
            "_view_count": null,
            "_view_module": "@jupyter-widgets/base",
            "_view_module_version": "1.2.0",
            "_view_name": "LayoutView",
            "align_content": null,
            "align_items": null,
            "align_self": null,
            "border": null,
            "bottom": null,
            "display": null,
            "flex": null,
            "flex_flow": null,
            "grid_area": null,
            "grid_auto_columns": null,
            "grid_auto_flow": null,
            "grid_auto_rows": null,
            "grid_column": null,
            "grid_gap": null,
            "grid_row": null,
            "grid_template_areas": null,
            "grid_template_columns": null,
            "grid_template_rows": null,
            "height": null,
            "justify_content": null,
            "justify_items": null,
            "left": null,
            "margin": null,
            "max_height": null,
            "max_width": null,
            "min_height": null,
            "min_width": null,
            "object_fit": null,
            "object_position": null,
            "order": null,
            "overflow": null,
            "overflow_x": null,
            "overflow_y": null,
            "padding": null,
            "right": null,
            "top": null,
            "visibility": null,
            "width": null
          }
        },
        "8ae2de63a84448bdbff9cc1906804a85": {
          "model_module": "@jupyter-widgets/controls",
          "model_name": "DescriptionStyleModel",
          "model_module_version": "1.5.0",
          "state": {
            "_model_module": "@jupyter-widgets/controls",
            "_model_module_version": "1.5.0",
            "_model_name": "DescriptionStyleModel",
            "_view_count": null,
            "_view_module": "@jupyter-widgets/base",
            "_view_module_version": "1.2.0",
            "_view_name": "StyleView",
            "description_width": ""
          }
        },
        "552befef6f4744ae955376a3c33ab62f": {
          "model_module": "@jupyter-widgets/controls",
          "model_name": "HBoxModel",
          "model_module_version": "1.5.0",
          "state": {
            "_dom_classes": [],
            "_model_module": "@jupyter-widgets/controls",
            "_model_module_version": "1.5.0",
            "_model_name": "HBoxModel",
            "_view_count": null,
            "_view_module": "@jupyter-widgets/controls",
            "_view_module_version": "1.5.0",
            "_view_name": "HBoxView",
            "box_style": "",
            "children": [
              "IPY_MODEL_a0933947c71542ed942955d7bf3d2a48",
              "IPY_MODEL_627b93697a8c4bf3881e1824c2a1c918",
              "IPY_MODEL_da6e05d1e36d42a6914c8abb8e4befbb"
            ],
            "layout": "IPY_MODEL_4afab6bd5c96427d8768e391609e1b0a"
          }
        },
        "a0933947c71542ed942955d7bf3d2a48": {
          "model_module": "@jupyter-widgets/controls",
          "model_name": "HTMLModel",
          "model_module_version": "1.5.0",
          "state": {
            "_dom_classes": [],
            "_model_module": "@jupyter-widgets/controls",
            "_model_module_version": "1.5.0",
            "_model_name": "HTMLModel",
            "_view_count": null,
            "_view_module": "@jupyter-widgets/controls",
            "_view_module_version": "1.5.0",
            "_view_name": "HTMLView",
            "description": "",
            "description_tooltip": null,
            "layout": "IPY_MODEL_d095bacc17a549008df8543e33e31d59",
            "placeholder": "​",
            "style": "IPY_MODEL_45208790a8134e69865b5ba9da83ab05",
            "value": "Downloading (…)/main/tokenizer.json: 100%"
          }
        },
        "627b93697a8c4bf3881e1824c2a1c918": {
          "model_module": "@jupyter-widgets/controls",
          "model_name": "FloatProgressModel",
          "model_module_version": "1.5.0",
          "state": {
            "_dom_classes": [],
            "_model_module": "@jupyter-widgets/controls",
            "_model_module_version": "1.5.0",
            "_model_name": "FloatProgressModel",
            "_view_count": null,
            "_view_module": "@jupyter-widgets/controls",
            "_view_module_version": "1.5.0",
            "_view_name": "ProgressView",
            "bar_style": "success",
            "description": "",
            "description_tooltip": null,
            "layout": "IPY_MODEL_fa2d172df4684e1c850007c739a8fdf9",
            "max": 466062,
            "min": 0,
            "orientation": "horizontal",
            "style": "IPY_MODEL_d38bb0e83e1544679b06a00a52953141",
            "value": 466062
          }
        },
        "da6e05d1e36d42a6914c8abb8e4befbb": {
          "model_module": "@jupyter-widgets/controls",
          "model_name": "HTMLModel",
          "model_module_version": "1.5.0",
          "state": {
            "_dom_classes": [],
            "_model_module": "@jupyter-widgets/controls",
            "_model_module_version": "1.5.0",
            "_model_name": "HTMLModel",
            "_view_count": null,
            "_view_module": "@jupyter-widgets/controls",
            "_view_module_version": "1.5.0",
            "_view_name": "HTMLView",
            "description": "",
            "description_tooltip": null,
            "layout": "IPY_MODEL_6ab645eb1bac4405bb6fcbfc8974baae",
            "placeholder": "​",
            "style": "IPY_MODEL_f3ba2d01c0e849db84140ae20c297c02",
            "value": " 466k/466k [00:00&lt;00:00, 841kB/s]"
          }
        },
        "4afab6bd5c96427d8768e391609e1b0a": {
          "model_module": "@jupyter-widgets/base",
          "model_name": "LayoutModel",
          "model_module_version": "1.2.0",
          "state": {
            "_model_module": "@jupyter-widgets/base",
            "_model_module_version": "1.2.0",
            "_model_name": "LayoutModel",
            "_view_count": null,
            "_view_module": "@jupyter-widgets/base",
            "_view_module_version": "1.2.0",
            "_view_name": "LayoutView",
            "align_content": null,
            "align_items": null,
            "align_self": null,
            "border": null,
            "bottom": null,
            "display": null,
            "flex": null,
            "flex_flow": null,
            "grid_area": null,
            "grid_auto_columns": null,
            "grid_auto_flow": null,
            "grid_auto_rows": null,
            "grid_column": null,
            "grid_gap": null,
            "grid_row": null,
            "grid_template_areas": null,
            "grid_template_columns": null,
            "grid_template_rows": null,
            "height": null,
            "justify_content": null,
            "justify_items": null,
            "left": null,
            "margin": null,
            "max_height": null,
            "max_width": null,
            "min_height": null,
            "min_width": null,
            "object_fit": null,
            "object_position": null,
            "order": null,
            "overflow": null,
            "overflow_x": null,
            "overflow_y": null,
            "padding": null,
            "right": null,
            "top": null,
            "visibility": null,
            "width": null
          }
        },
        "d095bacc17a549008df8543e33e31d59": {
          "model_module": "@jupyter-widgets/base",
          "model_name": "LayoutModel",
          "model_module_version": "1.2.0",
          "state": {
            "_model_module": "@jupyter-widgets/base",
            "_model_module_version": "1.2.0",
            "_model_name": "LayoutModel",
            "_view_count": null,
            "_view_module": "@jupyter-widgets/base",
            "_view_module_version": "1.2.0",
            "_view_name": "LayoutView",
            "align_content": null,
            "align_items": null,
            "align_self": null,
            "border": null,
            "bottom": null,
            "display": null,
            "flex": null,
            "flex_flow": null,
            "grid_area": null,
            "grid_auto_columns": null,
            "grid_auto_flow": null,
            "grid_auto_rows": null,
            "grid_column": null,
            "grid_gap": null,
            "grid_row": null,
            "grid_template_areas": null,
            "grid_template_columns": null,
            "grid_template_rows": null,
            "height": null,
            "justify_content": null,
            "justify_items": null,
            "left": null,
            "margin": null,
            "max_height": null,
            "max_width": null,
            "min_height": null,
            "min_width": null,
            "object_fit": null,
            "object_position": null,
            "order": null,
            "overflow": null,
            "overflow_x": null,
            "overflow_y": null,
            "padding": null,
            "right": null,
            "top": null,
            "visibility": null,
            "width": null
          }
        },
        "45208790a8134e69865b5ba9da83ab05": {
          "model_module": "@jupyter-widgets/controls",
          "model_name": "DescriptionStyleModel",
          "model_module_version": "1.5.0",
          "state": {
            "_model_module": "@jupyter-widgets/controls",
            "_model_module_version": "1.5.0",
            "_model_name": "DescriptionStyleModel",
            "_view_count": null,
            "_view_module": "@jupyter-widgets/base",
            "_view_module_version": "1.2.0",
            "_view_name": "StyleView",
            "description_width": ""
          }
        },
        "fa2d172df4684e1c850007c739a8fdf9": {
          "model_module": "@jupyter-widgets/base",
          "model_name": "LayoutModel",
          "model_module_version": "1.2.0",
          "state": {
            "_model_module": "@jupyter-widgets/base",
            "_model_module_version": "1.2.0",
            "_model_name": "LayoutModel",
            "_view_count": null,
            "_view_module": "@jupyter-widgets/base",
            "_view_module_version": "1.2.0",
            "_view_name": "LayoutView",
            "align_content": null,
            "align_items": null,
            "align_self": null,
            "border": null,
            "bottom": null,
            "display": null,
            "flex": null,
            "flex_flow": null,
            "grid_area": null,
            "grid_auto_columns": null,
            "grid_auto_flow": null,
            "grid_auto_rows": null,
            "grid_column": null,
            "grid_gap": null,
            "grid_row": null,
            "grid_template_areas": null,
            "grid_template_columns": null,
            "grid_template_rows": null,
            "height": null,
            "justify_content": null,
            "justify_items": null,
            "left": null,
            "margin": null,
            "max_height": null,
            "max_width": null,
            "min_height": null,
            "min_width": null,
            "object_fit": null,
            "object_position": null,
            "order": null,
            "overflow": null,
            "overflow_x": null,
            "overflow_y": null,
            "padding": null,
            "right": null,
            "top": null,
            "visibility": null,
            "width": null
          }
        },
        "d38bb0e83e1544679b06a00a52953141": {
          "model_module": "@jupyter-widgets/controls",
          "model_name": "ProgressStyleModel",
          "model_module_version": "1.5.0",
          "state": {
            "_model_module": "@jupyter-widgets/controls",
            "_model_module_version": "1.5.0",
            "_model_name": "ProgressStyleModel",
            "_view_count": null,
            "_view_module": "@jupyter-widgets/base",
            "_view_module_version": "1.2.0",
            "_view_name": "StyleView",
            "bar_color": null,
            "description_width": ""
          }
        },
        "6ab645eb1bac4405bb6fcbfc8974baae": {
          "model_module": "@jupyter-widgets/base",
          "model_name": "LayoutModel",
          "model_module_version": "1.2.0",
          "state": {
            "_model_module": "@jupyter-widgets/base",
            "_model_module_version": "1.2.0",
            "_model_name": "LayoutModel",
            "_view_count": null,
            "_view_module": "@jupyter-widgets/base",
            "_view_module_version": "1.2.0",
            "_view_name": "LayoutView",
            "align_content": null,
            "align_items": null,
            "align_self": null,
            "border": null,
            "bottom": null,
            "display": null,
            "flex": null,
            "flex_flow": null,
            "grid_area": null,
            "grid_auto_columns": null,
            "grid_auto_flow": null,
            "grid_auto_rows": null,
            "grid_column": null,
            "grid_gap": null,
            "grid_row": null,
            "grid_template_areas": null,
            "grid_template_columns": null,
            "grid_template_rows": null,
            "height": null,
            "justify_content": null,
            "justify_items": null,
            "left": null,
            "margin": null,
            "max_height": null,
            "max_width": null,
            "min_height": null,
            "min_width": null,
            "object_fit": null,
            "object_position": null,
            "order": null,
            "overflow": null,
            "overflow_x": null,
            "overflow_y": null,
            "padding": null,
            "right": null,
            "top": null,
            "visibility": null,
            "width": null
          }
        },
        "f3ba2d01c0e849db84140ae20c297c02": {
          "model_module": "@jupyter-widgets/controls",
          "model_name": "DescriptionStyleModel",
          "model_module_version": "1.5.0",
          "state": {
            "_model_module": "@jupyter-widgets/controls",
            "_model_module_version": "1.5.0",
            "_model_name": "DescriptionStyleModel",
            "_view_count": null,
            "_view_module": "@jupyter-widgets/base",
            "_view_module_version": "1.2.0",
            "_view_name": "StyleView",
            "description_width": ""
          }
        },
        "d0ce8d7402dd48ff8c1ac85bfd205e5d": {
          "model_module": "@jupyter-widgets/controls",
          "model_name": "HBoxModel",
          "model_module_version": "1.5.0",
          "state": {
            "_dom_classes": [],
            "_model_module": "@jupyter-widgets/controls",
            "_model_module_version": "1.5.0",
            "_model_name": "HBoxModel",
            "_view_count": null,
            "_view_module": "@jupyter-widgets/controls",
            "_view_module_version": "1.5.0",
            "_view_name": "HBoxView",
            "box_style": "",
            "children": [
              "IPY_MODEL_a533260026de449086316035c0f035b6",
              "IPY_MODEL_f94bc3c802f1426f93ad73e00346479b",
              "IPY_MODEL_851a53729313404aabb4a74ffdcad677"
            ],
            "layout": "IPY_MODEL_2cb218ff4db4446d9ff95f23da3c0f54"
          }
        },
        "a533260026de449086316035c0f035b6": {
          "model_module": "@jupyter-widgets/controls",
          "model_name": "HTMLModel",
          "model_module_version": "1.5.0",
          "state": {
            "_dom_classes": [],
            "_model_module": "@jupyter-widgets/controls",
            "_model_module_version": "1.5.0",
            "_model_name": "HTMLModel",
            "_view_count": null,
            "_view_module": "@jupyter-widgets/controls",
            "_view_module_version": "1.5.0",
            "_view_name": "HTMLView",
            "description": "",
            "description_tooltip": null,
            "layout": "IPY_MODEL_fedc3e98a33a4707b5e06b288f9d6b07",
            "placeholder": "​",
            "style": "IPY_MODEL_9b5fe805383449fc8ba0de36427721d5",
            "value": "tokenizer_config.json: 100%"
          }
        },
        "f94bc3c802f1426f93ad73e00346479b": {
          "model_module": "@jupyter-widgets/controls",
          "model_name": "FloatProgressModel",
          "model_module_version": "1.5.0",
          "state": {
            "_dom_classes": [],
            "_model_module": "@jupyter-widgets/controls",
            "_model_module_version": "1.5.0",
            "_model_name": "FloatProgressModel",
            "_view_count": null,
            "_view_module": "@jupyter-widgets/controls",
            "_view_module_version": "1.5.0",
            "_view_name": "ProgressView",
            "bar_style": "success",
            "description": "",
            "description_tooltip": null,
            "layout": "IPY_MODEL_8b9bdd503d0f4fb88685fa31576c5ae4",
            "max": 29,
            "min": 0,
            "orientation": "horizontal",
            "style": "IPY_MODEL_902068b7df584ad9b3c0a76c88794347",
            "value": 29
          }
        },
        "851a53729313404aabb4a74ffdcad677": {
          "model_module": "@jupyter-widgets/controls",
          "model_name": "HTMLModel",
          "model_module_version": "1.5.0",
          "state": {
            "_dom_classes": [],
            "_model_module": "@jupyter-widgets/controls",
            "_model_module_version": "1.5.0",
            "_model_name": "HTMLModel",
            "_view_count": null,
            "_view_module": "@jupyter-widgets/controls",
            "_view_module_version": "1.5.0",
            "_view_name": "HTMLView",
            "description": "",
            "description_tooltip": null,
            "layout": "IPY_MODEL_67a06102cfcc450b98da2096190008af",
            "placeholder": "​",
            "style": "IPY_MODEL_9c427bc7693e433991606ffc0a121ccb",
            "value": " 29.0/29.0 [00:00&lt;00:00, 1.10kB/s]"
          }
        },
        "2cb218ff4db4446d9ff95f23da3c0f54": {
          "model_module": "@jupyter-widgets/base",
          "model_name": "LayoutModel",
          "model_module_version": "1.2.0",
          "state": {
            "_model_module": "@jupyter-widgets/base",
            "_model_module_version": "1.2.0",
            "_model_name": "LayoutModel",
            "_view_count": null,
            "_view_module": "@jupyter-widgets/base",
            "_view_module_version": "1.2.0",
            "_view_name": "LayoutView",
            "align_content": null,
            "align_items": null,
            "align_self": null,
            "border": null,
            "bottom": null,
            "display": null,
            "flex": null,
            "flex_flow": null,
            "grid_area": null,
            "grid_auto_columns": null,
            "grid_auto_flow": null,
            "grid_auto_rows": null,
            "grid_column": null,
            "grid_gap": null,
            "grid_row": null,
            "grid_template_areas": null,
            "grid_template_columns": null,
            "grid_template_rows": null,
            "height": null,
            "justify_content": null,
            "justify_items": null,
            "left": null,
            "margin": null,
            "max_height": null,
            "max_width": null,
            "min_height": null,
            "min_width": null,
            "object_fit": null,
            "object_position": null,
            "order": null,
            "overflow": null,
            "overflow_x": null,
            "overflow_y": null,
            "padding": null,
            "right": null,
            "top": null,
            "visibility": null,
            "width": null
          }
        },
        "fedc3e98a33a4707b5e06b288f9d6b07": {
          "model_module": "@jupyter-widgets/base",
          "model_name": "LayoutModel",
          "model_module_version": "1.2.0",
          "state": {
            "_model_module": "@jupyter-widgets/base",
            "_model_module_version": "1.2.0",
            "_model_name": "LayoutModel",
            "_view_count": null,
            "_view_module": "@jupyter-widgets/base",
            "_view_module_version": "1.2.0",
            "_view_name": "LayoutView",
            "align_content": null,
            "align_items": null,
            "align_self": null,
            "border": null,
            "bottom": null,
            "display": null,
            "flex": null,
            "flex_flow": null,
            "grid_area": null,
            "grid_auto_columns": null,
            "grid_auto_flow": null,
            "grid_auto_rows": null,
            "grid_column": null,
            "grid_gap": null,
            "grid_row": null,
            "grid_template_areas": null,
            "grid_template_columns": null,
            "grid_template_rows": null,
            "height": null,
            "justify_content": null,
            "justify_items": null,
            "left": null,
            "margin": null,
            "max_height": null,
            "max_width": null,
            "min_height": null,
            "min_width": null,
            "object_fit": null,
            "object_position": null,
            "order": null,
            "overflow": null,
            "overflow_x": null,
            "overflow_y": null,
            "padding": null,
            "right": null,
            "top": null,
            "visibility": null,
            "width": null
          }
        },
        "9b5fe805383449fc8ba0de36427721d5": {
          "model_module": "@jupyter-widgets/controls",
          "model_name": "DescriptionStyleModel",
          "model_module_version": "1.5.0",
          "state": {
            "_model_module": "@jupyter-widgets/controls",
            "_model_module_version": "1.5.0",
            "_model_name": "DescriptionStyleModel",
            "_view_count": null,
            "_view_module": "@jupyter-widgets/base",
            "_view_module_version": "1.2.0",
            "_view_name": "StyleView",
            "description_width": ""
          }
        },
        "8b9bdd503d0f4fb88685fa31576c5ae4": {
          "model_module": "@jupyter-widgets/base",
          "model_name": "LayoutModel",
          "model_module_version": "1.2.0",
          "state": {
            "_model_module": "@jupyter-widgets/base",
            "_model_module_version": "1.2.0",
            "_model_name": "LayoutModel",
            "_view_count": null,
            "_view_module": "@jupyter-widgets/base",
            "_view_module_version": "1.2.0",
            "_view_name": "LayoutView",
            "align_content": null,
            "align_items": null,
            "align_self": null,
            "border": null,
            "bottom": null,
            "display": null,
            "flex": null,
            "flex_flow": null,
            "grid_area": null,
            "grid_auto_columns": null,
            "grid_auto_flow": null,
            "grid_auto_rows": null,
            "grid_column": null,
            "grid_gap": null,
            "grid_row": null,
            "grid_template_areas": null,
            "grid_template_columns": null,
            "grid_template_rows": null,
            "height": null,
            "justify_content": null,
            "justify_items": null,
            "left": null,
            "margin": null,
            "max_height": null,
            "max_width": null,
            "min_height": null,
            "min_width": null,
            "object_fit": null,
            "object_position": null,
            "order": null,
            "overflow": null,
            "overflow_x": null,
            "overflow_y": null,
            "padding": null,
            "right": null,
            "top": null,
            "visibility": null,
            "width": null
          }
        },
        "902068b7df584ad9b3c0a76c88794347": {
          "model_module": "@jupyter-widgets/controls",
          "model_name": "ProgressStyleModel",
          "model_module_version": "1.5.0",
          "state": {
            "_model_module": "@jupyter-widgets/controls",
            "_model_module_version": "1.5.0",
            "_model_name": "ProgressStyleModel",
            "_view_count": null,
            "_view_module": "@jupyter-widgets/base",
            "_view_module_version": "1.2.0",
            "_view_name": "StyleView",
            "bar_color": null,
            "description_width": ""
          }
        },
        "67a06102cfcc450b98da2096190008af": {
          "model_module": "@jupyter-widgets/base",
          "model_name": "LayoutModel",
          "model_module_version": "1.2.0",
          "state": {
            "_model_module": "@jupyter-widgets/base",
            "_model_module_version": "1.2.0",
            "_model_name": "LayoutModel",
            "_view_count": null,
            "_view_module": "@jupyter-widgets/base",
            "_view_module_version": "1.2.0",
            "_view_name": "LayoutView",
            "align_content": null,
            "align_items": null,
            "align_self": null,
            "border": null,
            "bottom": null,
            "display": null,
            "flex": null,
            "flex_flow": null,
            "grid_area": null,
            "grid_auto_columns": null,
            "grid_auto_flow": null,
            "grid_auto_rows": null,
            "grid_column": null,
            "grid_gap": null,
            "grid_row": null,
            "grid_template_areas": null,
            "grid_template_columns": null,
            "grid_template_rows": null,
            "height": null,
            "justify_content": null,
            "justify_items": null,
            "left": null,
            "margin": null,
            "max_height": null,
            "max_width": null,
            "min_height": null,
            "min_width": null,
            "object_fit": null,
            "object_position": null,
            "order": null,
            "overflow": null,
            "overflow_x": null,
            "overflow_y": null,
            "padding": null,
            "right": null,
            "top": null,
            "visibility": null,
            "width": null
          }
        },
        "9c427bc7693e433991606ffc0a121ccb": {
          "model_module": "@jupyter-widgets/controls",
          "model_name": "DescriptionStyleModel",
          "model_module_version": "1.5.0",
          "state": {
            "_model_module": "@jupyter-widgets/controls",
            "_model_module_version": "1.5.0",
            "_model_name": "DescriptionStyleModel",
            "_view_count": null,
            "_view_module": "@jupyter-widgets/base",
            "_view_module_version": "1.2.0",
            "_view_name": "StyleView",
            "description_width": ""
          }
        },
        "6ba5c330dd3b43a18dc4bca9bd4fe2d6": {
          "model_module": "@jupyter-widgets/controls",
          "model_name": "HBoxModel",
          "model_module_version": "1.5.0",
          "state": {
            "_dom_classes": [],
            "_model_module": "@jupyter-widgets/controls",
            "_model_module_version": "1.5.0",
            "_model_name": "HBoxModel",
            "_view_count": null,
            "_view_module": "@jupyter-widgets/controls",
            "_view_module_version": "1.5.0",
            "_view_name": "HBoxView",
            "box_style": "",
            "children": [
              "IPY_MODEL_9699d9c34a0f432c8686e925780178d4",
              "IPY_MODEL_46c5e8793e8a462c985f9ccc0c284622",
              "IPY_MODEL_7f9ce918347a45ec9c1899c44fc2345c"
            ],
            "layout": "IPY_MODEL_3aef08acf72d4f728015d2fb64abac0a"
          }
        },
        "9699d9c34a0f432c8686e925780178d4": {
          "model_module": "@jupyter-widgets/controls",
          "model_name": "HTMLModel",
          "model_module_version": "1.5.0",
          "state": {
            "_dom_classes": [],
            "_model_module": "@jupyter-widgets/controls",
            "_model_module_version": "1.5.0",
            "_model_name": "HTMLModel",
            "_view_count": null,
            "_view_module": "@jupyter-widgets/controls",
            "_view_module_version": "1.5.0",
            "_view_name": "HTMLView",
            "description": "",
            "description_tooltip": null,
            "layout": "IPY_MODEL_bf2f2e028cae4b189535970bb0c42a5a",
            "placeholder": "​",
            "style": "IPY_MODEL_8bbc3c3809e84a1bbf44ed67fb10e17c",
            "value": "config.json: 100%"
          }
        },
        "46c5e8793e8a462c985f9ccc0c284622": {
          "model_module": "@jupyter-widgets/controls",
          "model_name": "FloatProgressModel",
          "model_module_version": "1.5.0",
          "state": {
            "_dom_classes": [],
            "_model_module": "@jupyter-widgets/controls",
            "_model_module_version": "1.5.0",
            "_model_name": "FloatProgressModel",
            "_view_count": null,
            "_view_module": "@jupyter-widgets/controls",
            "_view_module_version": "1.5.0",
            "_view_name": "ProgressView",
            "bar_style": "success",
            "description": "",
            "description_tooltip": null,
            "layout": "IPY_MODEL_da8b518ccc53499fa5b73373badd1c3f",
            "max": 570,
            "min": 0,
            "orientation": "horizontal",
            "style": "IPY_MODEL_5d37ca1500e44f969e2ad2e7e1406c9a",
            "value": 570
          }
        },
        "7f9ce918347a45ec9c1899c44fc2345c": {
          "model_module": "@jupyter-widgets/controls",
          "model_name": "HTMLModel",
          "model_module_version": "1.5.0",
          "state": {
            "_dom_classes": [],
            "_model_module": "@jupyter-widgets/controls",
            "_model_module_version": "1.5.0",
            "_model_name": "HTMLModel",
            "_view_count": null,
            "_view_module": "@jupyter-widgets/controls",
            "_view_module_version": "1.5.0",
            "_view_name": "HTMLView",
            "description": "",
            "description_tooltip": null,
            "layout": "IPY_MODEL_9b9835cd2f864039af7d48119a42cefb",
            "placeholder": "​",
            "style": "IPY_MODEL_8aa03d51543a4c16b3f7d11c9a749528",
            "value": " 570/570 [00:00&lt;00:00, 19.8kB/s]"
          }
        },
        "3aef08acf72d4f728015d2fb64abac0a": {
          "model_module": "@jupyter-widgets/base",
          "model_name": "LayoutModel",
          "model_module_version": "1.2.0",
          "state": {
            "_model_module": "@jupyter-widgets/base",
            "_model_module_version": "1.2.0",
            "_model_name": "LayoutModel",
            "_view_count": null,
            "_view_module": "@jupyter-widgets/base",
            "_view_module_version": "1.2.0",
            "_view_name": "LayoutView",
            "align_content": null,
            "align_items": null,
            "align_self": null,
            "border": null,
            "bottom": null,
            "display": null,
            "flex": null,
            "flex_flow": null,
            "grid_area": null,
            "grid_auto_columns": null,
            "grid_auto_flow": null,
            "grid_auto_rows": null,
            "grid_column": null,
            "grid_gap": null,
            "grid_row": null,
            "grid_template_areas": null,
            "grid_template_columns": null,
            "grid_template_rows": null,
            "height": null,
            "justify_content": null,
            "justify_items": null,
            "left": null,
            "margin": null,
            "max_height": null,
            "max_width": null,
            "min_height": null,
            "min_width": null,
            "object_fit": null,
            "object_position": null,
            "order": null,
            "overflow": null,
            "overflow_x": null,
            "overflow_y": null,
            "padding": null,
            "right": null,
            "top": null,
            "visibility": null,
            "width": null
          }
        },
        "bf2f2e028cae4b189535970bb0c42a5a": {
          "model_module": "@jupyter-widgets/base",
          "model_name": "LayoutModel",
          "model_module_version": "1.2.0",
          "state": {
            "_model_module": "@jupyter-widgets/base",
            "_model_module_version": "1.2.0",
            "_model_name": "LayoutModel",
            "_view_count": null,
            "_view_module": "@jupyter-widgets/base",
            "_view_module_version": "1.2.0",
            "_view_name": "LayoutView",
            "align_content": null,
            "align_items": null,
            "align_self": null,
            "border": null,
            "bottom": null,
            "display": null,
            "flex": null,
            "flex_flow": null,
            "grid_area": null,
            "grid_auto_columns": null,
            "grid_auto_flow": null,
            "grid_auto_rows": null,
            "grid_column": null,
            "grid_gap": null,
            "grid_row": null,
            "grid_template_areas": null,
            "grid_template_columns": null,
            "grid_template_rows": null,
            "height": null,
            "justify_content": null,
            "justify_items": null,
            "left": null,
            "margin": null,
            "max_height": null,
            "max_width": null,
            "min_height": null,
            "min_width": null,
            "object_fit": null,
            "object_position": null,
            "order": null,
            "overflow": null,
            "overflow_x": null,
            "overflow_y": null,
            "padding": null,
            "right": null,
            "top": null,
            "visibility": null,
            "width": null
          }
        },
        "8bbc3c3809e84a1bbf44ed67fb10e17c": {
          "model_module": "@jupyter-widgets/controls",
          "model_name": "DescriptionStyleModel",
          "model_module_version": "1.5.0",
          "state": {
            "_model_module": "@jupyter-widgets/controls",
            "_model_module_version": "1.5.0",
            "_model_name": "DescriptionStyleModel",
            "_view_count": null,
            "_view_module": "@jupyter-widgets/base",
            "_view_module_version": "1.2.0",
            "_view_name": "StyleView",
            "description_width": ""
          }
        },
        "da8b518ccc53499fa5b73373badd1c3f": {
          "model_module": "@jupyter-widgets/base",
          "model_name": "LayoutModel",
          "model_module_version": "1.2.0",
          "state": {
            "_model_module": "@jupyter-widgets/base",
            "_model_module_version": "1.2.0",
            "_model_name": "LayoutModel",
            "_view_count": null,
            "_view_module": "@jupyter-widgets/base",
            "_view_module_version": "1.2.0",
            "_view_name": "LayoutView",
            "align_content": null,
            "align_items": null,
            "align_self": null,
            "border": null,
            "bottom": null,
            "display": null,
            "flex": null,
            "flex_flow": null,
            "grid_area": null,
            "grid_auto_columns": null,
            "grid_auto_flow": null,
            "grid_auto_rows": null,
            "grid_column": null,
            "grid_gap": null,
            "grid_row": null,
            "grid_template_areas": null,
            "grid_template_columns": null,
            "grid_template_rows": null,
            "height": null,
            "justify_content": null,
            "justify_items": null,
            "left": null,
            "margin": null,
            "max_height": null,
            "max_width": null,
            "min_height": null,
            "min_width": null,
            "object_fit": null,
            "object_position": null,
            "order": null,
            "overflow": null,
            "overflow_x": null,
            "overflow_y": null,
            "padding": null,
            "right": null,
            "top": null,
            "visibility": null,
            "width": null
          }
        },
        "5d37ca1500e44f969e2ad2e7e1406c9a": {
          "model_module": "@jupyter-widgets/controls",
          "model_name": "ProgressStyleModel",
          "model_module_version": "1.5.0",
          "state": {
            "_model_module": "@jupyter-widgets/controls",
            "_model_module_version": "1.5.0",
            "_model_name": "ProgressStyleModel",
            "_view_count": null,
            "_view_module": "@jupyter-widgets/base",
            "_view_module_version": "1.2.0",
            "_view_name": "StyleView",
            "bar_color": null,
            "description_width": ""
          }
        },
        "9b9835cd2f864039af7d48119a42cefb": {
          "model_module": "@jupyter-widgets/base",
          "model_name": "LayoutModel",
          "model_module_version": "1.2.0",
          "state": {
            "_model_module": "@jupyter-widgets/base",
            "_model_module_version": "1.2.0",
            "_model_name": "LayoutModel",
            "_view_count": null,
            "_view_module": "@jupyter-widgets/base",
            "_view_module_version": "1.2.0",
            "_view_name": "LayoutView",
            "align_content": null,
            "align_items": null,
            "align_self": null,
            "border": null,
            "bottom": null,
            "display": null,
            "flex": null,
            "flex_flow": null,
            "grid_area": null,
            "grid_auto_columns": null,
            "grid_auto_flow": null,
            "grid_auto_rows": null,
            "grid_column": null,
            "grid_gap": null,
            "grid_row": null,
            "grid_template_areas": null,
            "grid_template_columns": null,
            "grid_template_rows": null,
            "height": null,
            "justify_content": null,
            "justify_items": null,
            "left": null,
            "margin": null,
            "max_height": null,
            "max_width": null,
            "min_height": null,
            "min_width": null,
            "object_fit": null,
            "object_position": null,
            "order": null,
            "overflow": null,
            "overflow_x": null,
            "overflow_y": null,
            "padding": null,
            "right": null,
            "top": null,
            "visibility": null,
            "width": null
          }
        },
        "8aa03d51543a4c16b3f7d11c9a749528": {
          "model_module": "@jupyter-widgets/controls",
          "model_name": "DescriptionStyleModel",
          "model_module_version": "1.5.0",
          "state": {
            "_model_module": "@jupyter-widgets/controls",
            "_model_module_version": "1.5.0",
            "_model_name": "DescriptionStyleModel",
            "_view_count": null,
            "_view_module": "@jupyter-widgets/base",
            "_view_module_version": "1.2.0",
            "_view_name": "StyleView",
            "description_width": ""
          }
        },
        "46857d39c40244c68e7228933a103b61": {
          "model_module": "@jupyter-widgets/controls",
          "model_name": "HBoxModel",
          "model_module_version": "1.5.0",
          "state": {
            "_dom_classes": [],
            "_model_module": "@jupyter-widgets/controls",
            "_model_module_version": "1.5.0",
            "_model_name": "HBoxModel",
            "_view_count": null,
            "_view_module": "@jupyter-widgets/controls",
            "_view_module_version": "1.5.0",
            "_view_name": "HBoxView",
            "box_style": "",
            "children": [
              "IPY_MODEL_76b2f2cecbfc41adae09bc2a853aac69",
              "IPY_MODEL_0648422607e4409d828fe9ef8bf48e4e",
              "IPY_MODEL_04c7accf2baa484b9bbe4ed26eadec63"
            ],
            "layout": "IPY_MODEL_3f78dcf46c9645ac8c2d0775ef748031"
          }
        },
        "76b2f2cecbfc41adae09bc2a853aac69": {
          "model_module": "@jupyter-widgets/controls",
          "model_name": "HTMLModel",
          "model_module_version": "1.5.0",
          "state": {
            "_dom_classes": [],
            "_model_module": "@jupyter-widgets/controls",
            "_model_module_version": "1.5.0",
            "_model_name": "HTMLModel",
            "_view_count": null,
            "_view_module": "@jupyter-widgets/controls",
            "_view_module_version": "1.5.0",
            "_view_name": "HTMLView",
            "description": "",
            "description_tooltip": null,
            "layout": "IPY_MODEL_3cd76242b3904ba7b8e6cd5190f35fa4",
            "placeholder": "​",
            "style": "IPY_MODEL_ebdac0a860aa4a019fcf4c85079fb253",
            "value": "vocab.txt: 100%"
          }
        },
        "0648422607e4409d828fe9ef8bf48e4e": {
          "model_module": "@jupyter-widgets/controls",
          "model_name": "FloatProgressModel",
          "model_module_version": "1.5.0",
          "state": {
            "_dom_classes": [],
            "_model_module": "@jupyter-widgets/controls",
            "_model_module_version": "1.5.0",
            "_model_name": "FloatProgressModel",
            "_view_count": null,
            "_view_module": "@jupyter-widgets/controls",
            "_view_module_version": "1.5.0",
            "_view_name": "ProgressView",
            "bar_style": "success",
            "description": "",
            "description_tooltip": null,
            "layout": "IPY_MODEL_4d8e5b04eb044a9684ee1f6d3f2f7035",
            "max": 213450,
            "min": 0,
            "orientation": "horizontal",
            "style": "IPY_MODEL_c6d0e134303a4fbaab235ed7936c0aec",
            "value": 213450
          }
        },
        "04c7accf2baa484b9bbe4ed26eadec63": {
          "model_module": "@jupyter-widgets/controls",
          "model_name": "HTMLModel",
          "model_module_version": "1.5.0",
          "state": {
            "_dom_classes": [],
            "_model_module": "@jupyter-widgets/controls",
            "_model_module_version": "1.5.0",
            "_model_name": "HTMLModel",
            "_view_count": null,
            "_view_module": "@jupyter-widgets/controls",
            "_view_module_version": "1.5.0",
            "_view_name": "HTMLView",
            "description": "",
            "description_tooltip": null,
            "layout": "IPY_MODEL_00b658d618ed450994e5645883b4c762",
            "placeholder": "​",
            "style": "IPY_MODEL_e4b5e17002a641458c1e5764baf73b08",
            "value": " 213k/213k [00:00&lt;00:00, 2.82MB/s]"
          }
        },
        "3f78dcf46c9645ac8c2d0775ef748031": {
          "model_module": "@jupyter-widgets/base",
          "model_name": "LayoutModel",
          "model_module_version": "1.2.0",
          "state": {
            "_model_module": "@jupyter-widgets/base",
            "_model_module_version": "1.2.0",
            "_model_name": "LayoutModel",
            "_view_count": null,
            "_view_module": "@jupyter-widgets/base",
            "_view_module_version": "1.2.0",
            "_view_name": "LayoutView",
            "align_content": null,
            "align_items": null,
            "align_self": null,
            "border": null,
            "bottom": null,
            "display": null,
            "flex": null,
            "flex_flow": null,
            "grid_area": null,
            "grid_auto_columns": null,
            "grid_auto_flow": null,
            "grid_auto_rows": null,
            "grid_column": null,
            "grid_gap": null,
            "grid_row": null,
            "grid_template_areas": null,
            "grid_template_columns": null,
            "grid_template_rows": null,
            "height": null,
            "justify_content": null,
            "justify_items": null,
            "left": null,
            "margin": null,
            "max_height": null,
            "max_width": null,
            "min_height": null,
            "min_width": null,
            "object_fit": null,
            "object_position": null,
            "order": null,
            "overflow": null,
            "overflow_x": null,
            "overflow_y": null,
            "padding": null,
            "right": null,
            "top": null,
            "visibility": null,
            "width": null
          }
        },
        "3cd76242b3904ba7b8e6cd5190f35fa4": {
          "model_module": "@jupyter-widgets/base",
          "model_name": "LayoutModel",
          "model_module_version": "1.2.0",
          "state": {
            "_model_module": "@jupyter-widgets/base",
            "_model_module_version": "1.2.0",
            "_model_name": "LayoutModel",
            "_view_count": null,
            "_view_module": "@jupyter-widgets/base",
            "_view_module_version": "1.2.0",
            "_view_name": "LayoutView",
            "align_content": null,
            "align_items": null,
            "align_self": null,
            "border": null,
            "bottom": null,
            "display": null,
            "flex": null,
            "flex_flow": null,
            "grid_area": null,
            "grid_auto_columns": null,
            "grid_auto_flow": null,
            "grid_auto_rows": null,
            "grid_column": null,
            "grid_gap": null,
            "grid_row": null,
            "grid_template_areas": null,
            "grid_template_columns": null,
            "grid_template_rows": null,
            "height": null,
            "justify_content": null,
            "justify_items": null,
            "left": null,
            "margin": null,
            "max_height": null,
            "max_width": null,
            "min_height": null,
            "min_width": null,
            "object_fit": null,
            "object_position": null,
            "order": null,
            "overflow": null,
            "overflow_x": null,
            "overflow_y": null,
            "padding": null,
            "right": null,
            "top": null,
            "visibility": null,
            "width": null
          }
        },
        "ebdac0a860aa4a019fcf4c85079fb253": {
          "model_module": "@jupyter-widgets/controls",
          "model_name": "DescriptionStyleModel",
          "model_module_version": "1.5.0",
          "state": {
            "_model_module": "@jupyter-widgets/controls",
            "_model_module_version": "1.5.0",
            "_model_name": "DescriptionStyleModel",
            "_view_count": null,
            "_view_module": "@jupyter-widgets/base",
            "_view_module_version": "1.2.0",
            "_view_name": "StyleView",
            "description_width": ""
          }
        },
        "4d8e5b04eb044a9684ee1f6d3f2f7035": {
          "model_module": "@jupyter-widgets/base",
          "model_name": "LayoutModel",
          "model_module_version": "1.2.0",
          "state": {
            "_model_module": "@jupyter-widgets/base",
            "_model_module_version": "1.2.0",
            "_model_name": "LayoutModel",
            "_view_count": null,
            "_view_module": "@jupyter-widgets/base",
            "_view_module_version": "1.2.0",
            "_view_name": "LayoutView",
            "align_content": null,
            "align_items": null,
            "align_self": null,
            "border": null,
            "bottom": null,
            "display": null,
            "flex": null,
            "flex_flow": null,
            "grid_area": null,
            "grid_auto_columns": null,
            "grid_auto_flow": null,
            "grid_auto_rows": null,
            "grid_column": null,
            "grid_gap": null,
            "grid_row": null,
            "grid_template_areas": null,
            "grid_template_columns": null,
            "grid_template_rows": null,
            "height": null,
            "justify_content": null,
            "justify_items": null,
            "left": null,
            "margin": null,
            "max_height": null,
            "max_width": null,
            "min_height": null,
            "min_width": null,
            "object_fit": null,
            "object_position": null,
            "order": null,
            "overflow": null,
            "overflow_x": null,
            "overflow_y": null,
            "padding": null,
            "right": null,
            "top": null,
            "visibility": null,
            "width": null
          }
        },
        "c6d0e134303a4fbaab235ed7936c0aec": {
          "model_module": "@jupyter-widgets/controls",
          "model_name": "ProgressStyleModel",
          "model_module_version": "1.5.0",
          "state": {
            "_model_module": "@jupyter-widgets/controls",
            "_model_module_version": "1.5.0",
            "_model_name": "ProgressStyleModel",
            "_view_count": null,
            "_view_module": "@jupyter-widgets/base",
            "_view_module_version": "1.2.0",
            "_view_name": "StyleView",
            "bar_color": null,
            "description_width": ""
          }
        },
        "00b658d618ed450994e5645883b4c762": {
          "model_module": "@jupyter-widgets/base",
          "model_name": "LayoutModel",
          "model_module_version": "1.2.0",
          "state": {
            "_model_module": "@jupyter-widgets/base",
            "_model_module_version": "1.2.0",
            "_model_name": "LayoutModel",
            "_view_count": null,
            "_view_module": "@jupyter-widgets/base",
            "_view_module_version": "1.2.0",
            "_view_name": "LayoutView",
            "align_content": null,
            "align_items": null,
            "align_self": null,
            "border": null,
            "bottom": null,
            "display": null,
            "flex": null,
            "flex_flow": null,
            "grid_area": null,
            "grid_auto_columns": null,
            "grid_auto_flow": null,
            "grid_auto_rows": null,
            "grid_column": null,
            "grid_gap": null,
            "grid_row": null,
            "grid_template_areas": null,
            "grid_template_columns": null,
            "grid_template_rows": null,
            "height": null,
            "justify_content": null,
            "justify_items": null,
            "left": null,
            "margin": null,
            "max_height": null,
            "max_width": null,
            "min_height": null,
            "min_width": null,
            "object_fit": null,
            "object_position": null,
            "order": null,
            "overflow": null,
            "overflow_x": null,
            "overflow_y": null,
            "padding": null,
            "right": null,
            "top": null,
            "visibility": null,
            "width": null
          }
        },
        "e4b5e17002a641458c1e5764baf73b08": {
          "model_module": "@jupyter-widgets/controls",
          "model_name": "DescriptionStyleModel",
          "model_module_version": "1.5.0",
          "state": {
            "_model_module": "@jupyter-widgets/controls",
            "_model_module_version": "1.5.0",
            "_model_name": "DescriptionStyleModel",
            "_view_count": null,
            "_view_module": "@jupyter-widgets/base",
            "_view_module_version": "1.2.0",
            "_view_name": "StyleView",
            "description_width": ""
          }
        },
        "c0772a05a07c4764a8366af5c5788e3e": {
          "model_module": "@jupyter-widgets/controls",
          "model_name": "HBoxModel",
          "model_module_version": "1.5.0",
          "state": {
            "_dom_classes": [],
            "_model_module": "@jupyter-widgets/controls",
            "_model_module_version": "1.5.0",
            "_model_name": "HBoxModel",
            "_view_count": null,
            "_view_module": "@jupyter-widgets/controls",
            "_view_module_version": "1.5.0",
            "_view_name": "HBoxView",
            "box_style": "",
            "children": [
              "IPY_MODEL_12664b664a754ee8a31fb90eca262bcb",
              "IPY_MODEL_2b71e21fd5034226bf0a255dc860fab9",
              "IPY_MODEL_cac8eb34bd4642d5be5d2fff41edc3b5"
            ],
            "layout": "IPY_MODEL_721c5a985ec3411491f75552763f26e4"
          }
        },
        "12664b664a754ee8a31fb90eca262bcb": {
          "model_module": "@jupyter-widgets/controls",
          "model_name": "HTMLModel",
          "model_module_version": "1.5.0",
          "state": {
            "_dom_classes": [],
            "_model_module": "@jupyter-widgets/controls",
            "_model_module_version": "1.5.0",
            "_model_name": "HTMLModel",
            "_view_count": null,
            "_view_module": "@jupyter-widgets/controls",
            "_view_module_version": "1.5.0",
            "_view_name": "HTMLView",
            "description": "",
            "description_tooltip": null,
            "layout": "IPY_MODEL_52c4d30a91364afd8d33c8dfd4a4b8be",
            "placeholder": "​",
            "style": "IPY_MODEL_f626a1747bb14eb3961267293052f7b3",
            "value": "tokenizer.json: 100%"
          }
        },
        "2b71e21fd5034226bf0a255dc860fab9": {
          "model_module": "@jupyter-widgets/controls",
          "model_name": "FloatProgressModel",
          "model_module_version": "1.5.0",
          "state": {
            "_dom_classes": [],
            "_model_module": "@jupyter-widgets/controls",
            "_model_module_version": "1.5.0",
            "_model_name": "FloatProgressModel",
            "_view_count": null,
            "_view_module": "@jupyter-widgets/controls",
            "_view_module_version": "1.5.0",
            "_view_name": "ProgressView",
            "bar_style": "success",
            "description": "",
            "description_tooltip": null,
            "layout": "IPY_MODEL_93a5bfd761b84762b5488b86f5e194e5",
            "max": 435797,
            "min": 0,
            "orientation": "horizontal",
            "style": "IPY_MODEL_4858668b06b54cd0b079538036783b84",
            "value": 435797
          }
        },
        "cac8eb34bd4642d5be5d2fff41edc3b5": {
          "model_module": "@jupyter-widgets/controls",
          "model_name": "HTMLModel",
          "model_module_version": "1.5.0",
          "state": {
            "_dom_classes": [],
            "_model_module": "@jupyter-widgets/controls",
            "_model_module_version": "1.5.0",
            "_model_name": "HTMLModel",
            "_view_count": null,
            "_view_module": "@jupyter-widgets/controls",
            "_view_module_version": "1.5.0",
            "_view_name": "HTMLView",
            "description": "",
            "description_tooltip": null,
            "layout": "IPY_MODEL_988fcac21f6f4353a71b5d039e1087c8",
            "placeholder": "​",
            "style": "IPY_MODEL_4179c3cb236043d28a8d43cb4a430c47",
            "value": " 436k/436k [00:00&lt;00:00, 10.3MB/s]"
          }
        },
        "721c5a985ec3411491f75552763f26e4": {
          "model_module": "@jupyter-widgets/base",
          "model_name": "LayoutModel",
          "model_module_version": "1.2.0",
          "state": {
            "_model_module": "@jupyter-widgets/base",
            "_model_module_version": "1.2.0",
            "_model_name": "LayoutModel",
            "_view_count": null,
            "_view_module": "@jupyter-widgets/base",
            "_view_module_version": "1.2.0",
            "_view_name": "LayoutView",
            "align_content": null,
            "align_items": null,
            "align_self": null,
            "border": null,
            "bottom": null,
            "display": null,
            "flex": null,
            "flex_flow": null,
            "grid_area": null,
            "grid_auto_columns": null,
            "grid_auto_flow": null,
            "grid_auto_rows": null,
            "grid_column": null,
            "grid_gap": null,
            "grid_row": null,
            "grid_template_areas": null,
            "grid_template_columns": null,
            "grid_template_rows": null,
            "height": null,
            "justify_content": null,
            "justify_items": null,
            "left": null,
            "margin": null,
            "max_height": null,
            "max_width": null,
            "min_height": null,
            "min_width": null,
            "object_fit": null,
            "object_position": null,
            "order": null,
            "overflow": null,
            "overflow_x": null,
            "overflow_y": null,
            "padding": null,
            "right": null,
            "top": null,
            "visibility": null,
            "width": null
          }
        },
        "52c4d30a91364afd8d33c8dfd4a4b8be": {
          "model_module": "@jupyter-widgets/base",
          "model_name": "LayoutModel",
          "model_module_version": "1.2.0",
          "state": {
            "_model_module": "@jupyter-widgets/base",
            "_model_module_version": "1.2.0",
            "_model_name": "LayoutModel",
            "_view_count": null,
            "_view_module": "@jupyter-widgets/base",
            "_view_module_version": "1.2.0",
            "_view_name": "LayoutView",
            "align_content": null,
            "align_items": null,
            "align_self": null,
            "border": null,
            "bottom": null,
            "display": null,
            "flex": null,
            "flex_flow": null,
            "grid_area": null,
            "grid_auto_columns": null,
            "grid_auto_flow": null,
            "grid_auto_rows": null,
            "grid_column": null,
            "grid_gap": null,
            "grid_row": null,
            "grid_template_areas": null,
            "grid_template_columns": null,
            "grid_template_rows": null,
            "height": null,
            "justify_content": null,
            "justify_items": null,
            "left": null,
            "margin": null,
            "max_height": null,
            "max_width": null,
            "min_height": null,
            "min_width": null,
            "object_fit": null,
            "object_position": null,
            "order": null,
            "overflow": null,
            "overflow_x": null,
            "overflow_y": null,
            "padding": null,
            "right": null,
            "top": null,
            "visibility": null,
            "width": null
          }
        },
        "f626a1747bb14eb3961267293052f7b3": {
          "model_module": "@jupyter-widgets/controls",
          "model_name": "DescriptionStyleModel",
          "model_module_version": "1.5.0",
          "state": {
            "_model_module": "@jupyter-widgets/controls",
            "_model_module_version": "1.5.0",
            "_model_name": "DescriptionStyleModel",
            "_view_count": null,
            "_view_module": "@jupyter-widgets/base",
            "_view_module_version": "1.2.0",
            "_view_name": "StyleView",
            "description_width": ""
          }
        },
        "93a5bfd761b84762b5488b86f5e194e5": {
          "model_module": "@jupyter-widgets/base",
          "model_name": "LayoutModel",
          "model_module_version": "1.2.0",
          "state": {
            "_model_module": "@jupyter-widgets/base",
            "_model_module_version": "1.2.0",
            "_model_name": "LayoutModel",
            "_view_count": null,
            "_view_module": "@jupyter-widgets/base",
            "_view_module_version": "1.2.0",
            "_view_name": "LayoutView",
            "align_content": null,
            "align_items": null,
            "align_self": null,
            "border": null,
            "bottom": null,
            "display": null,
            "flex": null,
            "flex_flow": null,
            "grid_area": null,
            "grid_auto_columns": null,
            "grid_auto_flow": null,
            "grid_auto_rows": null,
            "grid_column": null,
            "grid_gap": null,
            "grid_row": null,
            "grid_template_areas": null,
            "grid_template_columns": null,
            "grid_template_rows": null,
            "height": null,
            "justify_content": null,
            "justify_items": null,
            "left": null,
            "margin": null,
            "max_height": null,
            "max_width": null,
            "min_height": null,
            "min_width": null,
            "object_fit": null,
            "object_position": null,
            "order": null,
            "overflow": null,
            "overflow_x": null,
            "overflow_y": null,
            "padding": null,
            "right": null,
            "top": null,
            "visibility": null,
            "width": null
          }
        },
        "4858668b06b54cd0b079538036783b84": {
          "model_module": "@jupyter-widgets/controls",
          "model_name": "ProgressStyleModel",
          "model_module_version": "1.5.0",
          "state": {
            "_model_module": "@jupyter-widgets/controls",
            "_model_module_version": "1.5.0",
            "_model_name": "ProgressStyleModel",
            "_view_count": null,
            "_view_module": "@jupyter-widgets/base",
            "_view_module_version": "1.2.0",
            "_view_name": "StyleView",
            "bar_color": null,
            "description_width": ""
          }
        },
        "988fcac21f6f4353a71b5d039e1087c8": {
          "model_module": "@jupyter-widgets/base",
          "model_name": "LayoutModel",
          "model_module_version": "1.2.0",
          "state": {
            "_model_module": "@jupyter-widgets/base",
            "_model_module_version": "1.2.0",
            "_model_name": "LayoutModel",
            "_view_count": null,
            "_view_module": "@jupyter-widgets/base",
            "_view_module_version": "1.2.0",
            "_view_name": "LayoutView",
            "align_content": null,
            "align_items": null,
            "align_self": null,
            "border": null,
            "bottom": null,
            "display": null,
            "flex": null,
            "flex_flow": null,
            "grid_area": null,
            "grid_auto_columns": null,
            "grid_auto_flow": null,
            "grid_auto_rows": null,
            "grid_column": null,
            "grid_gap": null,
            "grid_row": null,
            "grid_template_areas": null,
            "grid_template_columns": null,
            "grid_template_rows": null,
            "height": null,
            "justify_content": null,
            "justify_items": null,
            "left": null,
            "margin": null,
            "max_height": null,
            "max_width": null,
            "min_height": null,
            "min_width": null,
            "object_fit": null,
            "object_position": null,
            "order": null,
            "overflow": null,
            "overflow_x": null,
            "overflow_y": null,
            "padding": null,
            "right": null,
            "top": null,
            "visibility": null,
            "width": null
          }
        },
        "4179c3cb236043d28a8d43cb4a430c47": {
          "model_module": "@jupyter-widgets/controls",
          "model_name": "DescriptionStyleModel",
          "model_module_version": "1.5.0",
          "state": {
            "_model_module": "@jupyter-widgets/controls",
            "_model_module_version": "1.5.0",
            "_model_name": "DescriptionStyleModel",
            "_view_count": null,
            "_view_module": "@jupyter-widgets/base",
            "_view_module_version": "1.2.0",
            "_view_name": "StyleView",
            "description_width": ""
          }
        }
      }
    }
  },
  "nbformat": 4,
  "nbformat_minor": 0
}